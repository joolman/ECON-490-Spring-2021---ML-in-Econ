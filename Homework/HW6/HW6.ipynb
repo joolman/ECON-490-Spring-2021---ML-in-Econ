{
 "cells": [
  {
   "cell_type": "markdown",
   "metadata": {},
   "source": [
    "## Homework 6 - LearNNing Deeply\n",
    "### Your Name\n",
    "\n",
    "**COLLABORATED WITH:_ _ _ _ _ _ _ _ _ _ _ _ _ _ _ _ _ _ _ _**\n",
    "\n",
    "***\n",
    "***\n",
    "***\n",
    "\n",
    "**Submit a PDF export of your notebook (100% PENALTY IF NO PDF IS SUBMITTED)** \n",
    "\n",
    "* File > Export Notebook to HTML (you cannot upload .html to Compass), open .html in browser, print to PDF\n",
    "    - **_Ensure your code is not cut off_**\n",
    "\n",
    "***\n",
    "***\n",
    "***"
   ]
  },
  {
   "cell_type": "markdown",
   "metadata": {},
   "source": [
    "#### Table of Contents\n",
    "\n",
    "- [Theory](#Theory)\n",
    "    - [[9 Points] Gradient Descent](#[9-Points]-Gradient-Descent)\n",
    "    - [Acitvation Functions](#Acitvation-Functions)\n",
    "        - [[5 Points] Part 1](#[5-Points]-Part-1)\n",
    "        - [[3 Points] Part 2](#[3-Points]-Part-2)\n",
    "        - [[3 Points] Part 3](#[3-Points]-Part-3)\n",
    "- [Neural Network Anatomy](#Neural-Network-Anatomy)\n",
    "    - [[2 Points] Create ReLU](#[2-Points]-Create-ReLU)\n",
    "    - [[8 Points] Create Base Objects](#[8-Points]-Create-Base-Objects)\n",
    "    - [[6 Points] Evaluate Hidden Layer $z$s](#[6-Points]-Evaluate-Hidden-Layer-$z$s)\n",
    "    - [[4 Points] Evaluate Output Layer $z$s](#[4-Points]-Evaluate-Output-Layer-$z$s)\n",
    "    - [[4 Points] Print $\\hat{y}_1$](#[4-Points]-Print-$\\hat{y}_1$)\n",
    "    - [[4 Points] Print $\\frac{\\partial C_1}{\\partial w_{1,3}^2}$](#[4-Points]-Print-$\\frac{\\partial-C_1}{\\partial-w_{1,3}^2}$)\n",
    "    - [[4 Points] Print $\\frac{\\partial C_1}{\\partial b_2^1}$](#[4-Points]-Print-$\\frac{\\partial-C_1}{\\partial-b_2^1}$)\n",
    "    - [[8 Points] The First Batch](#[8-Points]-The-First-Batch)\n",
    "- [Application](#Application)\n",
    "    - [Model 1](#Model-1)\n",
    "        - [[6 Points] Initialization](#[6-Points]-Initialization)\n",
    "        - [[3 Points] Compilation](#[3-Points]-Compilation)\n",
    "        - [[9 Points] Fitting](#[9-Points]-Fitting)\n",
    "        - [[2 Points] Evaluation](#[2-Points]-Evaluation)\n",
    "    - [Model 2](#Model-2)\n",
    "        - [[6 Points] Initialization](#[6-Points]-Initialization)\n",
    "        - [[3 Points] Compilation](#[3-Points]-Compilation)\n",
    "        - [[9 Points] Fitting](#[9-Points]-Fitting)\n",
    "        - [[2 Points] Evaluation](#[2-Points]-Evaluation)"
   ]
  },
  {
   "cell_type": "code",
   "execution_count": null,
   "metadata": {},
   "outputs": [],
   "source": [
    "a = 9 + 5 + 3 + 3\n",
    "b = 2+8+6+4+4+4+4+8\n",
    "c = 6+3+9+2\n",
    "d = c\n",
    "a, b, c, d"
   ]
  },
  {
   "cell_type": "markdown",
   "metadata": {},
   "source": [
    "*********\n",
    "\n",
    "# Theory\n",
    "[TOP](#Homework-6---LearNNing-Deeply)\n",
    "\n",
    "## [9 Points] Gradient Descent \n",
    "[TOP](#Homework-6---LearNNing-Deeply)\n",
    "\n",
    "Compare and contrast the three different gradient descent algorithms we have covered with respect to:\n",
    "\n",
    "1. Whether or not they converge\n",
    "2. Their relative speed\n",
    "3. Whether they can escape non-global minima\n",
    "\n",
    "**Points**: 3 algorithms × 3 characteristics = 9 points."
   ]
  },
  {
   "cell_type": "markdown",
   "metadata": {},
   "source": [
    "**Answer**:\n",
    "\n"
   ]
  },
  {
   "cell_type": "markdown",
   "metadata": {},
   "source": [
    "************\n",
    "## Acitvation Functions\n",
    "[TOP](#Homework-6---LearNNing-Deeply)\n",
    "\n",
    "*************\n",
    "### [5 Points] Part 1\n",
    "\n",
    "What is the relationship between the output layer activation function and $\\hat{y}$?"
   ]
  },
  {
   "cell_type": "markdown",
   "metadata": {},
   "source": [
    "**Answer:**\n",
    "\n"
   ]
  },
  {
   "cell_type": "markdown",
   "metadata": {},
   "source": [
    "***********\n",
    "### [3 Points] Part 2\n",
    "\n",
    "Which activation function discussed in lecture can lead to dead neurons?"
   ]
  },
  {
   "cell_type": "markdown",
   "metadata": {},
   "source": [
    "**Answer:**\n",
    "\n"
   ]
  },
  {
   "cell_type": "markdown",
   "metadata": {},
   "source": [
    "*************\n",
    "### [3 Points] Part 3\n",
    "\n",
    "Name an activation function based off of your answer above that was discussed in class that solves the dead neuron problem."
   ]
  },
  {
   "cell_type": "markdown",
   "metadata": {},
   "source": [
    "**Answer:**\n",
    "\n"
   ]
  },
  {
   "cell_type": "markdown",
   "metadata": {},
   "source": [
    "*************\n",
    "# Neural Network Anatomy\n",
    "[TOP](#Homework-6---LearNNing-Deeply)\n",
    "\n",
    "\n",
    "**Directions:** The output should be from code chunks.\n",
    "You will likely find it helpful to first solve by hand before coding the solutions. \n",
    "*I genuinely always do this for more involved coding problems*.\n",
    "\n",
    "We are going to work with this neural network:\n",
    "\n",
    "![](hw_nn.png)\n",
    "\n",
    "Here is our made-up data:\n",
    "\n",
    "\n",
    "| Profit   | Step 1: Collect Pants | Step 2: ? |\n",
    "|----------|-----------|----------------|\n",
    "| -10      | 20        | -40            |\n",
    "| 1        | 5         | 42             |\n",
    "| $y_3$    | $x_{1,3}$ | $x_{2,3}$      |\n",
    "| $\\vdots$ | $\\vdots$  | $\\vdots$       |\n",
    "\n",
    "\n",
    "Here are some weights:\n",
    "\n",
    "| Layer  | Neuron | Input 1 Weight    | Input 2 Weight    | Input 3 Weight    | Bias        |\n",
    "|--------|--------|-------------------|-------------------|-------------------|-------------|\n",
    "| Hidden | Top    | $w^1_{1,1} = 0.3$ | $w^1_{1,2} = 0.4$ | *NA*              | $b^1_1 = 1$ |\n",
    "| Hidden | Middle | $w^1_{2,1} = 0.1$ | $w^1_{2,2} = 0.6$ | *NA*              | $b^1_2 = 1$ |\n",
    "| Hidden | Bottom | $w^1_{3,1} = 0.7$ | $w^1_{3,2} = 0.1$ | *NA*              | $b^1_3 = 1$ |\n",
    "| Output | Yup.   | $w^2_{1,1} = 0.9$ | $w^2_{1,2} = 0.7$ | $w^2_{1,3} = 0.5$ | $b^2_1 = 1$ |\n",
    "\n",
    "\n",
    "To make things a bit easier for you, use ReLU for the **hidden layer** activation function:\n",
    "\n",
    "$$\\text{ReLU}(z) = \\begin{cases}\n",
    "0 & \\text{if } z \\leq 0\\\\\n",
    "z & \\text{if } z > 0\n",
    "\\end{cases}$$\n",
    "\n",
    "\n",
    "Use the swanky `None` function for the **output layer** activation function:\n",
    "\n",
    "$$\\text{none}(z) = z$$\n",
    "\n",
    "\n",
    "Use the MSE for the cost function:\n",
    "\n",
    "$$ C_k = (\\hat{y}_k - y_k)^2$$\n",
    "\n",
    "And let\n",
    "\n",
    "$$\\eta = 0.05$$\n",
    "\n",
    "***********************\n",
    "\n",
    "**OBJECTIVE:** Determine how much we will adjust $w^2_{1,3}$ and $b^1_2$ using a batch of two observations.\n",
    "You will need to calculate the first iteration's $\\frac{\\partial C_1}{\\partial w^2_{1,3}}$ and $\\frac{\\partial C_1}{\\partial b^1_2}$.\n",
    "I will give you the second iteration's $\\frac{\\partial C_2}{\\partial w^2_{1,3}}$ and $\\frac{\\partial C_2}{\\partial b^1_2}$.\n",
    "\n",
    "***********\n",
    "\n",
    "## [2 Points] Create ReLU\n",
    "[TOP](#Homework-6---LearNNing-Deeply)\n",
    "\n",
    "Create a function `r()` for ReLU and `r_prime` for its derivative.\n",
    "\n",
    "*Note: you do not need any packages to do this sections.*"
   ]
  },
  {
   "cell_type": "code",
   "execution_count": null,
   "metadata": {},
   "outputs": [],
   "source": []
  },
  {
   "cell_type": "markdown",
   "metadata": {},
   "source": [
    "*************\n",
    "## [8 Points] Create Base Objects\n",
    "[TOP](#Homework-6---LearNNing-Deeply)\n",
    "\n",
    "\n",
    "Create unique objects in `python` for the $y_1$, $x_{1,1}$, $x_2,1$, the respective weights and biases, and $\\eta$."
   ]
  },
  {
   "cell_type": "code",
   "execution_count": null,
   "metadata": {},
   "outputs": [],
   "source": []
  },
  {
   "cell_type": "markdown",
   "metadata": {},
   "source": [
    "******\n",
    "## [6 Points] Evaluate Hidden Layer $z$s\n",
    "[TOP](#Homework-6---LearNNing-Deeply)\n",
    "\n",
    "Create unique objects for the hidden layer's $z$ values."
   ]
  },
  {
   "cell_type": "code",
   "execution_count": null,
   "metadata": {},
   "outputs": [],
   "source": []
  },
  {
   "cell_type": "markdown",
   "metadata": {},
   "source": [
    "*********\n",
    "## [4 Points] Evaluate Output Layer $z$s\n",
    "[TOP](#Homework-6---LearNNing-Deeply)\n",
    "\n",
    "Using the defined values of $z$ above, calculate $z_1^2$ using your definied function(s)."
   ]
  },
  {
   "cell_type": "code",
   "execution_count": null,
   "metadata": {},
   "outputs": [],
   "source": []
  },
  {
   "cell_type": "markdown",
   "metadata": {},
   "source": [
    "************\n",
    "## [4 Points] Print $\\hat{y}_1$\n",
    "[TOP](#Homework-6---LearNNing-Deeply)\n",
    "\n",
    "\n",
    "Calculate and print $\\hat{y}_1$."
   ]
  },
  {
   "cell_type": "code",
   "execution_count": null,
   "metadata": {},
   "outputs": [],
   "source": []
  },
  {
   "cell_type": "markdown",
   "metadata": {},
   "source": [
    "***********\n",
    "## [4 Points] Print $\\frac{\\partial C_1}{\\partial w_{1,3}^2}$\n",
    "[TOP](#Homework-6---LearNNing-Deeply)\n",
    "\n",
    "\n",
    "Using the chain rule, evaluate and print $\\frac{\\partial C_1}{\\partial w_{1,3}^2}$\n",
    "\n",
    "**2 POINTS EXTRA CREDIT** \n",
    "\n",
    "- Line 1 -  Use LaTeX to write out the chain rule as we did in class (the partial derivatives).\n",
    "- Line 2 - Plug in the to the derivatives the gerenerlized evaluation (no values, i.e. use $w^2_{1,3}$) of those partial derivatives."
   ]
  },
  {
   "cell_type": "code",
   "execution_count": null,
   "metadata": {},
   "outputs": [],
   "source": []
  },
  {
   "cell_type": "markdown",
   "metadata": {},
   "source": [
    "*********\n",
    "##  [4 Points] Print $\\frac{\\partial C_1}{\\partial b_2^1}$\n",
    "[TOP](#Homework-6---LearNNing-Deeply)\n",
    "\n",
    "\n",
    "Using the chain rule, evaluate and print $\\frac{\\partial C_1}{\\partial b_2^1}$.\n",
    "\n",
    "**2 POINTS EXTRA CREDIT** \n",
    "\n",
    "- Line 1 -  Use LaTeX to write out the chain rule as we did in class (the partial derivatives).\n",
    "- Line 2 - Plug in the to the derivatives the gerenerlized evaluation (no values, i.e. use $w^2_{1,3}$) of those partial derivatives."
   ]
  },
  {
   "cell_type": "code",
   "execution_count": null,
   "metadata": {},
   "outputs": [],
   "source": []
  },
  {
   "cell_type": "markdown",
   "metadata": {},
   "source": [
    "***********\n",
    "## [8 Points] The First Batch\n",
    "[TOP](#Homework-6---LearNNing-Deeply)\n",
    "\n",
    "\n",
    "If your code is correct, you can verify $\\frac{\\partial C_2}{\\partial w^2_{1,3}} = 703.134$ exactly and \n",
    "$\\frac{\\partial C_2}{\\partial b^1_2} = 56.574$ exactly.\n",
    "\n",
    "To wrap up this problem, by how much do we adjust $w^2_{1,3}$ and $b^1_2$ by respectively after our first tiny batch (not their new values)?"
   ]
  },
  {
   "cell_type": "code",
   "execution_count": null,
   "metadata": {},
   "outputs": [],
   "source": []
  },
  {
   "cell_type": "code",
   "execution_count": null,
   "metadata": {},
   "outputs": [],
   "source": []
  },
  {
   "cell_type": "markdown",
   "metadata": {},
   "source": [
    "***************\n",
    "# Application\n",
    "[TOP](#Homework-6---LearNNing-Deeply)\n",
    "\n",
    "**10% EXTRA CREDIT OPPORTUNITY**\n",
    "\n",
    "In the application section, you will fit two models to predict `l_incwage`:\n",
    "\n",
    "1. A single layer neural network\n",
    "2. Any neural network of your choosing using the Keras package\n",
    "\n",
    "The 10% extra credit on this assignment is awarded to the student with the chosen model that has the lowest testing RMSE.\n",
    "There is a new folder `AAA HW6 Competition` in the Box folder where you uploaded your final project data, in which you will submit your evaluation RMSE as a box note.\n",
    "I have provided an example (the RMSE of the first model) in the folder: copy and paste the entire RMSE into the title on the Box note followed by your name.\n",
    "\n",
    "**CONDITIONS FOR WINNING**\n",
    "\n",
    "1. The student with the best RMSE must provide a separate Jupyter Notebook to me containing the winning model after the competition closes. This notebook will be shared with the entire class (anonymously, if you prefer). The competition closes immediately after the HW due date.\n",
    "2. I must be able to `Restart Kernel and Run All Cells...` to produce the winning evaluation RMSE.\n",
    "3. You must use the setup (`train_test_split()`, etc.) provided to you below.\n",
    "4. You are limited to using Keras package exclusively for the neural network itself. However, you can use any architecture, number of layers, optimizer, learning rate, loss, etc. in your final model.\n",
    "5. You need not use all of the features from the HW data, but you may neither add additional features to the data nor transform any of the variables.\n",
    "6. You may have multiple submissions. If you submit more than one, you must delete your original submission and then add a new one to produce an updated time stamp to your submission.\n",
    "7. You must submit the RMSE in the created Box folder following the format I have provided.\n",
    "8. In the extremely unlikely event, I reserve the right to void any submission.\n",
    "\n",
    "Additional comments:\n",
    "\n",
    "- If there is a tie, the winner is chosen by the earliest submission. Submissions are time stamped.\n",
    "- You do not need to compete, however, you still need to fit a second model that does not match the first for this HW.\n",
    "- If you have any clarifying questions, please email me\n",
    "\n",
    "\n",
    "\n",
    "****************\n",
    "You will need our `stdz()` function."
   ]
  },
  {
   "cell_type": "code",
   "execution_count": null,
   "metadata": {},
   "outputs": [],
   "source": [
    "%run metrics.py"
   ]
  },
  {
   "cell_type": "markdown",
   "metadata": {},
   "source": [
    "Here are the packages we need:"
   ]
  },
  {
   "cell_type": "code",
   "execution_count": null,
   "metadata": {},
   "outputs": [],
   "source": [
    "# utilities\n",
    "import pandas as pd\n",
    "\n",
    "# processing\n",
    "from sklearn.model_selection import train_test_split\n",
    "\n",
    "# algorithms\n",
    "from tensorflow import keras\n",
    "\n",
    "# plotting\n",
    "import matplotlib.pyplot as plt"
   ]
  },
  {
   "cell_type": "markdown",
   "metadata": {},
   "source": [
    "Setting the seed."
   ]
  },
  {
   "cell_type": "code",
   "execution_count": null,
   "metadata": {},
   "outputs": [],
   "source": [
    "import numpy as np\n",
    "import os\n",
    "import random\n",
    "import tensorflow as tf\n",
    "\n",
    "np.random.seed(490)\n",
    "os.environ['PYTHONHASHSEED'] = '0'\n",
    "random.seed(490)\n",
    "tf.random.set_seed(490)"
   ]
  },
  {
   "cell_type": "markdown",
   "metadata": {},
   "source": [
    "Setting up our data"
   ]
  },
  {
   "cell_type": "code",
   "execution_count": null,
   "metadata": {},
   "outputs": [],
   "source": [
    "df = pd.read_pickle('C:/Users/johnj/Documents/Data/aml in econ 02 spring 2021/homework data/hw_data.pkl')\n",
    "df.set_index(['county', 'ind1990', 'occ2010'], inplace = True)\n",
    "\n",
    "# Pandas is doing the weird \"I don't want to join() properly\"\n",
    "# so I am going to force it with pd.concat()\n",
    "df = pd.concat([\n",
    "    df.drop(columns = 'degree'),\n",
    "    pd.get_dummies(df['degree'], drop_first = True)\n",
    "], axis = 1)\n",
    "\n",
    "y = df['l_incwage']\n",
    "x = df.drop(columns = 'l_incwage')\n",
    "\n",
    "x_train, x_test, y_train, y_test = train_test_split(x, y, \n",
    "                                                   train_size = 2/3,\n",
    "                                                   random_state = 490)\n",
    "\n",
    "x_train = x_train.apply(stdz, axis = 0)\n",
    "x_test  = x_test.apply(stdz, axis = 0)"
   ]
  },
  {
   "cell_type": "markdown",
   "metadata": {},
   "source": [
    "*****************\n",
    "## Model 1\n",
    "[TOP](#Homework-6---LearNNing-Deeply)\n",
    "\n",
    "Remember that this model should only have one hidden layer.\n",
    "\n",
    "*********\n",
    "### [6 Points] Initialization\n",
    "[TOP](#Homework-6---LearNNing-Deeply)\n",
    "\n",
    "\n",
    "**[4 Points]** Define a \n",
    "\n",
    "1. Sequential model\n",
    "2. with an appropriate input shape\n",
    "3. with one hidden layer that has a size of 100 and a ReLU activation function\n",
    "4. with an output layer that has a shape of 1 and a linear activation function"
   ]
  },
  {
   "cell_type": "code",
   "execution_count": null,
   "metadata": {},
   "outputs": [],
   "source": []
  },
  {
   "cell_type": "markdown",
   "metadata": {},
   "source": [
    "**[2 Points]** Print the model summary"
   ]
  },
  {
   "cell_type": "code",
   "execution_count": null,
   "metadata": {},
   "outputs": [],
   "source": []
  },
  {
   "cell_type": "markdown",
   "metadata": {},
   "source": [
    "*************\n",
    "### [3 Points] Compilation\n",
    "[TOP](#Homework-6---LearNNing-Deeply)\n",
    "\n",
    "Compile the model with \n",
    "\n",
    "1. a loss of `'mean_squared_error'`\n",
    "2. a metric of `tf.keras.metrics.RootMeanSquaredError()`\n",
    "3. an `'adam'` optimizer"
   ]
  },
  {
   "cell_type": "code",
   "execution_count": null,
   "metadata": {},
   "outputs": [],
   "source": []
  },
  {
   "cell_type": "markdown",
   "metadata": {},
   "source": [
    "*********\n",
    "### [9 Points] Fitting\n",
    "[TOP](#Homework-6---LearNNing-Deeply)\n",
    "\n",
    "1. Set up early stopping with a patience of 4"
   ]
  },
  {
   "cell_type": "code",
   "execution_count": null,
   "metadata": {},
   "outputs": [],
   "source": []
  },
  {
   "cell_type": "markdown",
   "metadata": {},
   "source": [
    "Fit the model with\n",
    "\n",
    "2. a batch size of 128\n",
    "3. 20 epochs\n",
    "4. a validation split of 1/5\n",
    "5. input the early stopping"
   ]
  },
  {
   "cell_type": "code",
   "execution_count": null,
   "metadata": {},
   "outputs": [],
   "source": []
  },
  {
   "cell_type": "markdown",
   "metadata": {},
   "source": [
    "Produce a plot of the history.\n",
    "\n",
    "6. plot only the training RSMSE \n",
    "7. and validation RMSE\n",
    "8. adjust the ylimits\n",
    "9. Add a grid"
   ]
  },
  {
   "cell_type": "code",
   "execution_count": null,
   "metadata": {},
   "outputs": [],
   "source": []
  },
  {
   "cell_type": "markdown",
   "metadata": {},
   "source": [
    "***********\n",
    "### [2 Points] Evaluation\n",
    "[TOP](#Homework-6---LearNNing-Deeply)\n",
    "\n",
    "1. Evaluate the model\n",
    "2. Only print the RMSE"
   ]
  },
  {
   "cell_type": "code",
   "execution_count": null,
   "metadata": {},
   "outputs": [],
   "source": []
  },
  {
   "cell_type": "markdown",
   "metadata": {},
   "source": [
    "******************\n",
    "## Model 2\n",
    "[TOP](#Homework-6---LearNNing-Deeply)\n",
    "\n",
    "\n",
    "Your second chosen model may not match the model above. \n",
    "Have fun!\n",
    "\n",
    "*********\n",
    "### [6 Points] Initialization\n",
    "[TOP](#Homework-6---LearNNing-Deeply)\n",
    "\n",
    "Define your chosen model."
   ]
  },
  {
   "cell_type": "code",
   "execution_count": null,
   "metadata": {},
   "outputs": [],
   "source": []
  },
  {
   "cell_type": "markdown",
   "metadata": {},
   "source": [
    "*************\n",
    "### [3 Points] Compilation\n",
    "[TOP](#Homework-6---LearNNing-Deeply)\n",
    "\n",
    "Compile your model with your chosen\n",
    "\n",
    "1. loss\n",
    "3. optimizer\n",
    "\n",
    "You must use at least the RMSE metric:\n",
    "\n",
    "3. a metric of `tf.keras.metrics.RootMeanSquaredError()`"
   ]
  },
  {
   "cell_type": "code",
   "execution_count": null,
   "metadata": {},
   "outputs": [],
   "source": []
  },
  {
   "cell_type": "markdown",
   "metadata": {},
   "source": [
    "*********\n",
    "### [9 Points] Fitting\n",
    "[TOP](#Homework-6---LearNNing-Deeply)\n",
    "\n",
    "- **[5 Points]** Fit your chosen model\n",
    "- **[4 Points]** Plot the history"
   ]
  },
  {
   "cell_type": "code",
   "execution_count": null,
   "metadata": {},
   "outputs": [],
   "source": []
  },
  {
   "cell_type": "markdown",
   "metadata": {},
   "source": [
    "***********\n",
    "### [2 Points] Evaluation\n",
    "[TOP](#Homework-6---LearNNing-Deeply)\n",
    "\n",
    "\n",
    "1. Evaluate the model\n",
    "2. Only print the RMSE"
   ]
  },
  {
   "cell_type": "code",
   "execution_count": null,
   "metadata": {},
   "outputs": [],
   "source": []
  }
 ],
 "metadata": {
  "kernelspec": {
   "display_name": "Python 3",
   "language": "python",
   "name": "python3"
  },
  "language_info": {
   "codemirror_mode": {
    "name": "ipython",
    "version": 3
   },
   "file_extension": ".py",
   "mimetype": "text/x-python",
   "name": "python",
   "nbconvert_exporter": "python",
   "pygments_lexer": "ipython3",
   "version": "3.8.5"
  }
 },
 "nbformat": 4,
 "nbformat_minor": 5
}
