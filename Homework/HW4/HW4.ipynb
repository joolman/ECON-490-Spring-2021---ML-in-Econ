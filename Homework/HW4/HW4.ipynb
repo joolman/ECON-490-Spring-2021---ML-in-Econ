{
 "cells": [
  {
   "cell_type": "markdown",
   "id": "instructional-cycling",
   "metadata": {},
   "source": [
    "##### Homework 4 - Rise of the Machines\n",
    "### Your Name\n",
    "\n",
    "**COLLABORATED WITH:_ _ _ _ _ _ _ _ _ _ _ _ _ _ _ _ _ _ _ _**\n",
    "\n",
    "***\n",
    "***\n",
    "***\n",
    "\n",
    "**Submit a PDF export of your notebook (100% PENALTY IF NO PDF IS SUBMITTED)** \n",
    "\n",
    "* File > Export Notebook to HTML (you cannot upload .html to Compass), open .html in browser, print to PDF\n",
    "    - You need to use this option if you have math with `\\begin{align} ... \\end{align}`.\n",
    "    - Ensure your code is not cut off\n",
    "\n",
    "***\n",
    "***\n",
    "***\n",
    "\n",
    "#### Table of Contents\n",
    "\n",
    "\n",
    "***********************************************************************************************\n",
    "# Intuition\n",
    "[TOP](#Homework-4---Rise-of-the-Machines)\n",
    "\n",
    "**Points are not awarded for correct answers**. \n",
    "Instead, points are awarded for explainations of why you are correct or why you are wrong.\n",
    "You must attempt to answer the question to receive any points.\n",
    "Points for intuition questions are pass/fail.\n",
    "\n",
    "Answers such as \"I am correct/wrong\" or \"because the textbook says so\" are invalid. \n",
    "Show us you know what you are talking about: explain.\n",
    "\n",
    "\n",
    "## [5 Points] HoML Ch5 Q1\n",
    "\n",
    "What is the fundamental idea behind Support Vector Machines (classification)?"
   ]
  },
  {
   "cell_type": "markdown",
   "id": "indoor-exhaust",
   "metadata": {},
   "source": [
    "Answer:\n",
    "* \"widest street\"\n",
    "* \"minimizing margin violation\""
   ]
  },
  {
   "cell_type": "markdown",
   "id": "preliminary-knock",
   "metadata": {},
   "source": [
    "Why are you correct or wrong?"
   ]
  },
  {
   "cell_type": "raw",
   "id": "musical-amendment",
   "metadata": {},
   "source": []
  },
  {
   "cell_type": "markdown",
   "id": "chubby-animal",
   "metadata": {},
   "source": [
    "## [5 Points] HoML Ch5 Q3\n",
    "\n",
    "Why is it important to scale the inputs when using SVMs?"
   ]
  },
  {
   "cell_type": "markdown",
   "id": "interior-square",
   "metadata": {},
   "source": [
    "Answer:\n",
    "\n",
    "* variables with larger values will dominate the decision threshold/street\n",
    "* not fit the best (widest) possible street between classes"
   ]
  },
  {
   "cell_type": "markdown",
   "id": "major-magnet",
   "metadata": {},
   "source": [
    "Why are you correct or wrong?"
   ]
  },
  {
   "cell_type": "raw",
   "id": "intended-footwear",
   "metadata": {},
   "source": []
  },
  {
   "cell_type": "markdown",
   "id": "hispanic-apple",
   "metadata": {},
   "source": [
    "***********\n",
    "# Theory\n",
    "[TOP](#Homework-4---Rise-of-the-Machines)\n",
    "\n",
    "***********\n",
    "## [5 Point] Maximial Margin Classifier Part 1\n",
    "[TOP](#Homework-4---Rise-of-the-Machines)\n",
    "\n",
    "What kind of kernel does a maximal margin classifier use?"
   ]
  },
  {
   "cell_type": "raw",
   "id": "false-mineral",
   "metadata": {},
   "source": []
  },
  {
   "cell_type": "markdown",
   "id": "opposed-snowboard",
   "metadata": {},
   "source": [
    "***********\n",
    "## [5 Point] Maximial Margin Classifier Part 2\n",
    "[TOP](#Homework-4---Rise-of-the-Machines)\n",
    "\n",
    "When does a maximal margin classifier fail?"
   ]
  },
  {
   "cell_type": "raw",
   "id": "necessary-montgomery",
   "metadata": {},
   "source": []
  },
  {
   "cell_type": "markdown",
   "id": "white-cambodia",
   "metadata": {},
   "source": [
    "***********\n",
    "## [10 Point] Multiple Classes\n",
    "[TOP](#Homework-4---Rise-of-the-Machines)\n",
    "\n",
    "Using an SVM to predict an 8 class label...\n",
    "\n",
    "**[5 points]** If we are using one vs. one classification, how many models are required to make a prediction?"
   ]
  },
  {
   "cell_type": "code",
   "execution_count": null,
   "id": "confirmed-chaos",
   "metadata": {},
   "outputs": [],
   "source": []
  },
  {
   "cell_type": "markdown",
   "id": "computational-america",
   "metadata": {},
   "source": [
    "**[5 points]** If we are using one vs. rest classification, how many models are required to make a prediction?"
   ]
  },
  {
   "cell_type": "code",
   "execution_count": null,
   "id": "funded-hybrid",
   "metadata": {},
   "outputs": [],
   "source": []
  },
  {
   "cell_type": "markdown",
   "id": "foster-fleece",
   "metadata": {},
   "source": [
    "****************\n",
    "# Application\n",
    "[TOP](#Homework-4---Rise-of-the-Machines)\n",
    "\n",
    "You will get more independence in this section.\n",
    "We will be using SVMs for regression (*use the continuous label!*).\n",
    "Please reference the `sklearn` API reference to determine which functions we need to use: https://scikit-learn.org/stable/modules/classes.html\n",
    "\n",
    "********\n",
    "## [9 Points] Preliminaries\n",
    "[TOP](#Homework-4---Rise-of-the-Machines)\n",
    "\n",
    "Checklist:\n",
    "\n",
    "- load all necessary packages and functions\n",
    "- **[3 points]** deal with variables that should be in the index\n",
    "- **[2 points]** deal with categorical variables\n",
    "- **[2 points]** perform a train-test split with a training size of 1/100 and random state of 490\n",
    "- **[2 points]** standardize the features"
   ]
  },
  {
   "cell_type": "code",
   "execution_count": null,
   "id": "controlled-samoa",
   "metadata": {},
   "outputs": [],
   "source": []
  },
  {
   "cell_type": "markdown",
   "id": "overall-palace",
   "metadata": {},
   "source": [
    "************\n",
    "## [4 Points] Null Model\n",
    "[TOP](#Homework-4---Rise-of-the-Machines)\n",
    "\n",
    "- **[2 points]** fit the null model\n",
    "- **[2 points]** save the rmse"
   ]
  },
  {
   "cell_type": "code",
   "execution_count": null,
   "id": "nutritional-assembly",
   "metadata": {},
   "outputs": [],
   "source": []
  },
  {
   "cell_type": "markdown",
   "id": "stopped-stock",
   "metadata": {},
   "source": [
    "******\n",
    "## [16 Points] Polynomial Kernel\n",
    "[TOP](#Homework-4---Rise-of-the-Machines)\n",
    "\n",
    "Using a polynomial kernel, use 5-fold cross-validation grid search to identify optimal values of\n",
    "\n",
    "- **[4 points]** `degree` - up to a third order\n",
    "- **[4 points]** `C` - to the closest magnitude ($10^n$)\n",
    "- **[4 points]** `epsilon` - to the closest magnitude ($10^n$)\n",
    "- `coef0` - IGNORE"
   ]
  },
  {
   "cell_type": "code",
   "execution_count": null,
   "id": "complimentary-camping",
   "metadata": {},
   "outputs": [],
   "source": []
  },
  {
   "cell_type": "markdown",
   "id": "framed-shock",
   "metadata": {},
   "source": [
    "**[2 points]** Refit on the whole training data using the cross-validated hyperparameters."
   ]
  },
  {
   "cell_type": "code",
   "execution_count": null,
   "id": "contained-banking",
   "metadata": {},
   "outputs": [],
   "source": []
  },
  {
   "cell_type": "markdown",
   "id": "plastic-corporation",
   "metadata": {},
   "source": [
    "**[2 points]** Obtain the RMSE. "
   ]
  },
  {
   "cell_type": "code",
   "execution_count": null,
   "id": "documented-annual",
   "metadata": {},
   "outputs": [],
   "source": []
  },
  {
   "cell_type": "markdown",
   "id": "wired-evidence",
   "metadata": {},
   "source": [
    "******\n",
    "## [12 Points] RBF\n",
    "[TOP](#Homework-4---Rise-of-the-Machines)\n",
    "\n",
    "Using a radial basis function kernel, use 5-fold cross-validation grid search to identify optimal values of\n",
    "\n",
    "- **[4 points]** `C` - to the closest magnitude ($10^n$)\n",
    "- **[4 points]** `gamma` - to the closest magnitude ($10^n$)\n",
    "- `epsilon` - IGNORE"
   ]
  },
  {
   "cell_type": "code",
   "execution_count": null,
   "id": "vietnamese-consultancy",
   "metadata": {},
   "outputs": [],
   "source": []
  },
  {
   "cell_type": "markdown",
   "id": "hollow-finish",
   "metadata": {},
   "source": [
    "**[2 points]** Refit on the whole training data using the cross-validated hyperparameters."
   ]
  },
  {
   "cell_type": "code",
   "execution_count": null,
   "id": "distinguished-arrival",
   "metadata": {},
   "outputs": [],
   "source": []
  },
  {
   "cell_type": "markdown",
   "id": "liked-invasion",
   "metadata": {},
   "source": [
    "**[2 points]** Obtain the RMSE. "
   ]
  },
  {
   "cell_type": "code",
   "execution_count": null,
   "id": "generous-medicine",
   "metadata": {},
   "outputs": [],
   "source": []
  },
  {
   "cell_type": "markdown",
   "id": "sound-shirt",
   "metadata": {},
   "source": [
    "**********\n",
    "## [9 Points] Comparison\n",
    "[TOP](#Homework2---EDA,-Regression,-&-You)\n"
   ]
  },
  {
   "cell_type": "markdown",
   "id": "indian-entry",
   "metadata": {},
   "source": [
    "**[2 points]** Print the RMSE for the polynomial and RBF kernel."
   ]
  },
  {
   "cell_type": "code",
   "execution_count": null,
   "id": "measured-present",
   "metadata": {},
   "outputs": [],
   "source": []
  },
  {
   "cell_type": "markdown",
   "id": "suited-training",
   "metadata": {},
   "source": [
    "**[3 points]** Caluclate and print the percent improvement from the null model."
   ]
  },
  {
   "cell_type": "code",
   "execution_count": null,
   "id": "thrown-compromise",
   "metadata": {},
   "outputs": [],
   "source": []
  },
  {
   "cell_type": "markdown",
   "id": "greek-generic",
   "metadata": {},
   "source": [
    "The values of these RMSE are **VERY** close to the values in HW2, however, we used a magnitude fewer observations with the SVMs!\n",
    "\n",
    "**[2 points]** Fit a linear regression using `statsmodels` on the training data (all features) used in the support vector machines in this assignment."
   ]
  },
  {
   "cell_type": "code",
   "execution_count": null,
   "id": "determined-hampshire",
   "metadata": {},
   "outputs": [],
   "source": []
  },
  {
   "cell_type": "markdown",
   "id": "comprehensive-water",
   "metadata": {},
   "source": [
    "**[2 points]** Print the RMSE from the OLS model."
   ]
  },
  {
   "cell_type": "code",
   "execution_count": null,
   "id": "controlling-chile",
   "metadata": {},
   "outputs": [],
   "source": []
  },
  {
   "cell_type": "markdown",
   "id": "unlimited-exploration",
   "metadata": {},
   "source": [
    "**************\n",
    "## [6 Points] A Number of Observations Tangent\n",
    "[TOP](#Homework2---EDA,-Regression,-&-You)\n",
    "\n",
    "**[2 points]** Print the summary."
   ]
  },
  {
   "cell_type": "code",
   "execution_count": null,
   "id": "legitimate-pencil",
   "metadata": {},
   "outputs": [],
   "source": []
  },
  {
   "cell_type": "markdown",
   "id": "least-religious",
   "metadata": {},
   "source": [
    "Compare the significance levels with HW2. \n",
    "\n",
    "**[3 points]** All else equal, how does the number of observations influence your statistical significance?"
   ]
  },
  {
   "cell_type": "raw",
   "id": "narrative-mandate",
   "metadata": {},
   "source": []
  },
  {
   "cell_type": "markdown",
   "id": "elder-rings",
   "metadata": {},
   "source": [
    "Refer back to the types of error in lecture 8.\n",
    "\n",
    "**[3 points]** What does an increase in observations increase?"
   ]
  },
  {
   "cell_type": "raw",
   "id": "possible-flood",
   "metadata": {},
   "source": []
  },
  {
   "cell_type": "markdown",
   "id": "alternative-bread",
   "metadata": {},
   "source": [
    "**************\n",
    "## [12 Points] A Simple Problem\n",
    "[TOP](#Homework2---EDA,-Regression,-&-You)"
   ]
  },
  {
   "cell_type": "markdown",
   "id": "american-period",
   "metadata": {},
   "source": [
    "- **[4 points]** Resample the data with a 50-50 train-test split using a random state of 490."
   ]
  },
  {
   "cell_type": "code",
   "execution_count": null,
   "id": "silent-bahrain",
   "metadata": {},
   "outputs": [],
   "source": []
  },
  {
   "cell_type": "markdown",
   "id": "royal-kidney",
   "metadata": {},
   "source": [
    "- **[4 points]** Print the RMSE of a new OLS model fitted on the newly split data."
   ]
  },
  {
   "cell_type": "code",
   "execution_count": null,
   "id": "pregnant-vermont",
   "metadata": {},
   "outputs": [],
   "source": []
  },
  {
   "cell_type": "markdown",
   "id": "stuffed-fishing",
   "metadata": {},
   "source": [
    "**[4 points]** Based upon the $\\approx$30% improvement and nearly identical RMSE with either 50% or 0.5% sized training data, would you say that predicting wages is a relatively simple or relatively complex prediction problem?"
   ]
  },
  {
   "cell_type": "raw",
   "id": "physical-heaven",
   "metadata": {},
   "source": []
  },
  {
   "cell_type": "markdown",
   "id": "threaded-vermont",
   "metadata": {},
   "source": [
    "**[for fun]** Print the summary of the second OLS model. \n",
    "Verify the p-values are truly smaller with more observations."
   ]
  },
  {
   "cell_type": "code",
   "execution_count": null,
   "id": "emotional-beads",
   "metadata": {},
   "outputs": [],
   "source": []
  }
 ],
 "metadata": {
  "kernelspec": {
   "display_name": "Python 3",
   "language": "python",
   "name": "python3"
  },
  "language_info": {
   "codemirror_mode": {
    "name": "ipython",
    "version": 3
   },
   "file_extension": ".py",
   "mimetype": "text/x-python",
   "name": "python",
   "nbconvert_exporter": "python",
   "pygments_lexer": "ipython3",
   "version": "3.9.5"
  }
 },
 "nbformat": 4,
 "nbformat_minor": 5
}
