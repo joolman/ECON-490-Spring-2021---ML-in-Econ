{
 "cells": [
  {
   "cell_type": "markdown",
   "id": "neutral-perfume",
   "metadata": {},
   "source": [
    "## Homework 2 - EDA, Regression, & You\n",
    "### Your Name\n",
    "\n",
    "**COLLABORATED WITH:_ _ _ _ _ _ _ _ _ _ _ _ _ _ _ _ _ _ _ _**\n",
    "\n",
    "***\n",
    "***\n",
    "***\n",
    "\n",
    "**Submit a PDF export of your notebook (100% PENALTY IF NO PDF IS SUBMITTED)** \n",
    "\n",
    "* File > Export Notebook to HTML (you cannot upload .html to Compass), open .html in browser, print to PDF\n",
    "    - You need to use this option if you have math with `\\begin{align} ... \\end{align}`.\n",
    "    - Ensure your code is not cut off\n",
    "\n",
    "***\n",
    "***\n",
    "***\n",
    "\n",
    "#### Table of Contents\n",
    "\n",
    "- [Intuition](#Intuition)\n",
    "    - [[5 Points] HoML Ch1 Q12](#[5-Points]-HoML-Ch1-Q12)\n",
    "    - [[5 Points] HoML Ch1 Q17](#[5-Points]-HoML-Ch1-Q17)\n",
    "* [Theory](#Theory)\n",
    "    - [[20 Points] Bias-Variance Tradeoff](#[20-Points]-Bias-Variance-Tradeoff)\n",
    "    - [[15 Points] Unbiased SLR Estimator](#[15-Points]-Unbiased-SLR-Estimator)\n",
    "* [Application - EDA](#Application---EDA)\n",
    "    - [[10 Points] Setup](#[10-Points]-Setup)\n",
    "    - [[5 Points] Summary Statistics](#[5-Points]-Summary-Statistics)\n",
    "    - [[10 Points] Figures](#[10-Points]-Figures)\n",
    "- [Application - Regression](#Application---Regression)\n",
    "    - [[10 Points] Data Prep](#[10-Points]-Data-Prep)\n",
    "    - [[2 Points] Null Model](#[2-Points]-Null-Model)\n",
    "    - [[4 Points] Backward Selection](#[4-Points]-Backward-Selection)\n",
    "    - [[10 Points] Regularization](#[10-Points]-Regularization)\n",
    "    - [[4 Points] Comparison](#[4-Points]-Comparison)\n",
    "\n",
    "\n",
    "\n",
    "***********************************************************************************************\n",
    "# Intuition\n",
    "[TOP](#Homework2---EDA,-Regression,-&-You)\n",
    "\n",
    "**Points are not awarded for correct answers**. \n",
    "Instead, points are awarded for explainations of why you are correct or why you are wrong.\n",
    "You must attempt to answer the question to receive any points.\n",
    "Points for intuition questions are pass/fail.\n",
    "\n",
    "Answers such as \"I am correct/wrong\" or \"because the textbook says so\" are invalid. \n",
    "Show us you know what you are talking about: explain."
   ]
  },
  {
   "cell_type": "markdown",
   "id": "great-destination",
   "metadata": {},
   "source": [
    "## [5 Points] HoML Ch1 Q12\n",
    "\n",
    "What is the difference between a model parameter and a learning algorithm's hyperparameter?"
   ]
  },
  {
   "cell_type": "markdown",
   "id": "attractive-interference",
   "metadata": {},
   "source": []
  },
  {
   "cell_type": "markdown",
   "id": "greatest-mongolia",
   "metadata": {},
   "source": [
    "Why are you correct or wrong?"
   ]
  },
  {
   "cell_type": "markdown",
   "id": "developmental-florist",
   "metadata": {},
   "source": []
  },
  {
   "cell_type": "markdown",
   "id": "external-recommendation",
   "metadata": {},
   "source": [
    "## [5 Points] HoML Ch1 Q17\n",
    "\n",
    "What is the purpose of the validation set?"
   ]
  },
  {
   "cell_type": "markdown",
   "id": "studied-socket",
   "metadata": {},
   "source": []
  },
  {
   "cell_type": "markdown",
   "id": "advanced-orchestra",
   "metadata": {},
   "source": [
    "Why are you correct or wrong?"
   ]
  },
  {
   "cell_type": "markdown",
   "id": "prepared-pursuit",
   "metadata": {},
   "source": []
  },
  {
   "cell_type": "markdown",
   "id": "copyrighted-guarantee",
   "metadata": {},
   "source": [
    "****\n",
    "# Theory\n",
    "[TOP](#Homework2---EDA,-Regression,-&-You)\n",
    "\n",
    "You firstly get to show the bias-variance tradeoff.\n",
    "This is an excellent interview question, so you should know it.\n",
    "The second is that the conditional expectation of the OLS estimator is the population coefficient.\n",
    "\n",
    "**ENSURE YOUR MATH IS NOT CUT OFF IN YOUR FINAL PDF.** You cannot get points for math **_or_** explanations we cannot see.\n",
    "\n",
    "## [20 Points] Bias-Variance Tradeoff\n",
    "[TOP](#Homework2---EDA,-Regression,-&-You)\n",
    "\n",
    "Start from $E[e_i^2]$ and explain what you are doing each step.\n",
    "Points are awarded for the explanation, not the math.\n",
    "If something is zero, tell me why, even if you think it is obvious.\n",
    "Show me you know what you are doing.\n",
    "You are welcome to drop subscripts and $(\\cdot)$.\n",
    "\n",
    "To be specific, show that\n",
    "$$\n",
    "\\begin{align}\n",
    "    E[e_i^2] & = Bias[\\hat{f}(x_i)]^2 + V[\\hat{f}(x_i)] + V[\\epsilon_i]\\\\\n",
    "    & = (f(x_i) - E[\\hat{f}(x_i))^2 + E[(\\hat{f}(x_i) - E[\\hat{f}(x_i)])^2] + E[(\\epsilon - E[\\epsilon])^2]\n",
    "\\end{align}\n",
    "$$\n",
    "\n",
    "Ingredients:\n",
    "\n",
    "1. $y_i = \\hat{f}(x_i) + e_i$\n",
    "2. $y_i = f(x_i) + \\epsilon_i$\n",
    "3. $E[f(x_i)] = f(x_i)$\n",
    "4. $E[E[\\hat{f}(x_i)]] = E[\\hat{f}(x_i)] \\neq \\hat{f}(x_i)$\n",
    "5. $E[\\epsilon_i] = 0$\n",
    "6. $V[\\hat{f}(x_i)] = E[(\\hat{f}(x_i) - E[\\hat{f}(x_i)])^2] = E[\\hat{f}(x_i)^2] - E[\\hat{f}(x_i)]^2]$\n",
    "7. $Cov(\\hat{f}(x_i), \\epsilon_i) = E[(\\hat{f}(x_i) - E[\\hat{f}(x_i)])(\\epsilon_i - E[\\epsilon_i])] = 0$ by independence of $\\hat{f}$ and $\\epsilon$\n",
    "8. $(a + b + c) = a^2 + b^2 + c^2 + 2ab + 2ac + 2bc$"
   ]
  },
  {
   "cell_type": "markdown",
   "id": "satisfied-graphic",
   "metadata": {},
   "source": [
    "**********\n",
    "Complete the following:\n",
    "\n",
    "$$\n",
    "\\begin{align}\n",
    "    E[e_i^2] & = E[(y - \\hat{f})^2] \\tag{by (1)}\\\\\n",
    "    & = E\\{[(f - E[\\hat{f}]) + \\epsilon + (E[\\hat{f}] - \\hat{f})]^2\\} \\tag{added zero}\\\\\n",
    "    & = E[(f-E[\\hat{f}])^2] + E[\\epsilon^2] + E[(E[\\hat{f}] - \\hat{f})^2] +\\\\\n",
    "    & + 2 E[(f - E[\\hat{f}])\\epsilon] + 2E[(f-E[\\hat{f}])(E[\\hat{f}]-\\hat{f})] + 2E[\\epsilon(E[\\hat{f}]-\\hat{f})] \\tag{by (8)} \\\\\n",
    "    & \\vdots\\\\    \n",
    "    & = Bias[\\hat{f}]^2 + V[\\epsilon] + V[\\hat{f}]\n",
    "\\end{align}\n",
    "$$"
   ]
  },
  {
   "cell_type": "markdown",
   "id": "powered-admission",
   "metadata": {},
   "source": [
    "## [15 Points] Unbiased SLR Estimator\n",
    "[TOP](#Homework2---EDA,-Regression,-&-You)\n",
    "\n",
    "Show $E[\\hat{\\beta}|X] = \\beta$.\n",
    "\n",
    "*An aside on conditional expectation:* $E[\\hat{f}(x)] \\neq \\hat{f}(x)$*, however,* $E[\\hat{f}(x)|x] = \\hat{f}(x)$ *because* $\\hat{f}(x)$ *is a function of* $x$.\n",
    "\n",
    "Ingredients\n",
    "\n",
    "1. $y_i = \\alpha + x_i\\beta  + \\epsilon_i$\n",
    "2. $\\bar{y} = \\alpha + \\bar{x}\\beta$\n",
    "3. $E[h(x)|x] = h(x)$ for any function $h(x)$\n",
    "4. $E[\\epsilon|X] = 0$\n",
    "5. $\\hat{\\beta} = \\frac{\\sum_{i=1}^n(x_i - \\bar{x})(y_i - \\bar{y})}{\\sum_{i=1}^n(x_i - \\bar{x})^2}$"
   ]
  },
  {
   "cell_type": "markdown",
   "id": "beautiful-action",
   "metadata": {},
   "source": [
    "***\n",
    "Complete the following:\n",
    "$$\n",
    "\\begin{align*}\n",
    "  \\hat{\\beta} & = \\frac{\\sum_{i=1}^n(x_i - \\bar{x})(y_i - \\bar{y})}{\\sum_{i=1}^n(x_i - \\bar{x})^2} \\tag{by (5)}\\\\\n",
    "  & \\vdots \\\\\n",
    "  & = \\beta  \\\\\n",
    "\\end{align*}\n",
    "$$"
   ]
  },
  {
   "cell_type": "markdown",
   "id": "lucky-remedy",
   "metadata": {},
   "source": [
    "***********\n",
    "# Application - EDA\n",
    "[TOP](#Homework2---EDA,-Regression,-&-You)\n",
    "\n",
    "*************\n",
    "## [10 Points] Setup\n",
    "[TOP](#Homework2---EDA,-Regression,-&-You)"
   ]
  },
  {
   "cell_type": "code",
   "execution_count": null,
   "id": "reliable-sound",
   "metadata": {},
   "outputs": [],
   "source": [
    "# Here you go\n",
    "import numpy as np\n",
    "import pandas as pd\n",
    "\n",
    "import statsmodels.api as sm\n",
    "from scipy.stats import binned_statistic\n",
    "\n",
    "from sklearn.model_selection import GridSearchCV, train_test_split\n",
    "import sklearn.linear_model as lm\n",
    "\n",
    "import matplotlib.pyplot as plt\n",
    "import seaborn as sns"
   ]
  },
  {
   "cell_type": "markdown",
   "id": "tracked-steering",
   "metadata": {},
   "source": [
    "**[5 points]** Set seaborn runtine configurations (title size, axes label size, xtick label size, ytick label size, figure size) larger than default (it need not match what is used in lecture)."
   ]
  },
  {
   "cell_type": "code",
   "execution_count": null,
   "id": "digital-shade",
   "metadata": {},
   "outputs": [],
   "source": []
  },
  {
   "cell_type": "markdown",
   "id": "hungry-wallace",
   "metadata": {},
   "source": [
    "**[1 point]** Import the homework data using whatever name for the object you like for the object."
   ]
  },
  {
   "cell_type": "code",
   "execution_count": null,
   "id": "recognized-internship",
   "metadata": {},
   "outputs": [],
   "source": []
  },
  {
   "cell_type": "markdown",
   "id": "informative-integer",
   "metadata": {},
   "source": [
    "This assignment is focused on predicting wages. \n",
    "\n",
    "- **[1 point]** Create dummy variables for the multiclass variable."
   ]
  },
  {
   "cell_type": "code",
   "execution_count": null,
   "id": "humanitarian-collapse",
   "metadata": {},
   "outputs": [],
   "source": []
  },
  {
   "cell_type": "markdown",
   "id": "medium-summit",
   "metadata": {},
   "source": [
    "There are three key variables which are not used in analysis.\n",
    "We also no longer need the `degree` variable.\n",
    "\n",
    "* **[2 points]** In whatever combination of your choosing, **append** to the index or **drop** these four variables\n",
    "* **[1 point]** Print the bottom 3 observations"
   ]
  },
  {
   "cell_type": "code",
   "execution_count": null,
   "id": "intensive-generic",
   "metadata": {},
   "outputs": [],
   "source": []
  },
  {
   "cell_type": "markdown",
   "id": "difficult-repeat",
   "metadata": {},
   "source": [
    "***\n",
    "## [5 Points] Summary Statistics \n",
    "[TOP](#Homework2---EDA,-Regression,-&-You)\n",
    "\n",
    "**[1 point]** `.describe()` the variables."
   ]
  },
  {
   "cell_type": "code",
   "execution_count": null,
   "id": "biblical-victory",
   "metadata": {},
   "outputs": [],
   "source": []
  },
  {
   "cell_type": "markdown",
   "id": "southern-dallas",
   "metadata": {},
   "source": [
    "**[1 point]** Do any of the non-dummy variables have a mean *drastically* different than their medians?\n",
    "\n",
    "- If yes, produce a histogram of these variables and consider a logarithm transformation. If it appears appropriate to transform them, then do so. If not, then do not transform them.\n",
    "- If no, then do not produce any figures."
   ]
  },
  {
   "cell_type": "markdown",
   "id": "medical-paradise",
   "metadata": {},
   "source": []
  },
  {
   "cell_type": "markdown",
   "id": "false-assist",
   "metadata": {},
   "source": [
    "\n",
    "- **[1 point]** Produce a correlation matrix of the data. *Hint:* `df.corr()`\n",
    "- **[3 points]** What are the top three most correlated features with the label `l_incwage`?"
   ]
  },
  {
   "cell_type": "code",
   "execution_count": null,
   "id": "universal-multiple",
   "metadata": {},
   "outputs": [],
   "source": []
  },
  {
   "cell_type": "markdown",
   "id": "lesser-there",
   "metadata": {},
   "source": []
  },
  {
   "cell_type": "markdown",
   "id": "institutional-lincoln",
   "metadata": {},
   "source": [
    "***\n",
    "## [10 Points] Figures\n",
    "[TOP](#Homework2---EDA,-Regression,-&-You)\n",
    "\n",
    "The Mincer equation suggests that wages are a function of education and a quadratic of experience:\n",
    "$$\n",
    "ln(w_i) = ln(w_0) + Ed_i \\rho + Exp_i\\beta_1  + Exp_I^2\\beta_2 + \\epsilon_i\n",
    "$$\n",
    "\n",
    "Do you find evidence of a quadratic relationship between log wages and experience?\n",
    "Produce a \n",
    "\n",
    "- **[2 points]** binned scatter plot of log wages versus experience\n",
    "- **[1 point]** with 50 bins\n",
    "- **[1 point]** with axis labels\n",
    "- **[1 point]** with a tite"
   ]
  },
  {
   "cell_type": "code",
   "execution_count": null,
   "id": "ordinary-defensive",
   "metadata": {},
   "outputs": [],
   "source": []
  },
  {
   "cell_type": "markdown",
   "id": "widespread-parameter",
   "metadata": {},
   "source": [
    "**[5 point]** Do you find evidence of a quadratic relationship?"
   ]
  },
  {
   "cell_type": "markdown",
   "id": "representative-poultry",
   "metadata": {},
   "source": []
  },
  {
   "cell_type": "markdown",
   "id": "embedded-subscriber",
   "metadata": {},
   "source": [
    "**************\n",
    "# Application - Regression \n",
    "[TOP](#Homework2---EDA,-Regression,-&-You)\n",
    "\n",
    "## [10 Points] Data Prep\n",
    "[TOP](#Homework2---EDA,-Regression,-&-You)\n",
    "\n",
    "Append to the data set\n",
    "\n",
    "- **[3 points]** a quadratic, cubic, and quartic transformation of experience\n",
    "- **[1 point]** an interaction between female and any children"
   ]
  },
  {
   "cell_type": "code",
   "execution_count": null,
   "id": "promising-onion",
   "metadata": {},
   "outputs": [],
   "source": []
  },
  {
   "cell_type": "code",
   "execution_count": null,
   "id": "talented-irish",
   "metadata": {},
   "outputs": [],
   "source": []
  },
  {
   "cell_type": "markdown",
   "id": "hydraulic-evanescence",
   "metadata": {},
   "source": [
    "**[1 point]** Print the number of observations"
   ]
  },
  {
   "cell_type": "code",
   "execution_count": null,
   "id": "alone-regression",
   "metadata": {},
   "outputs": [],
   "source": []
  },
  {
   "cell_type": "markdown",
   "id": "breeding-coach",
   "metadata": {},
   "source": [
    "We will be using the non-standardized label.\n",
    "\n",
    "- **[1 point]** Create `x` and `y`.\n",
    "\n",
    "Create `x_train`, `x_test`, `y_train`, `y_test` with a sample split using\n",
    "\n",
    "- **[1 point]** a train set size of 5%\n",
    "- **[1 point]** a random seed of 490\n",
    "\n",
    "Then \n",
    "\n",
    "- **[1 point]** standardize `x_train` and `x_test`\n",
    "- **[1 point]** add an intercept to all feature objects"
   ]
  },
  {
   "cell_type": "code",
   "execution_count": null,
   "id": "consolidated-substance",
   "metadata": {},
   "outputs": [],
   "source": []
  },
  {
   "cell_type": "markdown",
   "id": "humanitarian-sending",
   "metadata": {},
   "source": [
    "************\n",
    "## [2 Points] Null Model \n",
    "[TOP](#Homework2---EDA,-Regression,-&-You)\n",
    "\n",
    "- **[1 point]** Obtain the test RMSE of the null model\n",
    "- **[1 point]** print the test RMSE of the null model"
   ]
  },
  {
   "cell_type": "code",
   "execution_count": null,
   "id": "significant-gregory",
   "metadata": {},
   "outputs": [],
   "source": []
  },
  {
   "cell_type": "markdown",
   "id": "blond-benchmark",
   "metadata": {},
   "source": [
    "********\n",
    "## [4 Points] Backward Selection\n",
    "[TOP](#Homework2---EDA,-Regression,-&-You)\n",
    "\n",
    "**[1 point]** Perform backward selection using the **non-standardized features** with a threshold of 0.05.\n",
    "\n",
    "- **[1 point]** produce a summary of the selected model"
   ]
  },
  {
   "cell_type": "code",
   "execution_count": null,
   "id": "golden-canyon",
   "metadata": {},
   "outputs": [],
   "source": []
  },
  {
   "cell_type": "markdown",
   "id": "secure-valve",
   "metadata": {},
   "source": [
    "- **[1 point]** obtain the test RMSE\n",
    "- **[1 point]** print the test RMSE"
   ]
  },
  {
   "cell_type": "code",
   "execution_count": null,
   "id": "standard-nitrogen",
   "metadata": {},
   "outputs": [],
   "source": []
  },
  {
   "cell_type": "markdown",
   "id": "practical-horizon",
   "metadata": {},
   "source": [
    "***********\n",
    "## [10 Points] Regularization\n",
    "[TOP](#Homework2---EDA,-Regression,-&-You)\n",
    "\n",
    "Identify the optimal $\\alpha$ and Lasso weight on the standardized features.\n",
    "- **[1 point]** Using 5-fold grid search cross-validation\n",
    "- **[1 point]** Add the `%%time` magic command in the first line of the CV code chunk\n",
    "- **[1 point]** use a grid over $\\alpha$ by powers of 10 no smaller than $10^{-10}$\n",
    "- **[1 point]** use a grid of the Lasso weight with a step size of 0.2\n",
    "- **[1 point]** use a random state of 490\n",
    "    - Ignore convergence warnings"
   ]
  },
  {
   "cell_type": "code",
   "execution_count": null,
   "id": "varied-tucson",
   "metadata": {},
   "outputs": [],
   "source": []
  },
  {
   "cell_type": "markdown",
   "id": "cleared-perry",
   "metadata": {},
   "source": [
    "Using the identified optimal hyperparameters\n",
    "\n",
    "- **[1 point]** refit the model with `statsmodels` on the standardize features\n",
    "- **[1 point]** if your identified $\\alpha$ was $10^{-10}$, then set $\\alpha$ to zero\n",
    "- **[1 point]** print the parameters\n",
    "- **[1 point]** obtain the rmse\n",
    "- **[1 point]** print the rmse"
   ]
  },
  {
   "cell_type": "code",
   "execution_count": null,
   "id": "opening-plumbing",
   "metadata": {},
   "outputs": [],
   "source": []
  },
  {
   "cell_type": "code",
   "execution_count": null,
   "id": "caroline-duncan",
   "metadata": {},
   "outputs": [],
   "source": []
  },
  {
   "cell_type": "markdown",
   "id": "secret-north",
   "metadata": {},
   "source": [
    "From here, you should realize that neither backward selection nor regularization have reduced the number of features. \n",
    "I won't ask you to refit using \"selected\" variables to avoid the redundancy."
   ]
  },
  {
   "cell_type": "markdown",
   "id": "demonstrated-domain",
   "metadata": {},
   "source": [
    "**********\n",
    "## [4 Points] Comparison\n",
    "[TOP](#Homework2---EDA,-Regression,-&-You)\n",
    "\n",
    "**[2 points]** Obtain the percent decrease in RMSE for each model relative to the null model. **DO NOT PRINT THEM**."
   ]
  },
  {
   "cell_type": "code",
   "execution_count": null,
   "id": "speaking-spokesman",
   "metadata": {},
   "outputs": [],
   "source": []
  },
  {
   "cell_type": "markdown",
   "id": "joint-execution",
   "metadata": {},
   "source": [
    "Using one `print()` statement, print the\n",
    "\n",
    "- **[1 point]** percent improvement of each model round to two basis points\n",
    "- **[1 point]** a new line for each model's RMSE"
   ]
  },
  {
   "cell_type": "code",
   "execution_count": null,
   "id": "assured-field",
   "metadata": {},
   "outputs": [],
   "source": []
  }
 ],
 "metadata": {
  "kernelspec": {
   "display_name": "Python 3",
   "language": "python",
   "name": "python3"
  },
  "language_info": {
   "codemirror_mode": {
    "name": "ipython",
    "version": 3
   },
   "file_extension": ".py",
   "mimetype": "text/x-python",
   "name": "python",
   "nbconvert_exporter": "python",
   "pygments_lexer": "ipython3",
   "version": "3.8.5"
  }
 },
 "nbformat": 4,
 "nbformat_minor": 5
}
