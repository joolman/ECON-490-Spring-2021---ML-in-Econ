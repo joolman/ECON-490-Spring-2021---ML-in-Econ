{
 "cells": [
  {
   "cell_type": "markdown",
   "metadata": {},
   "source": [
    "## OLS Python\n",
    "\n",
    "#### Table of Contents\n",
    "* [Setup](#Setup)\n",
    "* [statsmodels.api](#statsmodels.api)\n",
    "    - [sm Training](#sm-Training)\n",
    "    - [sm Predicting](#sm-Predicting)\n",
    "    - [sm Training](#sm-Training)\n",
    "* [statsmodels.formula.api](#statsmodels.formula.api)\n",
    "    - [smf Training](#smf-Training)\n",
    "    - [smf Predicting](#smf-Predicting)\n",
    "    - [smf Training](#smf-Training)\n",
    "    - [smf Formulas](#smf-Formulas)\n",
    "* [sklearn.linear_model](#sklearn.linear_model)\n",
    "    - [sklearn Training](#sklearn-Training)\n",
    "    - [sklearn Predicting](#sklearn-Predicting)\n",
    "    - [sklearn Training](#sklearn-Training)\n",
    "\n",
    "We are going to estimate a linear regression model using three different functions. \n",
    "The different packages demonstrate the bigger picture of what each field cares about.\n",
    "`statsmodels` is focused towards statistics and econometrics, so it has much more formal output.\n",
    "We will demonstrate the base API and the R-like formula API.\n",
    "`sklearn` is focused towards machine learning, which is focused only on $\\hat{y}$.\n",
    "\n",
    "We are going to use the following regression:\n",
    "\n",
    "$$\n",
    "\\begin{align*}\n",
    "    \\%\\Delta rGDP_{i,t} = & \\alpha_t + UrateBin_{i,t}^\\prime\\beta + LFPR_{i,t}\\gamma + LFPR_{i,t}UrateBin_{i,t}\\delta +\\\\\n",
    "    & EmpPerEstab_{i,t}\\zeta + EmpPerEstab_{i,t}^2\\eta + \\epsilon_{i,t}\n",
    "\\end{align*}\n",
    "$$\n",
    "\n",
    "*********\n",
    "# Setup\n",
    "[TOP](#OLS-Python)"
   ]
  },
  {
   "cell_type": "code",
   "execution_count": 1,
   "metadata": {},
   "outputs": [],
   "source": [
    "import pandas as pd\n",
    "import numpy as np\n",
    "\n",
    "import statsmodels.api as sm\n",
    "import statsmodels.formula.api as smf\n",
    "\n",
    "from sklearn.linear_model import LinearRegression\n",
    "from sklearn.model_selection import train_test_split\n",
    "from sklearn.metrics import mean_squared_error"
   ]
  },
  {
   "cell_type": "code",
   "execution_count": 2,
   "metadata": {},
   "outputs": [],
   "source": [
    "df = pd.read_csv('C:/Users/johnj/Documents/Data/aml in econ 02 spring 2021/class data/class_data.csv')\n",
    "df.set_index(['fips', 'year', 'GeoName'], inplace = True)\n",
    "df\n",
    "df['year'] = df.index.get_level_values('year')"
   ]
  },
  {
   "cell_type": "code",
   "execution_count": 3,
   "metadata": {},
   "outputs": [
    {
     "data": {
      "text/plain": [
       "Index(['pct_d_rgdp', 'urate_bin', 'pos_net_jobs', 'emp_estabs',\n",
       "       'estabs_entry_rate', 'estabs_exit_rate', 'pop', 'pop_pct_black',\n",
       "       'pop_pct_hisp', 'lfpr', 'density', 'year'],\n",
       "      dtype='object')"
      ]
     },
     "execution_count": 3,
     "metadata": {},
     "output_type": "execute_result"
    }
   ],
   "source": [
    "df = pd.read_pickle('C:/Users/johnj/Documents/Data/aml in econ 02 spring 2021/class data/class_data.pkl')\n",
    "df.columns"
   ]
  },
  {
   "cell_type": "markdown",
   "metadata": {},
   "source": [
    "All but `statsmodels.formula` require the features and labels to be separate arguments. So, let's create them!\n",
    "\n",
    "**IMPORTANT** The features matrix is the **design matrix**."
   ]
  },
  {
   "cell_type": "code",
   "execution_count": 4,
   "metadata": {},
   "outputs": [
    {
     "data": {
      "text/plain": [
       "Index(['const', 'emp_estabs', 'emp_estabs_sq', 'lfpr', 'lfpr:urate_lower',\n",
       "       'lfpr:urate_similar', 'urate_lower', 'urate_similar', 'year_2003',\n",
       "       'year_2004', 'year_2005', 'year_2006', 'year_2007', 'year_2008',\n",
       "       'year_2009', 'year_2010', 'year_2011', 'year_2012', 'year_2013',\n",
       "       'year_2014', 'year_2015', 'year_2016', 'year_2017', 'year_2018'],\n",
       "      dtype='object')"
      ]
     },
     "execution_count": 4,
     "metadata": {},
     "output_type": "execute_result"
    }
   ],
   "source": [
    "y = df['pct_d_rgdp']\n",
    "x = df.drop(columns = 'pct_d_rgdp')\n",
    "\n",
    "# Creating dummies\n",
    "x = x.join([pd.get_dummies(x['year'], prefix = 'year', drop_first = True),\n",
    "          pd.get_dummies(x['urate_bin'], prefix = 'urate', drop_first = True)]).drop(columns = ['year', 'urate_bin'])\n",
    "x = sm.add_constant(x)\n",
    "\n",
    "# Creating interactions\n",
    "x['lfpr:urate_lower'] = x.lfpr * x.urate_lower\n",
    "x['lfpr:urate_similar'] = x.lfpr * x.urate_similar\n",
    "x['emp_estabs_sq'] = x.emp_estabs**2\n",
    "\n",
    "# Dropping features we do not want to use\n",
    "x.drop(columns = ['pos_net_jobs', 'estabs_entry_rate', 'estabs_exit_rate',\n",
    "                  'pop', 'pop_pct_black', 'pop_pct_hisp', 'density'], inplace = True)\n",
    "\n",
    "# Sorting the columns for output\n",
    "x.sort_index(axis = 'columns', inplace = True)\n",
    "\n",
    "# Dropping un\n",
    "x.columns"
   ]
  },
  {
   "cell_type": "code",
   "execution_count": 5,
   "metadata": {},
   "outputs": [
    {
     "name": "stdout",
     "output_type": "stream",
     "text": [
      "(33889, 24)\n",
      "(33889,) \n",
      "\n",
      "(16945, 24)\n",
      "(16945,)\n"
     ]
    }
   ],
   "source": [
    "x_train, x_test, y_train, y_test = train_test_split(x, y, train_size = 2/3, random_state = 490)\n",
    "print(x_train.shape)\n",
    "print(y_train.shape, '\\n')\n",
    "\n",
    "print(x_test.shape)\n",
    "print(y_test.shape)"
   ]
  },
  {
   "cell_type": "markdown",
   "metadata": {},
   "source": [
    "*********\n",
    "# statsmodels.api\n",
    "[TOP](#OLS-Python)"
   ]
  },
  {
   "cell_type": "markdown",
   "metadata": {},
   "source": [
    "`statsmodels.api`'s linear regresion is a capitalized OLS.\n",
    "\n",
    "This package is also one of the few that use the order (y, x) instead of (x, y). Be careful out there! Read the documentation when available!"
   ]
  },
  {
   "cell_type": "markdown",
   "metadata": {},
   "source": [
    "## sm Training \n",
    "[TOP](#OLS-Python)\n",
    "\n",
    "Fitting `statsmodels` functions proceeds as follows\n",
    "\n",
    "1. calling the desired function with `y` and `x` arguments.\n",
    "2. chain the `.fit()` method\n",
    "\n",
    "This is different than `sklearn`."
   ]
  },
  {
   "cell_type": "code",
   "execution_count": 6,
   "metadata": {},
   "outputs": [
    {
     "name": "stdout",
     "output_type": "stream",
     "text": [
      "                            OLS Regression Results                            \n",
      "==============================================================================\n",
      "Dep. Variable:             pct_d_rgdp   R-squared:                       0.028\n",
      "Model:                            OLS   Adj. R-squared:                  0.027\n",
      "Method:                 Least Squares   F-statistic:                     42.12\n",
      "Date:                Tue, 23 Feb 2021   Prob (F-statistic):          4.05e-187\n",
      "Time:                        17:55:38   Log-Likelihood:            -1.2370e+05\n",
      "No. Observations:               33889   AIC:                         2.474e+05\n",
      "Df Residuals:                   33865   BIC:                         2.476e+05\n",
      "Df Model:                          23                                         \n",
      "Covariance Type:            nonrobust                                         \n",
      "======================================================================================\n",
      "                         coef    std err          t      P>|t|      [0.025      0.975]\n",
      "--------------------------------------------------------------------------------------\n",
      "const                  0.5566      0.637      0.874      0.382      -0.691       1.804\n",
      "emp_estabs            -0.0718      0.023     -3.100      0.002      -0.117      -0.026\n",
      "emp_estabs_sq          0.0011      0.001      1.864      0.062   -5.47e-05       0.002\n",
      "lfpr                   0.0287      0.008      3.621      0.000       0.013       0.044\n",
      "lfpr:urate_lower       0.0244      0.011      2.138      0.033       0.002       0.047\n",
      "lfpr:urate_similar     0.0003      0.016      0.019      0.985      -0.031       0.032\n",
      "urate_lower           -0.2319      0.881     -0.263      0.792      -1.958       1.495\n",
      "urate_similar          0.9127      1.206      0.757      0.449      -1.451       3.276\n",
      "year_2003             -0.0598      0.295     -0.202      0.840      -0.638       0.519\n",
      "year_2004             -0.2430      0.296     -0.820      0.412      -0.824       0.338\n",
      "year_2005              0.6889      0.310      2.224      0.026       0.082       1.296\n",
      "year_2006              2.6016      0.310      8.402      0.000       1.995       3.208\n",
      "year_2007             -1.4521      0.295     -4.929      0.000      -2.030      -0.875\n",
      "year_2008             -2.1499      0.296     -7.257      0.000      -2.731      -1.569\n",
      "year_2009             -3.6710      0.295    -12.426      0.000      -4.250      -3.092\n",
      "year_2010             -0.1405      0.295     -0.476      0.634      -0.720       0.438\n",
      "year_2011             -0.9147      0.295     -3.103      0.002      -1.492      -0.337\n",
      "year_2012             -1.9080      0.297     -6.428      0.000      -2.490      -1.326\n",
      "year_2013             -0.2675      0.296     -0.902      0.367      -0.848       0.313\n",
      "year_2014             -1.5131      0.294     -5.142      0.000      -2.090      -0.936\n",
      "year_2015             -1.1502      0.299     -3.850      0.000      -1.736      -0.565\n",
      "year_2016             -2.6913      0.296     -9.080      0.000      -3.272      -2.110\n",
      "year_2017             -1.4201      0.296     -4.791      0.000      -2.001      -0.839\n",
      "year_2018             -0.6935      0.299     -2.320      0.020      -1.279      -0.108\n",
      "==============================================================================\n",
      "Omnibus:                    34802.721   Durbin-Watson:                   1.994\n",
      "Prob(Omnibus):                  0.000   Jarque-Bera (JB):         10900023.159\n",
      "Skew:                           4.526   Prob(JB):                         0.00\n",
      "Kurtosis:                      90.392   Cond. No.                     7.30e+03\n",
      "==============================================================================\n",
      "\n",
      "Notes:\n",
      "[1] Standard Errors assume that the covariance matrix of the errors is correctly specified.\n",
      "[2] The condition number is large, 7.3e+03. This might indicate that there are\n",
      "strong multicollinearity or other numerical problems.\n"
     ]
    }
   ],
   "source": [
    "fit_sm = sm.OLS(y_train, x_train).fit()\n",
    "print(fit_sm.summary())"
   ]
  },
  {
   "cell_type": "code",
   "execution_count": 7,
   "metadata": {},
   "outputs": [
    {
     "name": "stdout",
     "output_type": "stream",
     "text": [
      "                  Results: Ordinary least squares\n",
      "====================================================================\n",
      "Model:              OLS              Adj. R-squared:     0.027      \n",
      "Dependent Variable: pct_d_rgdp       AIC:                247445.9529\n",
      "Date:               2021-02-23 17:55 BIC:                247648.2932\n",
      "No. Observations:   33889            Log-Likelihood:     -1.2370e+05\n",
      "Df Model:           23               F-statistic:        42.12      \n",
      "Df Residuals:       33865            Prob (F-statistic): 4.05e-187  \n",
      "R-squared:          0.028            Scale:              86.754     \n",
      "--------------------------------------------------------------------\n",
      "                     Coef.  Std.Err.    t     P>|t|   [0.05   0.95] \n",
      "--------------------------------------------------------------------\n",
      "const                0.5566   0.6366   0.8743 0.3819 -0.4906  1.6038\n",
      "emp_estabs          -0.0718   0.0232  -3.1002 0.0019 -0.1100 -0.0337\n",
      "emp_estabs_sq        0.0011   0.0006   1.8644 0.0623  0.0001  0.0020\n",
      "lfpr                 0.0287   0.0079   3.6214 0.0003  0.0157  0.0418\n",
      "lfpr:urate_lower     0.0244   0.0114   2.1381 0.0325  0.0056  0.0431\n",
      "lfpr:urate_similar   0.0003   0.0162   0.0187 0.9851 -0.0263  0.0270\n",
      "urate_lower         -0.2319   0.8808  -0.2633 0.7923 -1.6808  1.2170\n",
      "urate_similar        0.9127   1.2057   0.7570 0.4491 -1.0705  2.8960\n",
      "year_2003           -0.0598   0.2952  -0.2025 0.8396 -0.5453  0.4258\n",
      "year_2004           -0.2430   0.2965  -0.8197 0.4124 -0.7307  0.2447\n",
      "year_2005            0.6889   0.3097   2.2244 0.0261  0.1795  1.1983\n",
      "year_2006            2.6016   0.3096   8.4017 0.0000  2.0922  3.1109\n",
      "year_2007           -1.4521   0.2946  -4.9292 0.0000 -1.9367 -0.9675\n",
      "year_2008           -2.1499   0.2963  -7.2568 0.0000 -2.6373 -1.6626\n",
      "year_2009           -3.6710   0.2954 -12.4262 0.0000 -4.1569 -3.1850\n",
      "year_2010           -0.1405   0.2954  -0.4757 0.6343 -0.6265  0.3454\n",
      "year_2011           -0.9147   0.2948  -3.1033 0.0019 -1.3996 -0.4299\n",
      "year_2012           -1.9080   0.2968  -6.4283 0.0000 -2.3963 -1.4198\n",
      "year_2013           -0.2675   0.2964  -0.9024 0.3669 -0.7550  0.2201\n",
      "year_2014           -1.5131   0.2943  -5.1420 0.0000 -1.9971 -1.0291\n",
      "year_2015           -1.1502   0.2987  -3.8500 0.0001 -1.6416 -0.6588\n",
      "year_2016           -2.6913   0.2964  -9.0798 0.0000 -3.1788 -2.2037\n",
      "year_2017           -1.4201   0.2964  -4.7912 0.0000 -1.9077 -0.9326\n",
      "year_2018           -0.6935   0.2989  -2.3203 0.0203 -1.1852 -0.2019\n",
      "--------------------------------------------------------------------\n",
      "Omnibus:            34802.721     Durbin-Watson:        1.994       \n",
      "Prob(Omnibus):      0.000         Jarque-Bera (JB):     10900023.159\n",
      "Skew:               4.526         Prob(JB):             0.000       \n",
      "Kurtosis:           90.392        Condition No.:        7304        \n",
      "====================================================================\n",
      "* The condition number is large (7e+03). This might indicate\n",
      "strong multicollinearity or other numerical problems.\n"
     ]
    }
   ],
   "source": [
    "print(fit_sm.summary2(alpha = 0.1))"
   ]
  },
  {
   "cell_type": "code",
   "execution_count": 8,
   "metadata": {},
   "outputs": [
    {
     "data": {
      "text/plain": [
       "0.027808707874526828"
      ]
     },
     "execution_count": 8,
     "metadata": {},
     "output_type": "execute_result"
    }
   ],
   "source": [
    "fit_sm.params\n",
    "fit_sm.pvalues\n",
    "fit_sm.resid\n",
    "fit_sm.conf_int(alpha = 0.01)\n",
    "fit_sm.rsquared"
   ]
  },
  {
   "cell_type": "markdown",
   "metadata": {},
   "source": [
    "## sm Predicting "
   ]
  },
  {
   "cell_type": "code",
   "execution_count": 9,
   "metadata": {},
   "outputs": [
    {
     "data": {
      "text/plain": [
       "fips   year  GeoName         \n",
       "6013   2005  Contra Costa, CA    2.583403\n",
       "29015  2006  Benton, MO          4.865207\n",
       "40069  2007  Johnston, OK        2.259181\n",
       "48235  2015  Irion, TX           3.086271\n",
       "29075  2013  Gentry, MO          4.297925\n",
       "dtype: float64"
      ]
     },
     "execution_count": 9,
     "metadata": {},
     "output_type": "execute_result"
    }
   ],
   "source": [
    "y_hat_sm = fit_sm.predict(x_test)\n",
    "y_hat_sm.head()"
   ]
  },
  {
   "cell_type": "markdown",
   "metadata": {},
   "source": [
    "## sm Testing"
   ]
  },
  {
   "cell_type": "code",
   "execution_count": 10,
   "metadata": {},
   "outputs": [
    {
     "data": {
      "text/plain": [
       "9.274383341532479"
      ]
     },
     "execution_count": 10,
     "metadata": {},
     "output_type": "execute_result"
    }
   ],
   "source": [
    "rmse_sm = np.sqrt(np.mean((y_test - y_hat_sm)**2))\n",
    "rmse_sm"
   ]
  },
  {
   "cell_type": "markdown",
   "metadata": {},
   "source": [
    "How good is this fit, you ask. \n",
    "Well, it is a bit a little difficult to say without comparison.\n",
    "A good starting place is to compare this fit against the null model.\n",
    "Then we can determine the percent improvement we obtain from it."
   ]
  },
  {
   "cell_type": "code",
   "execution_count": 11,
   "metadata": {},
   "outputs": [
    {
     "data": {
      "text/plain": [
       "9.403229309446852"
      ]
     },
     "execution_count": 11,
     "metadata": {},
     "output_type": "execute_result"
    }
   ],
   "source": [
    "# null model\n",
    "rmse_null = np.sqrt(  np.mean((y_test - np.mean(y_train))**2)  )\n",
    "rmse_null"
   ]
  },
  {
   "cell_type": "code",
   "execution_count": 12,
   "metadata": {},
   "outputs": [
    {
     "name": "stdout",
     "output_type": "stream",
     "text": [
      "1.37%\n"
     ]
    }
   ],
   "source": [
    "print(round((rmse_null - rmse_sm)/rmse_null*100, 3), '%', sep = '')"
   ]
  },
  {
   "cell_type": "markdown",
   "metadata": {},
   "source": [
    "Only 1.37%!? \n",
    "That is not much at all!\n",
    "\n",
    "We should note that if we have made a 100% imporvement, then we have interpolated the data (overfit it).\n",
    "I would say if we could improve upon the null model by 10%, then that is something to be excited about.\n",
    "Let's see if we can get there this semester."
   ]
  },
  {
   "cell_type": "markdown",
   "metadata": {},
   "source": [
    "***\n",
    "# statsmodels.formula.api\n",
    "[TOP](#OLS-Python)\n",
    "\n",
    "This works just like `R`!"
   ]
  },
  {
   "cell_type": "code",
   "execution_count": 13,
   "metadata": {},
   "outputs": [
    {
     "data": {
      "text/plain": [
       "Index(['pct_d_rgdp', 'urate_bin', 'pos_net_jobs', 'emp_estabs',\n",
       "       'estabs_entry_rate', 'estabs_exit_rate', 'pop', 'pop_pct_black',\n",
       "       'pop_pct_hisp', 'lfpr', 'density', 'year'],\n",
       "      dtype='object')"
      ]
     },
     "execution_count": 13,
     "metadata": {},
     "output_type": "execute_result"
    }
   ],
   "source": [
    "df.columns"
   ]
  },
  {
   "cell_type": "markdown",
   "metadata": {},
   "source": [
    "So here is something cool about `train_test_split()` with a specified `random_state`:"
   ]
  },
  {
   "cell_type": "code",
   "execution_count": 14,
   "metadata": {},
   "outputs": [
    {
     "data": {
      "text/plain": [
       "True"
      ]
     },
     "execution_count": 14,
     "metadata": {},
     "output_type": "execute_result"
    }
   ],
   "source": [
    "df_train, df_test = train_test_split(df, train_size = 2/3, random_state = 490)\n",
    "all(x_train.index == df_train.index)"
   ]
  },
  {
   "cell_type": "markdown",
   "metadata": {},
   "source": [
    "## smf Training\n",
    "[TOP](#OLS-Python)"
   ]
  },
  {
   "cell_type": "code",
   "execution_count": 15,
   "metadata": {},
   "outputs": [
    {
     "name": "stdout",
     "output_type": "stream",
     "text": [
      "                       Results: Ordinary least squares\n",
      "=============================================================================\n",
      "Model:                 OLS                 Adj. R-squared:        0.027      \n",
      "Dependent Variable:    pct_d_rgdp          AIC:                   247445.9529\n",
      "Date:                  2021-02-23 17:55    BIC:                   247648.2932\n",
      "No. Observations:      33889               Log-Likelihood:        -1.2370e+05\n",
      "Df Model:              23                  F-statistic:           42.12      \n",
      "Df Residuals:          33865               Prob (F-statistic):    4.05e-187  \n",
      "R-squared:             0.028               Scale:                 86.754     \n",
      "-----------------------------------------------------------------------------\n",
      "                              Coef.  Std.Err.    t     P>|t|   [0.025  0.975]\n",
      "-----------------------------------------------------------------------------\n",
      "Intercept                     0.5566   0.6366   0.8743 0.3819 -0.6912  1.8045\n",
      "C(urate_bin)[T.lower]        -0.2319   0.8808  -0.2633 0.7923 -1.9584  1.4946\n",
      "C(urate_bin)[T.similar]       0.9127   1.2057   0.7570 0.4491 -1.4505  3.2760\n",
      "C(year)[T.2003]              -0.0598   0.2952  -0.2025 0.8396 -0.6383  0.5188\n",
      "C(year)[T.2004]              -0.2430   0.2965  -0.8197 0.4124 -0.8241  0.3381\n",
      "C(year)[T.2005]               0.6889   0.3097   2.2244 0.0261  0.0819  1.2959\n",
      "C(year)[T.2006]               2.6016   0.3096   8.4017 0.0000  1.9946  3.2085\n",
      "C(year)[T.2007]              -1.4521   0.2946  -4.9292 0.0000 -2.0295 -0.8747\n",
      "C(year)[T.2008]              -2.1499   0.2963  -7.2568 0.0000 -2.7306 -1.5692\n",
      "C(year)[T.2009]              -3.6710   0.2954 -12.4262 0.0000 -4.2500 -3.0919\n",
      "C(year)[T.2010]              -0.1405   0.2954  -0.4757 0.6343 -0.7196  0.4385\n",
      "C(year)[T.2011]              -0.9147   0.2948  -3.1033 0.0019 -1.4925 -0.3370\n",
      "C(year)[T.2012]              -1.9080   0.2968  -6.4283 0.0000 -2.4898 -1.3263\n",
      "C(year)[T.2013]              -0.2675   0.2964  -0.9024 0.3669 -0.8484  0.3135\n",
      "C(year)[T.2014]              -1.5131   0.2943  -5.1420 0.0000 -2.0899 -0.9363\n",
      "C(year)[T.2015]              -1.1502   0.2987  -3.8500 0.0001 -1.7357 -0.5646\n",
      "C(year)[T.2016]              -2.6913   0.2964  -9.0798 0.0000 -3.2722 -2.1103\n",
      "C(year)[T.2017]              -1.4201   0.2964  -4.7912 0.0000 -2.0011 -0.8392\n",
      "C(year)[T.2018]              -0.6935   0.2989  -2.3203 0.0203 -1.2794 -0.1077\n",
      "emp_estabs                   -0.0718   0.0232  -3.1002 0.0019 -0.1173 -0.0264\n",
      "I(emp_estabs ** 2)            0.0011   0.0006   1.8644 0.0623 -0.0001  0.0022\n",
      "lfpr                          0.0287   0.0079   3.6214 0.0003  0.0132  0.0443\n",
      "C(urate_bin)[T.lower]:lfpr    0.0244   0.0114   2.1381 0.0325  0.0020  0.0467\n",
      "C(urate_bin)[T.similar]:lfpr  0.0003   0.0162   0.0187 0.9851 -0.0315  0.0321\n",
      "-----------------------------------------------------------------------------\n",
      "Omnibus:               34802.721        Durbin-Watson:           1.994       \n",
      "Prob(Omnibus):         0.000            Jarque-Bera (JB):        10900023.159\n",
      "Skew:                  4.526            Prob(JB):                0.000       \n",
      "Kurtosis:              90.392           Condition No.:           7304        \n",
      "=============================================================================\n",
      "* The condition number is large (7e+03). This might indicate\n",
      "strong multicollinearity or other numerical problems.\n"
     ]
    }
   ],
   "source": [
    "fit_smf = smf.ols(formula = 'pct_d_rgdp ~ emp_estabs + I(emp_estabs**2) + C(urate_bin)*lfpr + C(year)', data = df_train).fit()\n",
    "print(fit_smf.summary2())"
   ]
  },
  {
   "cell_type": "markdown",
   "metadata": {},
   "source": [
    "## smf Predicting\n",
    "[TOP](#OLS-Python)"
   ]
  },
  {
   "cell_type": "code",
   "execution_count": 16,
   "metadata": {},
   "outputs": [],
   "source": [
    "yhat_smf = fit_smf.predict(df_test)"
   ]
  },
  {
   "cell_type": "markdown",
   "metadata": {},
   "source": [
    "## smf Testing\n",
    "[TOP](#OLS-Python)"
   ]
  },
  {
   "cell_type": "code",
   "execution_count": 17,
   "metadata": {},
   "outputs": [
    {
     "data": {
      "text/plain": [
       "9.274383341532479"
      ]
     },
     "execution_count": 17,
     "metadata": {},
     "output_type": "execute_result"
    }
   ],
   "source": [
    "rmse_smf = np.sqrt(  np.mean((yhat_smf - y_test)**2)  )\n",
    "rmse_smf"
   ]
  },
  {
   "cell_type": "code",
   "execution_count": 18,
   "metadata": {},
   "outputs": [
    {
     "data": {
      "text/plain": [
       "9.274383341532479"
      ]
     },
     "execution_count": 18,
     "metadata": {},
     "output_type": "execute_result"
    }
   ],
   "source": [
    "rmse_sm"
   ]
  },
  {
   "cell_type": "markdown",
   "metadata": {},
   "source": [
    "## smf Formulas\n",
    "[TOP](#OLS-Python)\n",
    "\n",
    "Here are a few more examples on how to use formulas in `statsmodels.formula.api`:"
   ]
  },
  {
   "cell_type": "code",
   "execution_count": 19,
   "metadata": {},
   "outputs": [
    {
     "data": {
      "text/plain": [
       "Index(['pct_d_rgdp', 'urate_bin', 'pos_net_jobs', 'emp_estabs',\n",
       "       'estabs_entry_rate', 'estabs_exit_rate', 'pop', 'pop_pct_black',\n",
       "       'pop_pct_hisp', 'lfpr', 'density', 'year'],\n",
       "      dtype='object')"
      ]
     },
     "execution_count": 19,
     "metadata": {},
     "output_type": "execute_result"
    }
   ],
   "source": [
    "df_train.columns"
   ]
  },
  {
   "cell_type": "code",
   "execution_count": 20,
   "metadata": {},
   "outputs": [
    {
     "data": {
      "text/plain": [
       "density    0.000027\n",
       "pop        0.000002\n",
       "dtype: float64"
      ]
     },
     "execution_count": 20,
     "metadata": {},
     "output_type": "execute_result"
    }
   ],
   "source": [
    "# no intercept\n",
    "smf.ols(formula = 'pct_d_rgdp ~ density + pop - 1', data = df_train).fit().params"
   ]
  },
  {
   "cell_type": "code",
   "execution_count": 21,
   "metadata": {},
   "outputs": [
    {
     "data": {
      "text/plain": [
       "Intercept                                    1.918966\n",
       "I(year == 2003)[T.True]                      1.084449\n",
       "I(year.isin([range(2007, 2010)]))[T.True]    0.000000\n",
       "dtype: float64"
      ]
     },
     "execution_count": 21,
     "metadata": {},
     "output_type": "execute_result"
    }
   ],
   "source": [
    "# only specific levels\n",
    "smf.ols(formula = \"pct_d_rgdp ~ I(year == 2003) + I(year.isin([range(2007,2010)]))\", data = df_train).fit().params"
   ]
  },
  {
   "cell_type": "markdown",
   "metadata": {},
   "source": [
    "*********\n",
    "# sklearn.linear_model\n",
    "[TOP](#OLS-Python)\n",
    "\n",
    "`sklearn`, the best machine learning package for everything *other than* neural networks. \n",
    "The lack of statistical details from their OLS function goes to show what is the difference between data scientists and statisticians/econometricians."
   ]
  },
  {
   "cell_type": "markdown",
   "metadata": {},
   "source": [
    "## sklearn Training \n",
    "[TOP](#OLS-Python)\n",
    "\n",
    "Fitting `sklearn` functions proceeds as follows:\n",
    "\n",
    "1. call the desired function without arguments\n",
    "2. chain the `.fit()` method with `x` and `y` arguments\n",
    "\n",
    "This is different than `statsmodels`"
   ]
  },
  {
   "cell_type": "raw",
   "metadata": {},
   "source": [
    "LinearRegression?"
   ]
  },
  {
   "cell_type": "code",
   "execution_count": 22,
   "metadata": {},
   "outputs": [
    {
     "name": "stdout",
     "output_type": "stream",
     "text": [
      "0.027808707874526828\n"
     ]
    },
    {
     "data": {
      "text/plain": [
       "array([ 5.56640139e-01, -7.18430813e-02,  1.06712265e-03,  2.87370942e-02,\n",
       "        2.43563032e-02,  3.03341962e-04, -2.31892706e-01,  9.12733619e-01,\n",
       "       -5.97577390e-02, -2.43014292e-01,  6.88890844e-01,  2.60155665e+00,\n",
       "       -1.45210522e+00, -2.14993324e+00, -3.67096841e+00, -1.40544332e-01,\n",
       "       -9.14729510e-01, -1.90804270e+00, -2.67455590e-01, -1.51310812e+00,\n",
       "       -1.15016125e+00, -2.69127428e+00, -1.42011928e+00, -6.93515668e-01])"
      ]
     },
     "execution_count": 22,
     "metadata": {},
     "output_type": "execute_result"
    }
   ],
   "source": [
    "fit_sk = LinearRegression(fit_intercept = False).fit(x_train, y_train)\n",
    "print(fit_sk.score(x_train, y_train)) # r_sq\n",
    "fit_sk.coef_ # unamed coefficients"
   ]
  },
  {
   "cell_type": "code",
   "execution_count": 23,
   "metadata": {},
   "outputs": [
    {
     "data": {
      "text/plain": [
       "0.0"
      ]
     },
     "execution_count": 23,
     "metadata": {},
     "output_type": "execute_result"
    }
   ],
   "source": [
    "fit_sk.intercept_"
   ]
  },
  {
   "cell_type": "markdown",
   "metadata": {},
   "source": [
    "## sklearn Predicting\n",
    "[TOP](#OLS-Python)"
   ]
  },
  {
   "cell_type": "code",
   "execution_count": 24,
   "metadata": {},
   "outputs": [],
   "source": [
    "yhat_sk = fit_sk.predict(x_test)"
   ]
  },
  {
   "cell_type": "markdown",
   "metadata": {},
   "source": [
    "## sklearn Testing\n",
    "[TOP](#OLS-Python)"
   ]
  },
  {
   "cell_type": "code",
   "execution_count": 25,
   "metadata": {},
   "outputs": [
    {
     "data": {
      "text/plain": [
       "9.274383341532479"
      ]
     },
     "execution_count": 25,
     "metadata": {},
     "output_type": "execute_result"
    }
   ],
   "source": [
    "rmse_sk = mean_squared_error(yhat_sk, y_test, squared = False)\n",
    "rmse_sk"
   ]
  },
  {
   "cell_type": "code",
   "execution_count": 26,
   "metadata": {},
   "outputs": [
    {
     "data": {
      "text/plain": [
       "9.274383341532479"
      ]
     },
     "execution_count": 26,
     "metadata": {},
     "output_type": "execute_result"
    }
   ],
   "source": [
    "rmse_sm"
   ]
  },
  {
   "cell_type": "code",
   "execution_count": 27,
   "metadata": {},
   "outputs": [
    {
     "data": {
      "text/plain": [
       "9.274383341532479"
      ]
     },
     "execution_count": 27,
     "metadata": {},
     "output_type": "execute_result"
    }
   ],
   "source": [
    "rmse_smf"
   ]
  }
 ],
 "metadata": {
  "kernelspec": {
   "display_name": "Python 3",
   "language": "python",
   "name": "python3"
  },
  "language_info": {
   "codemirror_mode": {
    "name": "ipython",
    "version": 3
   },
   "file_extension": ".py",
   "mimetype": "text/x-python",
   "name": "python",
   "nbconvert_exporter": "python",
   "pygments_lexer": "ipython3",
   "version": "3.8.5"
  }
 },
 "nbformat": 4,
 "nbformat_minor": 4
}
