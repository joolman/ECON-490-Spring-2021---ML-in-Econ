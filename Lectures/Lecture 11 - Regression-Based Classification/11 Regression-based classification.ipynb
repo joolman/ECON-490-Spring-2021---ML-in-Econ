{
 "cells": [
  {
   "cell_type": "markdown",
   "metadata": {},
   "source": [
    "## Regression-Based Classification\n",
    "\n",
    "#### Table of Contents\n",
    "\n",
    "* [Preliminaries](#Preliminaries)\n",
    "* [Binomial Logistic Regression](#Binomial-Logistic-Regression)\n",
    "    - [Logit Inference](#Logit-Inference)\n",
    "        - [Logit Marginal Effects](#Logit-Marginal-Effects)\n",
    "        - [Comparison to LPM](#Comparison-to-LPM)\n",
    "        - [Logit Regularization](#Logit-Regularization)\n",
    "    - [Logit Prediction Diagnostics](#Logit-Prediction-Diagnostics)\n",
    "        - [Logit Null Model](#Logit-Null-Model)\n",
    "        - [Logit Full Model](#Logit-Full-Model)\n",
    "        - [Alternative Thresholds](#Alternative-Thresholds)\n",
    "- [Multinomial Logistic Regression](#Multinomial-Logistic-Regression)\n",
    "    - [MN Logit Inference](#MN-Logit-Inference)\n",
    "        - [MN Logit Marginal Effects](#MN-Logit-Marginal-Effects)\n",
    "        - [MN Logit Regularization](#MN-Logit-Regularization)\n",
    "    - [MN Logit Prediction Diagnostics](#MN-Logit-Prediction-Diagnostics)\n",
    "        - [MN Logit Null Model](#MN-Logit-Null-Model)\n",
    "        - [MN Logit Full Model](#MN-Logit-Full-Model)\n",
    "\n",
    "***\n",
    "# Preliminaries\n",
    "[TOP](#Regression-Based-Classification)"
   ]
  },
  {
   "cell_type": "code",
   "execution_count": 1,
   "metadata": {},
   "outputs": [],
   "source": [
    "import numpy as np\n",
    "import pandas as pd\n",
    "from tqdm import tqdm # progress bar\n",
    "\n",
    "import statsmodels.api as sm\n",
    "from sklearn import linear_model as lm\n",
    "\n",
    "from sklearn.model_selection import GridSearchCV, train_test_split, KFold\n",
    "from sklearn.metrics import confusion_matrix, plot_confusion_matrix\n",
    "\n",
    "import matplotlib.pyplot as plt\n",
    "import seaborn as sns\n",
    "sns.set(rc = {'axes.titlesize': 24,\n",
    "             'axes.labelsize': 20,\n",
    "             'xtick.labelsize': 12,\n",
    "             'ytick.labelsize': 12,\n",
    "             'figure.figsize': (8, 4.5)})\n",
    "sns.set_style(\"white\") # for plot_confusion_matrix()"
   ]
  },
  {
   "cell_type": "code",
   "execution_count": 2,
   "metadata": {},
   "outputs": [],
   "source": [
    "df = pd.read_pickle('C:/Users/johnj/Documents/Data/aml in econ 02 spring 2021/class data/class_data.pkl')"
   ]
  },
  {
   "cell_type": "code",
   "execution_count": 3,
   "metadata": {},
   "outputs": [],
   "source": [
    "df_prepped = df.drop(columns = ['urate_bin', 'year']).join([\n",
    "    pd.get_dummies(df['urate_bin'], drop_first = True),\n",
    "    pd.get_dummies(df.year, drop_first = True)    \n",
    "])"
   ]
  },
  {
   "cell_type": "code",
   "execution_count": 4,
   "metadata": {},
   "outputs": [],
   "source": [
    "y = df_prepped['pos_net_jobs'].astype(float)\n",
    "x = df_prepped.drop(columns = 'pos_net_jobs')\n",
    "\n",
    "x_train, x_test, y_train, y_test = train_test_split(x, y, train_size = 2/3, random_state = 490)\n",
    "\n",
    "x_train_std = x_train.apply(lambda x: (x - np.mean(x))/np.std(x), axis = 0)\n",
    "x_test_std  = x_test.apply(lambda x: (x - np.mean(x))/np.std(x), axis = 0)\n",
    "\n",
    "x_train_std = sm.add_constant(x_train_std)\n",
    "x_test_std  = sm.add_constant(x_test_std)\n",
    "x_train     = sm.add_constant(x_train)\n",
    "x_test      = sm.add_constant(x_test)"
   ]
  },
  {
   "cell_type": "markdown",
   "metadata": {},
   "source": [
    "*******\n",
    "# Binomial Logistic Regression\n",
    "[TOP](#Regression-Based-Classification)\n",
    "\n",
    "There are three primary ways to fit a logsitic regression:\n",
    "\n",
    "- `statsmodels.api.Logit(y, x).fit()`\n",
    "- `statsmodels.formula.api.logit(data = df, formula = 'y ~ x').fit()`\n",
    "- `sklearn.linear_model.LogisticRegression().fit(x, y)`\n",
    "\n",
    "************\n",
    "## Logit Inference\n",
    "[TOP](#Regression-Based-Classification)\n",
    "\n",
    "By now, if you are thinking inference, then you should be thinking `statsmodels`."
   ]
  },
  {
   "cell_type": "code",
   "execution_count": 5,
   "metadata": {},
   "outputs": [
    {
     "name": "stdout",
     "output_type": "stream",
     "text": [
      "Optimization terminated successfully.\n",
      "         Current function value: 0.599666\n",
      "         Iterations 6\n"
     ]
    }
   ],
   "source": [
    "fit_logit = sm.Logit(y_train, x_train).fit()"
   ]
  },
  {
   "cell_type": "code",
   "execution_count": 6,
   "metadata": {},
   "outputs": [
    {
     "data": {
      "text/html": [
       "<table class=\"simpletable\">\n",
       "<tr>\n",
       "        <td>Model:</td>              <td>Logit</td>      <td>Pseudo R-squared:</td>    <td>0.126</td>  \n",
       "</tr>\n",
       "<tr>\n",
       "  <td>Dependent Variable:</td>   <td>pos_net_jobs</td>         <td>AIC:</td>        <td>40700.1748</td>\n",
       "</tr>\n",
       "<tr>\n",
       "         <td>Date:</td>        <td>2021-03-02 14:19</td>       <td>BIC:</td>        <td>40936.2385</td>\n",
       "</tr>\n",
       "<tr>\n",
       "   <td>No. Observations:</td>        <td>33889</td>       <td>Log-Likelihood:</td>    <td>-20322.</td> \n",
       "</tr>\n",
       "<tr>\n",
       "       <td>Df Model:</td>             <td>27</td>            <td>LL-Null:</td>        <td>-23242.</td> \n",
       "</tr>\n",
       "<tr>\n",
       "     <td>Df Residuals:</td>          <td>33861</td>        <td>LLR p-value:</td>      <td>0.0000</td>  \n",
       "</tr>\n",
       "<tr>\n",
       "      <td>Converged:</td>           <td>1.0000</td>           <td>Scale:</td>         <td>1.0000</td>  \n",
       "</tr>\n",
       "<tr>\n",
       "    <td>No. Iterations:</td>        <td>6.0000</td>              <td></td>               <td></td>     \n",
       "</tr>\n",
       "</table>\n",
       "<table class=\"simpletable\">\n",
       "<tr>\n",
       "          <td></td>           <th>Coef.</th>  <th>Std.Err.</th>     <th>z</th>     <th>P>|z|</th> <th>[0.025</th>  <th>0.975]</th> \n",
       "</tr>\n",
       "<tr>\n",
       "  <th>const</th>             <td>-1.9804</td>  <td>0.1454</td>  <td>-13.6244</td> <td>0.0000</td> <td>-2.2653</td> <td>-1.6955</td>\n",
       "</tr>\n",
       "<tr>\n",
       "  <th>pct_d_rgdp</th>        <td>0.0159</td>   <td>0.0014</td>   <td>11.0808</td> <td>0.0000</td> <td>0.0131</td>  <td>0.0187</td> \n",
       "</tr>\n",
       "<tr>\n",
       "  <th>emp_estabs</th>        <td>0.0383</td>   <td>0.0029</td>   <td>13.2672</td> <td>0.0000</td> <td>0.0327</td>  <td>0.0440</td> \n",
       "</tr>\n",
       "<tr>\n",
       "  <th>estabs_entry_rate</th> <td>0.1938</td>   <td>0.0054</td>   <td>35.7595</td> <td>0.0000</td> <td>0.1832</td>  <td>0.2045</td> \n",
       "</tr>\n",
       "<tr>\n",
       "  <th>estabs_exit_rate</th>  <td>-0.1625</td>  <td>0.0060</td>  <td>-27.1367</td> <td>0.0000</td> <td>-0.1743</td> <td>-0.1508</td>\n",
       "</tr>\n",
       "<tr>\n",
       "  <th>pop</th>               <td>0.0000</td>   <td>0.0000</td>   <td>2.7815</td>  <td>0.0054</td> <td>0.0000</td>  <td>0.0000</td> \n",
       "</tr>\n",
       "<tr>\n",
       "  <th>pop_pct_black</th>     <td>-0.0037</td>  <td>0.0009</td>   <td>-3.9538</td> <td>0.0001</td> <td>-0.0055</td> <td>-0.0019</td>\n",
       "</tr>\n",
       "<tr>\n",
       "  <th>pop_pct_hisp</th>      <td>0.0065</td>   <td>0.0010</td>   <td>6.6630</td>  <td>0.0000</td> <td>0.0046</td>  <td>0.0084</td> \n",
       "</tr>\n",
       "<tr>\n",
       "  <th>lfpr</th>              <td>0.0014</td>   <td>0.0014</td>   <td>1.0370</td>  <td>0.2997</td> <td>-0.0012</td> <td>0.0041</td> \n",
       "</tr>\n",
       "<tr>\n",
       "  <th>density</th>           <td>0.0000</td>   <td>0.0000</td>   <td>0.8976</td>  <td>0.3694</td> <td>-0.0000</td> <td>0.0000</td> \n",
       "</tr>\n",
       "<tr>\n",
       "  <th>lower</th>             <td>0.3427</td>   <td>0.0335</td>   <td>10.2204</td> <td>0.0000</td> <td>0.2770</td>  <td>0.4084</td> \n",
       "</tr>\n",
       "<tr>\n",
       "  <th>similar</th>           <td>0.1708</td>   <td>0.0357</td>   <td>4.7822</td>  <td>0.0000</td> <td>0.1008</td>  <td>0.2408</td> \n",
       "</tr>\n",
       "<tr>\n",
       "  <th>2003</th>              <td>1.0795</td>   <td>0.0685</td>   <td>15.7513</td> <td>0.0000</td> <td>0.9451</td>  <td>1.2138</td> \n",
       "</tr>\n",
       "<tr>\n",
       "  <th>2004</th>              <td>1.2705</td>   <td>0.0701</td>   <td>18.1212</td> <td>0.0000</td> <td>1.1330</td>  <td>1.4079</td> \n",
       "</tr>\n",
       "<tr>\n",
       "  <th>2005</th>              <td>1.2782</td>   <td>0.0718</td>   <td>17.7988</td> <td>0.0000</td> <td>1.1374</td>  <td>1.4189</td> \n",
       "</tr>\n",
       "<tr>\n",
       "  <th>2006</th>              <td>1.7408</td>   <td>0.0752</td>   <td>23.1429</td> <td>0.0000</td> <td>1.5934</td>  <td>1.8882</td> \n",
       "</tr>\n",
       "<tr>\n",
       "  <th>2007</th>              <td>0.5726</td>   <td>0.0679</td>   <td>8.4340</td>  <td>0.0000</td> <td>0.4396</td>  <td>0.7057</td> \n",
       "</tr>\n",
       "<tr>\n",
       "  <th>2008</th>              <td>0.9002</td>   <td>0.0689</td>   <td>13.0671</td> <td>0.0000</td> <td>0.7652</td>  <td>1.0353</td> \n",
       "</tr>\n",
       "<tr>\n",
       "  <th>2009</th>              <td>-0.5546</td>  <td>0.0813</td>   <td>-6.8221</td> <td>0.0000</td> <td>-0.7139</td> <td>-0.3953</td>\n",
       "</tr>\n",
       "<tr>\n",
       "  <th>2010</th>              <td>0.1881</td>   <td>0.0712</td>   <td>2.6427</td>  <td>0.0082</td> <td>0.0486</td>  <td>0.3275</td> \n",
       "</tr>\n",
       "<tr>\n",
       "  <th>2011</th>              <td>1.2499</td>   <td>0.0694</td>   <td>18.0167</td> <td>0.0000</td> <td>1.1139</td>  <td>1.3858</td> \n",
       "</tr>\n",
       "<tr>\n",
       "  <th>2012</th>              <td>1.5995</td>   <td>0.0719</td>   <td>22.2615</td> <td>0.0000</td> <td>1.4587</td>  <td>1.7404</td> \n",
       "</tr>\n",
       "<tr>\n",
       "  <th>2013</th>              <td>1.2136</td>   <td>0.0701</td>   <td>17.3026</td> <td>0.0000</td> <td>1.0762</td>  <td>1.3511</td> \n",
       "</tr>\n",
       "<tr>\n",
       "  <th>2014</th>              <td>1.5303</td>   <td>0.0716</td>   <td>21.3646</td> <td>0.0000</td> <td>1.3899</td>  <td>1.6707</td> \n",
       "</tr>\n",
       "<tr>\n",
       "  <th>2015</th>              <td>1.6389</td>   <td>0.0738</td>   <td>22.2195</td> <td>0.0000</td> <td>1.4944</td>  <td>1.7835</td> \n",
       "</tr>\n",
       "<tr>\n",
       "  <th>2016</th>              <td>1.2858</td>   <td>0.0714</td>   <td>18.0141</td> <td>0.0000</td> <td>1.1459</td>  <td>1.4257</td> \n",
       "</tr>\n",
       "<tr>\n",
       "  <th>2017</th>              <td>1.1100</td>   <td>0.0703</td>   <td>15.7814</td> <td>0.0000</td> <td>0.9721</td>  <td>1.2478</td> \n",
       "</tr>\n",
       "<tr>\n",
       "  <th>2018</th>              <td>1.4769</td>   <td>0.0726</td>   <td>20.3342</td> <td>0.0000</td> <td>1.3346</td>  <td>1.6193</td> \n",
       "</tr>\n",
       "</table>"
      ],
      "text/plain": [
       "<class 'statsmodels.iolib.summary2.Summary'>\n",
       "\"\"\"\n",
       "                          Results: Logit\n",
       "==================================================================\n",
       "Model:               Logit            Pseudo R-squared: 0.126     \n",
       "Dependent Variable:  pos_net_jobs     AIC:              40700.1748\n",
       "Date:                2021-03-02 14:19 BIC:              40936.2385\n",
       "No. Observations:    33889            Log-Likelihood:   -20322.   \n",
       "Df Model:            27               LL-Null:          -23242.   \n",
       "Df Residuals:        33861            LLR p-value:      0.0000    \n",
       "Converged:           1.0000           Scale:            1.0000    \n",
       "No. Iterations:      6.0000                                       \n",
       "------------------------------------------------------------------\n",
       "                   Coef.  Std.Err.    z     P>|z|   [0.025  0.975]\n",
       "------------------------------------------------------------------\n",
       "const             -1.9804   0.1454 -13.6244 0.0000 -2.2653 -1.6955\n",
       "pct_d_rgdp         0.0159   0.0014  11.0808 0.0000  0.0131  0.0187\n",
       "emp_estabs         0.0383   0.0029  13.2672 0.0000  0.0327  0.0440\n",
       "estabs_entry_rate  0.1938   0.0054  35.7595 0.0000  0.1832  0.2045\n",
       "estabs_exit_rate  -0.1625   0.0060 -27.1367 0.0000 -0.1743 -0.1508\n",
       "pop                0.0000   0.0000   2.7815 0.0054  0.0000  0.0000\n",
       "pop_pct_black     -0.0037   0.0009  -3.9538 0.0001 -0.0055 -0.0019\n",
       "pop_pct_hisp       0.0065   0.0010   6.6630 0.0000  0.0046  0.0084\n",
       "lfpr               0.0014   0.0014   1.0370 0.2997 -0.0012  0.0041\n",
       "density            0.0000   0.0000   0.8976 0.3694 -0.0000  0.0000\n",
       "lower              0.3427   0.0335  10.2204 0.0000  0.2770  0.4084\n",
       "similar            0.1708   0.0357   4.7822 0.0000  0.1008  0.2408\n",
       "2003               1.0795   0.0685  15.7513 0.0000  0.9451  1.2138\n",
       "2004               1.2705   0.0701  18.1212 0.0000  1.1330  1.4079\n",
       "2005               1.2782   0.0718  17.7988 0.0000  1.1374  1.4189\n",
       "2006               1.7408   0.0752  23.1429 0.0000  1.5934  1.8882\n",
       "2007               0.5726   0.0679   8.4340 0.0000  0.4396  0.7057\n",
       "2008               0.9002   0.0689  13.0671 0.0000  0.7652  1.0353\n",
       "2009              -0.5546   0.0813  -6.8221 0.0000 -0.7139 -0.3953\n",
       "2010               0.1881   0.0712   2.6427 0.0082  0.0486  0.3275\n",
       "2011               1.2499   0.0694  18.0167 0.0000  1.1139  1.3858\n",
       "2012               1.5995   0.0719  22.2615 0.0000  1.4587  1.7404\n",
       "2013               1.2136   0.0701  17.3026 0.0000  1.0762  1.3511\n",
       "2014               1.5303   0.0716  21.3646 0.0000  1.3899  1.6707\n",
       "2015               1.6389   0.0738  22.2195 0.0000  1.4944  1.7835\n",
       "2016               1.2858   0.0714  18.0141 0.0000  1.1459  1.4257\n",
       "2017               1.1100   0.0703  15.7814 0.0000  0.9721  1.2478\n",
       "2018               1.4769   0.0726  20.3342 0.0000  1.3346  1.6193\n",
       "==================================================================\n",
       "\n",
       "\"\"\""
      ]
     },
     "execution_count": 6,
     "metadata": {},
     "output_type": "execute_result"
    }
   ],
   "source": [
    "fit_logit.summary2()"
   ]
  },
  {
   "cell_type": "markdown",
   "metadata": {},
   "source": [
    "***********\n",
    "### Logit Marginal Effects \n",
    "[TOP](#Regression-Based-Classification)"
   ]
  },
  {
   "cell_type": "code",
   "execution_count": 7,
   "metadata": {},
   "outputs": [
    {
     "data": {
      "text/html": [
       "<table class=\"simpletable\">\n",
       "<caption>Logit Marginal Effects</caption>\n",
       "<tr>\n",
       "  <th>Dep. Variable:</th> <td>pos_net_jobs</td>\n",
       "</tr>\n",
       "<tr>\n",
       "  <th>Method:</th>            <td>dydx</td>    \n",
       "</tr>\n",
       "<tr>\n",
       "  <th>At:</th>               <td>overall</td>  \n",
       "</tr>\n",
       "</table>\n",
       "<table class=\"simpletable\">\n",
       "<tr>\n",
       "          <th></th>             <th>dy/dx</th>    <th>std err</th>      <th>z</th>      <th>P>|z|</th>  <th>[0.025</th>    <th>0.975]</th>  \n",
       "</tr>\n",
       "<tr>\n",
       "  <th>pct_d_rgdp</th>        <td>    0.0033</td> <td>    0.000</td> <td>   11.150</td> <td> 0.000</td> <td>    0.003</td> <td>    0.004</td>\n",
       "</tr>\n",
       "<tr>\n",
       "  <th>emp_estabs</th>        <td>    0.0079</td> <td>    0.001</td> <td>   13.394</td> <td> 0.000</td> <td>    0.007</td> <td>    0.009</td>\n",
       "</tr>\n",
       "<tr>\n",
       "  <th>estabs_entry_rate</th> <td>    0.0401</td> <td>    0.001</td> <td>   38.375</td> <td> 0.000</td> <td>    0.038</td> <td>    0.042</td>\n",
       "</tr>\n",
       "<tr>\n",
       "  <th>estabs_exit_rate</th>  <td>   -0.0336</td> <td>    0.001</td> <td>  -28.236</td> <td> 0.000</td> <td>   -0.036</td> <td>   -0.031</td>\n",
       "</tr>\n",
       "<tr>\n",
       "  <th>pop</th>               <td> 3.029e-08</td> <td> 1.09e-08</td> <td>    2.782</td> <td> 0.005</td> <td> 8.95e-09</td> <td> 5.16e-08</td>\n",
       "</tr>\n",
       "<tr>\n",
       "  <th>pop_pct_black</th>     <td>   -0.0008</td> <td>    0.000</td> <td>   -3.957</td> <td> 0.000</td> <td>   -0.001</td> <td>   -0.000</td>\n",
       "</tr>\n",
       "<tr>\n",
       "  <th>pop_pct_hisp</th>      <td>    0.0013</td> <td>    0.000</td> <td>    6.678</td> <td> 0.000</td> <td>    0.001</td> <td>    0.002</td>\n",
       "</tr>\n",
       "<tr>\n",
       "  <th>lfpr</th>              <td>    0.0003</td> <td>    0.000</td> <td>    1.037</td> <td> 0.300</td> <td>   -0.000</td> <td>    0.001</td>\n",
       "</tr>\n",
       "<tr>\n",
       "  <th>density</th>           <td>  1.59e-06</td> <td> 1.77e-06</td> <td>    0.898</td> <td> 0.369</td> <td>-1.88e-06</td> <td> 5.06e-06</td>\n",
       "</tr>\n",
       "<tr>\n",
       "  <th>lower</th>             <td>    0.0709</td> <td>    0.007</td> <td>   10.278</td> <td> 0.000</td> <td>    0.057</td> <td>    0.084</td>\n",
       "</tr>\n",
       "<tr>\n",
       "  <th>similar</th>           <td>    0.0353</td> <td>    0.007</td> <td>    4.788</td> <td> 0.000</td> <td>    0.021</td> <td>    0.050</td>\n",
       "</tr>\n",
       "<tr>\n",
       "  <th>2003</th>              <td>    0.2232</td> <td>    0.014</td> <td>   15.973</td> <td> 0.000</td> <td>    0.196</td> <td>    0.251</td>\n",
       "</tr>\n",
       "<tr>\n",
       "  <th>2004</th>              <td>    0.2627</td> <td>    0.014</td> <td>   18.459</td> <td> 0.000</td> <td>    0.235</td> <td>    0.291</td>\n",
       "</tr>\n",
       "<tr>\n",
       "  <th>2005</th>              <td>    0.2643</td> <td>    0.015</td> <td>   18.120</td> <td> 0.000</td> <td>    0.236</td> <td>    0.293</td>\n",
       "</tr>\n",
       "<tr>\n",
       "  <th>2006</th>              <td>    0.3600</td> <td>    0.015</td> <td>   23.839</td> <td> 0.000</td> <td>    0.330</td> <td>    0.390</td>\n",
       "</tr>\n",
       "<tr>\n",
       "  <th>2007</th>              <td>    0.1184</td> <td>    0.014</td> <td>    8.467</td> <td> 0.000</td> <td>    0.091</td> <td>    0.146</td>\n",
       "</tr>\n",
       "<tr>\n",
       "  <th>2008</th>              <td>    0.1862</td> <td>    0.014</td> <td>   13.189</td> <td> 0.000</td> <td>    0.159</td> <td>    0.214</td>\n",
       "</tr>\n",
       "<tr>\n",
       "  <th>2009</th>              <td>   -0.1147</td> <td>    0.017</td> <td>   -6.834</td> <td> 0.000</td> <td>   -0.148</td> <td>   -0.082</td>\n",
       "</tr>\n",
       "<tr>\n",
       "  <th>2010</th>              <td>    0.0389</td> <td>    0.015</td> <td>    2.644</td> <td> 0.008</td> <td>    0.010</td> <td>    0.068</td>\n",
       "</tr>\n",
       "<tr>\n",
       "  <th>2011</th>              <td>    0.2585</td> <td>    0.014</td> <td>   18.345</td> <td> 0.000</td> <td>    0.231</td> <td>    0.286</td>\n",
       "</tr>\n",
       "<tr>\n",
       "  <th>2012</th>              <td>    0.3308</td> <td>    0.014</td> <td>   22.889</td> <td> 0.000</td> <td>    0.302</td> <td>    0.359</td>\n",
       "</tr>\n",
       "<tr>\n",
       "  <th>2013</th>              <td>    0.2510</td> <td>    0.014</td> <td>   17.594</td> <td> 0.000</td> <td>    0.223</td> <td>    0.279</td>\n",
       "</tr>\n",
       "<tr>\n",
       "  <th>2014</th>              <td>    0.3165</td> <td>    0.014</td> <td>   21.919</td> <td> 0.000</td> <td>    0.288</td> <td>    0.345</td>\n",
       "</tr>\n",
       "<tr>\n",
       "  <th>2015</th>              <td>    0.3389</td> <td>    0.015</td> <td>   22.840</td> <td> 0.000</td> <td>    0.310</td> <td>    0.368</td>\n",
       "</tr>\n",
       "<tr>\n",
       "  <th>2016</th>              <td>    0.2659</td> <td>    0.014</td> <td>   18.345</td> <td> 0.000</td> <td>    0.238</td> <td>    0.294</td>\n",
       "</tr>\n",
       "<tr>\n",
       "  <th>2017</th>              <td>    0.2295</td> <td>    0.014</td> <td>   16.001</td> <td> 0.000</td> <td>    0.201</td> <td>    0.258</td>\n",
       "</tr>\n",
       "<tr>\n",
       "  <th>2018</th>              <td>    0.3054</td> <td>    0.015</td> <td>   20.812</td> <td> 0.000</td> <td>    0.277</td> <td>    0.334</td>\n",
       "</tr>\n",
       "</table>"
      ],
      "text/plain": [
       "<class 'statsmodels.iolib.summary.Summary'>\n",
       "\"\"\"\n",
       "        Logit Marginal Effects       \n",
       "=====================================\n",
       "Dep. Variable:           pos_net_jobs\n",
       "Method:                          dydx\n",
       "At:                           overall\n",
       "=====================================================================================\n",
       "                       dy/dx    std err          z      P>|z|      [0.025      0.975]\n",
       "-------------------------------------------------------------------------------------\n",
       "pct_d_rgdp            0.0033      0.000     11.150      0.000       0.003       0.004\n",
       "emp_estabs            0.0079      0.001     13.394      0.000       0.007       0.009\n",
       "estabs_entry_rate     0.0401      0.001     38.375      0.000       0.038       0.042\n",
       "estabs_exit_rate     -0.0336      0.001    -28.236      0.000      -0.036      -0.031\n",
       "pop                3.029e-08   1.09e-08      2.782      0.005    8.95e-09    5.16e-08\n",
       "pop_pct_black        -0.0008      0.000     -3.957      0.000      -0.001      -0.000\n",
       "pop_pct_hisp          0.0013      0.000      6.678      0.000       0.001       0.002\n",
       "lfpr                  0.0003      0.000      1.037      0.300      -0.000       0.001\n",
       "density             1.59e-06   1.77e-06      0.898      0.369   -1.88e-06    5.06e-06\n",
       "lower                 0.0709      0.007     10.278      0.000       0.057       0.084\n",
       "similar               0.0353      0.007      4.788      0.000       0.021       0.050\n",
       "2003                  0.2232      0.014     15.973      0.000       0.196       0.251\n",
       "2004                  0.2627      0.014     18.459      0.000       0.235       0.291\n",
       "2005                  0.2643      0.015     18.120      0.000       0.236       0.293\n",
       "2006                  0.3600      0.015     23.839      0.000       0.330       0.390\n",
       "2007                  0.1184      0.014      8.467      0.000       0.091       0.146\n",
       "2008                  0.1862      0.014     13.189      0.000       0.159       0.214\n",
       "2009                 -0.1147      0.017     -6.834      0.000      -0.148      -0.082\n",
       "2010                  0.0389      0.015      2.644      0.008       0.010       0.068\n",
       "2011                  0.2585      0.014     18.345      0.000       0.231       0.286\n",
       "2012                  0.3308      0.014     22.889      0.000       0.302       0.359\n",
       "2013                  0.2510      0.014     17.594      0.000       0.223       0.279\n",
       "2014                  0.3165      0.014     21.919      0.000       0.288       0.345\n",
       "2015                  0.3389      0.015     22.840      0.000       0.310       0.368\n",
       "2016                  0.2659      0.014     18.345      0.000       0.238       0.294\n",
       "2017                  0.2295      0.014     16.001      0.000       0.201       0.258\n",
       "2018                  0.3054      0.015     20.812      0.000       0.277       0.334\n",
       "=====================================================================================\n",
       "\"\"\""
      ]
     },
     "execution_count": 7,
     "metadata": {},
     "output_type": "execute_result"
    }
   ],
   "source": [
    "# There is no summary2() method for marginal effects\n",
    "fit_logit.get_margeff().summary()"
   ]
  },
  {
   "cell_type": "markdown",
   "metadata": {},
   "source": [
    "******\n",
    "### Comparison to LPM \n",
    "[TOP](#Regression-Based-Classification)\n",
    "\n",
    "For the sake of not exploding this notebook with summaries, let's use a simplier model:"
   ]
  },
  {
   "cell_type": "code",
   "execution_count": 8,
   "metadata": {},
   "outputs": [
    {
     "name": "stdout",
     "output_type": "stream",
     "text": [
      "Optimization terminated successfully.\n",
      "         Current function value: 0.670597\n",
      "         Iterations 5\n"
     ]
    },
    {
     "data": {
      "text/html": [
       "<table class=\"simpletable\">\n",
       "<caption>Logit Marginal Effects</caption>\n",
       "<tr>\n",
       "  <th>Dep. Variable:</th> <td>pos_net_jobs</td>\n",
       "</tr>\n",
       "<tr>\n",
       "  <th>Method:</th>            <td>dydx</td>    \n",
       "</tr>\n",
       "<tr>\n",
       "  <th>At:</th>               <td>overall</td>  \n",
       "</tr>\n",
       "</table>\n",
       "<table class=\"simpletable\">\n",
       "<tr>\n",
       "          <th></th>            <th>dy/dx</th>    <th>std err</th>      <th>z</th>      <th>P>|z|</th>  <th>[0.025</th>    <th>0.975]</th>  \n",
       "</tr>\n",
       "<tr>\n",
       "  <th>pct_d_rgdp</th>       <td>    0.0057</td> <td>    0.000</td> <td>   17.597</td> <td> 0.000</td> <td>    0.005</td> <td>    0.006</td>\n",
       "</tr>\n",
       "<tr>\n",
       "  <th>estabs_exit_rate</th> <td>   -0.0280</td> <td>    0.001</td> <td>  -26.347</td> <td> 0.000</td> <td>   -0.030</td> <td>   -0.026</td>\n",
       "</tr>\n",
       "</table>"
      ],
      "text/plain": [
       "<class 'statsmodels.iolib.summary.Summary'>\n",
       "\"\"\"\n",
       "        Logit Marginal Effects       \n",
       "=====================================\n",
       "Dep. Variable:           pos_net_jobs\n",
       "Method:                          dydx\n",
       "At:                           overall\n",
       "====================================================================================\n",
       "                      dy/dx    std err          z      P>|z|      [0.025      0.975]\n",
       "------------------------------------------------------------------------------------\n",
       "pct_d_rgdp           0.0057      0.000     17.597      0.000       0.005       0.006\n",
       "estabs_exit_rate    -0.0280      0.001    -26.347      0.000      -0.030      -0.026\n",
       "====================================================================================\n",
       "\"\"\""
      ]
     },
     "execution_count": 8,
     "metadata": {},
     "output_type": "execute_result"
    }
   ],
   "source": [
    "sm.Logit(y_train, x_train[['const', 'pct_d_rgdp', 'estabs_exit_rate']]).fit().get_margeff().summary()"
   ]
  },
  {
   "cell_type": "code",
   "execution_count": 9,
   "metadata": {},
   "outputs": [
    {
     "data": {
      "text/plain": [
       "const               0.791239\n",
       "pct_d_rgdp          0.004881\n",
       "estabs_exit_rate   -0.027172\n",
       "dtype: float64"
      ]
     },
     "execution_count": 9,
     "metadata": {},
     "output_type": "execute_result"
    }
   ],
   "source": [
    "sm.OLS(y_train, x_train[['const', 'pct_d_rgdp', 'estabs_exit_rate']]).fit().params"
   ]
  },
  {
   "cell_type": "markdown",
   "metadata": {},
   "source": [
    "While these values are not identical, they are pretty close to one another. This is because OLS is always a first order approximation. Think/thank Taylor Series!"
   ]
  },
  {
   "cell_type": "markdown",
   "metadata": {},
   "source": [
    "*********\n",
    "### Logit Regularization \n",
    "[TOP](#Regression-Based-Classification)\n",
    "\n",
    "We can also perform regularization, much like OLS:"
   ]
  },
  {
   "cell_type": "raw",
   "metadata": {},
   "source": [
    "lm.LogisticRegression?"
   ]
  },
  {
   "cell_type": "code",
   "execution_count": 10,
   "metadata": {},
   "outputs": [
    {
     "name": "stdout",
     "output_type": "stream",
     "text": [
      "Wall time: 15.3 s\n"
     ]
    },
    {
     "data": {
      "text/plain": [
       "{'C': 0.01, 'l1_ratio': 0.0}"
      ]
     },
     "execution_count": 10,
     "metadata": {},
     "output_type": "execute_result"
    }
   ],
   "source": [
    "%%time\n",
    "param_grid = {\n",
    "    'C': 10.0**np.arange(-5, -1, step = 1),\n",
    "    'l1_ratio':  np.arange(0, 1, step = 0.1)\n",
    "}\n",
    "\n",
    "lr_cv = lm.LogisticRegression(penalty = 'elasticnet', solver = 'saga',\n",
    "                              max_iter = 1e3, random_state = 490)\n",
    "grid_search = GridSearchCV(lr_cv, param_grid, \n",
    "                          cv = 5, \n",
    "                          scoring = 'accuracy',\n",
    "                          n_jobs = 10)\n",
    "grid_search.fit(x_train_std, y_train)\n",
    "best = grid_search.best_params_\n",
    "best"
   ]
  },
  {
   "cell_type": "markdown",
   "metadata": {},
   "source": [
    "# $C = \\frac{1}{\\alpha}$ "
   ]
  },
  {
   "cell_type": "code",
   "execution_count": 11,
   "metadata": {},
   "outputs": [
    {
     "name": "stdout",
     "output_type": "stream",
     "text": [
      "Optimization terminated successfully    (Exit mode 0)\n",
      "            Current function value: 0.6148664747464858\n",
      "            Iterations: 46\n",
      "            Function evaluations: 47\n",
      "            Gradient evaluations: 46\n"
     ]
    },
    {
     "data": {
      "text/plain": [
       "const                0.242299\n",
       "pct_d_rgdp           0.129515\n",
       "emp_estabs           0.160000\n",
       "estabs_entry_rate    0.524969\n",
       "estabs_exit_rate    -0.409562\n",
       "pop                  0.044251\n",
       "pop_pct_black       -0.043049\n",
       "pop_pct_hisp         0.080563\n",
       "lfpr                 0.011502\n",
       "density              0.002602\n",
       "lower                0.132604\n",
       "similar              0.035284\n",
       "2003                 0.102634\n",
       "2004                 0.144029\n",
       "2005                 0.138147\n",
       "2006                 0.250307\n",
       "2007                 0.000000\n",
       "2008                 0.053639\n",
       "2009                -0.260567\n",
       "2010                -0.091555\n",
       "2011                 0.132870\n",
       "2012                 0.210276\n",
       "2013                 0.123378\n",
       "2014                 0.198359\n",
       "2015                 0.217663\n",
       "2016                 0.140723\n",
       "2017                 0.099798\n",
       "2018                 0.180612\n",
       "dtype: float64"
      ]
     },
     "execution_count": 11,
     "metadata": {},
     "output_type": "execute_result"
    }
   ],
   "source": [
    "# You will get convergence warnings\n",
    "# They are due to difficulty converging\n",
    "# We can address this by accepting some error\n",
    "# with our qc_tol\n",
    "# See below\n",
    "fit_logit_reg = sm.Logit(y_train, x_train_std\n",
    "                        ).fit_regularized(alpha = 1/best['C'],\n",
    "                                          L1_wt = best['l1_ratio'],\n",
    "                                          qc_tol = 1e3)\n",
    "fit_logit_reg.params"
   ]
  },
  {
   "cell_type": "markdown",
   "metadata": {},
   "source": [
    "****************\n",
    "## Logit Prediction Diagnostics\n",
    "[TOP](#Regression-Based-Classification)\n",
    "\n",
    "Here we are going to look at how to produce\n",
    "\n",
    "- accuracy\n",
    "- visualizing optimal threshold values\n",
    "- the confusion matrix"
   ]
  },
  {
   "cell_type": "code",
   "execution_count": 12,
   "metadata": {},
   "outputs": [
    {
     "data": {
      "text/plain": [
       "count    16945.000000\n",
       "mean         0.562920\n",
       "std          0.197952\n",
       "min          0.000070\n",
       "25%          0.440244\n",
       "50%          0.595493\n",
       "75%          0.712055\n",
       "max          0.999784\n",
       "dtype: float64"
      ]
     },
     "execution_count": 12,
     "metadata": {},
     "output_type": "execute_result"
    }
   ],
   "source": [
    "fit_logit.predict(x_test).describe()"
   ]
  },
  {
   "cell_type": "markdown",
   "metadata": {},
   "source": [
    "As you can see from the summary of `yhat`, `statsmodels` predicts the probabilities. **How do we know that to be true?**\n",
    "\n",
    "***\n",
    "\n",
    "To produce the **prediction** diagnostics, it is easier to use `sklearn`. \n",
    "\n",
    "********\n",
    "### Logit Null Model\n",
    "[TOP](#Regression-Based-Classification)\n",
    "\n",
    "In classification, the **null model** is simply predicting the most frequently occuring class."
   ]
  },
  {
   "cell_type": "code",
   "execution_count": 13,
   "metadata": {},
   "outputs": [
    {
     "data": {
      "text/plain": [
       "1.0    18992\n",
       "0.0    14897\n",
       "Name: pos_net_jobs, dtype: int64"
      ]
     },
     "execution_count": 13,
     "metadata": {},
     "output_type": "execute_result"
    }
   ],
   "source": [
    "y_train.value_counts()"
   ]
  },
  {
   "cell_type": "code",
   "execution_count": 14,
   "metadata": {},
   "outputs": [
    {
     "data": {
      "text/plain": [
       "0.564886397167306"
      ]
     },
     "execution_count": 14,
     "metadata": {},
     "output_type": "execute_result"
    }
   ],
   "source": [
    "acc_logit_null = np.mean(y_test == 1)\n",
    "acc_logit_null"
   ]
  },
  {
   "cell_type": "markdown",
   "metadata": {},
   "source": [
    "****\n",
    "### Logit Full Model\n",
    "[TOP](#Regression-Based-Classification)\n",
    "\n",
    "For the sake of exposition, we are simply going to use all of the features."
   ]
  },
  {
   "cell_type": "code",
   "execution_count": 15,
   "metadata": {},
   "outputs": [],
   "source": [
    "fit_logit_sk = lm.LogisticRegression().fit(x_train, y_train)"
   ]
  },
  {
   "cell_type": "code",
   "execution_count": 16,
   "metadata": {},
   "outputs": [],
   "source": [
    "yhat = fit_logit_sk.predict(x_test)"
   ]
  },
  {
   "cell_type": "code",
   "execution_count": 17,
   "metadata": {},
   "outputs": [
    {
     "data": {
      "text/plain": [
       "0.6076128651519622"
      ]
     },
     "execution_count": 17,
     "metadata": {},
     "output_type": "execute_result"
    }
   ],
   "source": [
    "acc_logit = np.mean(yhat == y_test)\n",
    "acc_logit"
   ]
  },
  {
   "cell_type": "code",
   "execution_count": 18,
   "metadata": {},
   "outputs": [
    {
     "data": {
      "text/plain": [
       "7.563727538654397"
      ]
     },
     "execution_count": 18,
     "metadata": {},
     "output_type": "execute_result"
    }
   ],
   "source": [
    "(acc_logit - acc_logit_null)/acc_logit_null*100"
   ]
  },
  {
   "cell_type": "markdown",
   "metadata": {},
   "source": [
    "Let's take a look at the confusion matrix."
   ]
  },
  {
   "cell_type": "code",
   "execution_count": 19,
   "metadata": {},
   "outputs": [
    {
     "data": {
      "image/png": "[encoded data removed]",
      "text/plain": [
       "<Figure size 576x324 with 2 Axes>"
      ]
     },
     "metadata": {},
     "output_type": "display_data"
    }
   ],
   "source": [
    "plot_confusion_matrix(fit_logit_sk, x_test, y_test)\n",
    "plt.show()"
   ]
  },
  {
   "cell_type": "markdown",
   "metadata": {},
   "source": [
    "We may have to consider changing thresholds.\n",
    "\n",
    "***\n",
    "### Alternative Thresholds\n",
    "[TOP](#Regression-Based-Classification)\n",
    "\n",
    "We can use `sklearn` to predict probabilities. \n",
    "It will produce a column for each class you have.\n",
    "In this case, we have two classes. "
   ]
  },
  {
   "cell_type": "code",
   "execution_count": 20,
   "metadata": {},
   "outputs": [
    {
     "data": {
      "text/plain": [
       "array([[0.26809485, 0.73190515],\n",
       "       [0.45851187, 0.54148813],\n",
       "       [0.43310779, 0.56689221],\n",
       "       [0.29880253, 0.70119747],\n",
       "       [0.50159124, 0.49840876]])"
      ]
     },
     "execution_count": 20,
     "metadata": {},
     "output_type": "execute_result"
    }
   ],
   "source": [
    "yhat_proba = fit_logit_sk.predict_proba(x_test)\n",
    "yhat_proba[range(5), ]"
   ]
  },
  {
   "cell_type": "code",
   "execution_count": 21,
   "metadata": {},
   "outputs": [
    {
     "data": {
      "text/plain": [
       "0.07673719653613793"
      ]
     },
     "execution_count": 21,
     "metadata": {},
     "output_type": "execute_result"
    }
   ],
   "source": [
    "min(yhat_proba[:, 1])"
   ]
  },
  {
   "cell_type": "markdown",
   "metadata": {},
   "source": [
    "The minimum probability of being in a county with positive net job creation is greater than the default threshold of 50%! Indeed! We will have to cross-validate the threshold.\n",
    "\n",
    "There is no built in function to cross-validate the threshold for logit. \n",
    "We will have to manually set up the loops."
   ]
  },
  {
   "cell_type": "code",
   "execution_count": 22,
   "metadata": {},
   "outputs": [],
   "source": [
    "train = pd.merge(y_train, x_train, left_index = True, right_index = True)\n",
    "kf = KFold(n_splits = 5, random_state = 490, shuffle = True)\n",
    "alpha = np.round(    np.arange(0.5, 0.7, step = 0.01), 2    )"
   ]
  },
  {
   "cell_type": "code",
   "execution_count": 23,
   "metadata": {},
   "outputs": [
    {
     "name": "stderr",
     "output_type": "stream",
     "text": [
      "100%|██████████████████████████████████████████████████████████████████████████████████| 20/20 [00:23<00:00,  1.15s/it]\n"
     ]
    },
    {
     "data": {
      "text/plain": [
       "{0.5: 0.5742573567679164,\n",
       " 0.51: 0.5788901093221728,\n",
       " 0.52: 0.5847327976053558,\n",
       " 0.53: 0.5912540955594471,\n",
       " 0.54: 0.5949130268212747,\n",
       " 0.55: 0.5897785555808525,\n",
       " 0.56: 0.5738736582907847,\n",
       " 0.57: 0.5469327524715297,\n",
       " 0.58: 0.5242114979967347,\n",
       " 0.59: 0.5037035382507433,\n",
       " 0.6: 0.4908084044704868,\n",
       " 0.61: 0.48180843830126313,\n",
       " 0.62: 0.47428392938415403,\n",
       " 0.63: 0.4685298629313658,\n",
       " 0.64: 0.46404455944295997,\n",
       " 0.65: 0.46065109745601707,\n",
       " 0.66: 0.45699206605160836,\n",
       " 0.67: 0.4541592327127672,\n",
       " 0.68: 0.45247725097990604,\n",
       " 0.69: 0.4505002230784848}"
      ]
     },
     "execution_count": 23,
     "metadata": {},
     "output_type": "execute_result"
    }
   ],
   "source": [
    "accuracy = {}\n",
    "\n",
    "for a in tqdm(alpha):\n",
    "    acc = []\n",
    "    for trn, tst in kf.split(train):\n",
    "        yhat = (lm.LogisticRegression(solver = 'liblinear'\n",
    "                                      ).fit(train.iloc[trn, 1:], train.iloc[trn, 0]\n",
    "                                           ).predict_proba(train.iloc[tst, 1:])[:, 1] > a)*1\n",
    "        acc.append(np.mean(yhat == train.iloc[tst, 0]))\n",
    "    accuracy[a] = np.mean(acc)\n",
    "    \n",
    "accuracy"
   ]
  },
  {
   "cell_type": "code",
   "execution_count": 24,
   "metadata": {},
   "outputs": [
    {
     "name": "stdout",
     "output_type": "stream",
     "text": [
      "max accuracy at alpha = 0.54\n"
     ]
    }
   ],
   "source": [
    "print('max accuracy at alpha = %s' % max(accuracy, key = accuracy.get))"
   ]
  },
  {
   "cell_type": "code",
   "execution_count": 25,
   "metadata": {},
   "outputs": [
    {
     "data": {
      "image/png": "[encoded data removed]",
      "text/plain": [
       "<Figure size 576x324 with 1 Axes>"
      ]
     },
     "metadata": {},
     "output_type": "display_data"
    }
   ],
   "source": [
    "plt.scatter(accuracy.keys(), accuracy.values())\n",
    "plt.show()"
   ]
  },
  {
   "cell_type": "markdown",
   "metadata": {},
   "source": [
    "The maximum is $\\alpha=0.54$. However, from the figure, it looks like we can choose either 0.54 or 0.55. Since the accuracy drops off quickly to the right, we may be safer using 0.54.\n",
    "\n",
    "Because we have adjusted the threshold, we need to manually calculate the confusion matrix."
   ]
  },
  {
   "cell_type": "code",
   "execution_count": 26,
   "metadata": {},
   "outputs": [
    {
     "name": "stdout",
     "output_type": "stream",
     "text": [
      "[[3630 3743]\n",
      " [2858 6714]]\n",
      "0.6104455591619947\n",
      "0.6104455591619947 \n",
      "\n"
     ]
    }
   ],
   "source": [
    "best_alpha = max(accuracy, key = accuracy.get)\n",
    "yhat_class = (yhat_proba[:, 1] >= best_alpha)*1\n",
    "\n",
    "TN = sum(((y_test == yhat_class) & (y_test == 0))*1)\n",
    "FP = sum(((y_test != yhat_class) & (y_test == 0))*1)\n",
    "FN = sum(((y_test != yhat_class) & (y_test == 1))*1)\n",
    "TP = sum(((y_test == yhat_class) & (y_test == 1))*1)\n",
    "\n",
    "print(np.array([[TN, FP],[FN, TP]]))\n",
    "print((TN + TP)/(TN + FN + FP + TP))\n",
    "acc_logit_54 = np.mean(yhat_class == y_test)\n",
    "print(acc_logit_54, '\\n')"
   ]
  },
  {
   "cell_type": "markdown",
   "metadata": {},
   "source": [
    "Finally, we can compute the percent improvement from the null model."
   ]
  },
  {
   "cell_type": "code",
   "execution_count": 27,
   "metadata": {},
   "outputs": [
    {
     "data": {
      "text/plain": [
       "8.07"
      ]
     },
     "execution_count": 27,
     "metadata": {},
     "output_type": "execute_result"
    }
   ],
   "source": [
    "round(  (acc_logit_54 - acc_logit_null)/acc_logit_null*100, 2)"
   ]
  },
  {
   "cell_type": "markdown",
   "metadata": {},
   "source": [
    "It looks we have improved our prediction by just over 8%."
   ]
  },
  {
   "cell_type": "markdown",
   "metadata": {},
   "source": [
    "************\n",
    "# Multinomial Logistic Regression \n",
    "[TOP](#Regression-Based-Classification)\n",
    "\n",
    "We need to adjust features and labels to retreive our multiclass label. It is easier to start from scratch. \n",
    "\n",
    "Because logisitc functions struggle with many dummy variables, we are going to simply drop the fixed effects.\n",
    "\n",
    "We will be converting the categorical label to a `category` type of object prior to splitting. This is to ensure consistent labels in the training and testing data."
   ]
  },
  {
   "cell_type": "code",
   "execution_count": 28,
   "metadata": {},
   "outputs": [
    {
     "name": "stdout",
     "output_type": "stream",
     "text": [
      "<class 'pandas.core.frame.DataFrame'>\n",
      "MultiIndex: 50834 entries, (1001, 2002, 'Autauga, AL') to (56045, 2018, 'Weston, WY')\n",
      "Data columns (total 11 columns):\n",
      " #   Column             Non-Null Count  Dtype   \n",
      "---  ------             --------------  -----   \n",
      " 0   pct_d_rgdp         50834 non-null  float64 \n",
      " 1   urate_bin          50834 non-null  category\n",
      " 2   pos_net_jobs       50834 non-null  int32   \n",
      " 3   emp_estabs         50834 non-null  float64 \n",
      " 4   estabs_entry_rate  50834 non-null  float64 \n",
      " 5   estabs_exit_rate   50834 non-null  float64 \n",
      " 6   pop                50834 non-null  float64 \n",
      " 7   pop_pct_black      50834 non-null  float64 \n",
      " 8   pop_pct_hisp       50834 non-null  float64 \n",
      " 9   lfpr               50834 non-null  float64 \n",
      " 10  density            50834 non-null  float64 \n",
      "dtypes: category(1), float64(9), int32(1)\n",
      "memory usage: 6.2+ MB\n"
     ]
    }
   ],
   "source": [
    "df_prepped = df.drop(columns = 'year')\n",
    "df_prepped['urate_bin'] = df_prepped['urate_bin'].astype('category')\n",
    "df_prepped.info()"
   ]
  },
  {
   "cell_type": "code",
   "execution_count": 29,
   "metadata": {},
   "outputs": [
    {
     "data": {
      "text/plain": [
       "fips  year  GeoName    \n",
       "1001  2002  Autauga, AL     lower\n",
       "      2003  Autauga, AL     lower\n",
       "      2004  Autauga, AL     lower\n",
       "      2005  Autauga, AL    higher\n",
       "      2006  Autauga, AL    higher\n",
       "Name: urate_bin, dtype: category\n",
       "Categories (3, object): ['higher', 'lower', 'similar']"
      ]
     },
     "execution_count": 29,
     "metadata": {},
     "output_type": "execute_result"
    }
   ],
   "source": [
    "df_prepped['urate_bin'].head()"
   ]
  },
  {
   "cell_type": "code",
   "execution_count": 30,
   "metadata": {},
   "outputs": [
    {
     "data": {
      "text/plain": [
       "fips  year  GeoName    \n",
       "1001  2002  Autauga, AL    1\n",
       "      2003  Autauga, AL    1\n",
       "      2004  Autauga, AL    1\n",
       "      2005  Autauga, AL    0\n",
       "      2006  Autauga, AL    0\n",
       "dtype: int8"
      ]
     },
     "execution_count": 30,
     "metadata": {},
     "output_type": "execute_result"
    }
   ],
   "source": [
    "df_prepped['urate_bin'].cat.codes.head()"
   ]
  },
  {
   "cell_type": "code",
   "execution_count": 31,
   "metadata": {},
   "outputs": [],
   "source": [
    "y = df_prepped['urate_bin']\n",
    "x = df_prepped.drop(columns = 'urate_bin')\n",
    "\n",
    "x_train, x_test, y_train, y_test = train_test_split(x, y, train_size = 2/3, random_state = 490)\n",
    "\n",
    "x_train_std = x_train.apply(lambda x: (x - np.mean(x))/np.std(x), axis = 0)\n",
    "x_test_std  = x_test.apply(lambda x: (x - np.mean(x))/np.std(x), axis = 0)\n",
    "\n",
    "x_train_std = sm.add_constant(x_train_std)\n",
    "x_test_std  = sm.add_constant(x_test_std)\n",
    "x_train     = sm.add_constant(x_train)\n",
    "x_test      = sm.add_constant(x_test)"
   ]
  },
  {
   "cell_type": "markdown",
   "metadata": {},
   "source": [
    "*****************\n",
    "## MN Logit Inference\n",
    "[TOP](#Regression-Based-Classification)"
   ]
  },
  {
   "cell_type": "code",
   "execution_count": 32,
   "metadata": {},
   "outputs": [
    {
     "name": "stdout",
     "output_type": "stream",
     "text": [
      "Optimization terminated successfully.\n",
      "         Current function value: 0.904853\n",
      "         Iterations 6\n"
     ]
    }
   ],
   "source": [
    "fit_mnlogit = sm.MNLogit(y_train, x_train).fit(maxiter = 150)"
   ]
  },
  {
   "cell_type": "code",
   "execution_count": 33,
   "metadata": {},
   "outputs": [
    {
     "data": {
      "text/html": [
       "<table class=\"simpletable\">\n",
       "<tr>\n",
       "        <td>Model:</td>             <td>MNLogit</td>     <td>Pseudo R-squared:</td>    <td>0.130</td>  \n",
       "</tr>\n",
       "<tr>\n",
       "  <td>Dependent Variable:</td>     <td>urate_bin</td>          <td>AIC:</td>        <td>61373.1393</td>\n",
       "</tr>\n",
       "<tr>\n",
       "         <td>Date:</td>        <td>2021-03-02 14:28</td>       <td>BIC:</td>        <td>61558.6179</td>\n",
       "</tr>\n",
       "<tr>\n",
       "   <td>No. Observations:</td>        <td>33889</td>       <td>Log-Likelihood:</td>    <td>-30665.</td> \n",
       "</tr>\n",
       "<tr>\n",
       "       <td>Df Model:</td>             <td>20</td>            <td>LL-Null:</td>        <td>-35259.</td> \n",
       "</tr>\n",
       "<tr>\n",
       "     <td>Df Residuals:</td>          <td>33867</td>        <td>LLR p-value:</td>      <td>0.0000</td>  \n",
       "</tr>\n",
       "<tr>\n",
       "      <td>Converged:</td>           <td>1.0000</td>           <td>Scale:</td>         <td>1.0000</td>  \n",
       "</tr>\n",
       "<tr>\n",
       "    <td>No. Iterations:</td>        <td>6.0000</td>              <td></td>               <td></td>     \n",
       "</tr>\n",
       "</table>\n",
       "<table class=\"simpletable\">\n",
       "<tr>\n",
       "    <th>urate_bin = 0</th>    <th>Coef.</th>  <th>Std.Err.</th>     <th>t</th>     <th>P>|t|</th> <th>[0.025</th>  <th>0.975]</th> \n",
       "</tr>\n",
       "<tr>\n",
       "        <td>const</td>       <td>-8.2408</td>  <td>0.1638</td>  <td>-50.3167</td> <td>0.0000</td> <td>-8.5618</td> <td>-7.9198</td>\n",
       "</tr>\n",
       "<tr>\n",
       "     <td>pct_d_rgdp</td>     <td>0.0083</td>   <td>0.0015</td>   <td>5.4073</td>  <td>0.0000</td> <td>0.0053</td>  <td>0.0114</td> \n",
       "</tr>\n",
       "<tr>\n",
       "    <td>pos_net_jobs</td>    <td>0.1383</td>   <td>0.0292</td>   <td>4.7272</td>  <td>0.0000</td> <td>0.0809</td>  <td>0.1956</td> \n",
       "</tr>\n",
       "<tr>\n",
       "     <td>emp_estabs</td>     <td>0.0155</td>   <td>0.0033</td>   <td>4.7576</td>  <td>0.0000</td> <td>0.0091</td>  <td>0.0219</td> \n",
       "</tr>\n",
       "<tr>\n",
       "  <td>estabs_entry_rate</td> <td>-0.0321</td>  <td>0.0053</td>   <td>-6.0469</td> <td>0.0000</td> <td>-0.0425</td> <td>-0.0217</td>\n",
       "</tr>\n",
       "<tr>\n",
       "  <td>estabs_exit_rate</td>  <td>-0.0957</td>  <td>0.0064</td>  <td>-14.8573</td> <td>0.0000</td> <td>-0.1083</td> <td>-0.0830</td>\n",
       "</tr>\n",
       "<tr>\n",
       "         <td>pop</td>        <td>0.0000</td>   <td>0.0000</td>   <td>2.0269</td>  <td>0.0427</td> <td>0.0000</td>  <td>0.0000</td> \n",
       "</tr>\n",
       "<tr>\n",
       "    <td>pop_pct_black</td>   <td>-0.0153</td>  <td>0.0013</td>  <td>-11.5958</td> <td>0.0000</td> <td>-0.0179</td> <td>-0.0127</td>\n",
       "</tr>\n",
       "<tr>\n",
       "    <td>pop_pct_hisp</td>    <td>0.0122</td>   <td>0.0011</td>   <td>11.5112</td> <td>0.0000</td> <td>0.0101</td>  <td>0.0143</td> \n",
       "</tr>\n",
       "<tr>\n",
       "        <td>lfpr</td>        <td>0.1160</td>   <td>0.0018</td>   <td>64.9181</td> <td>0.0000</td> <td>0.1125</td>  <td>0.1195</td> \n",
       "</tr>\n",
       "<tr>\n",
       "       <td>density</td>      <td>0.0000</td>   <td>0.0000</td>   <td>1.5776</td>  <td>0.1147</td> <td>-0.0000</td> <td>0.0000</td> \n",
       "</tr>\n",
       "</table>\n",
       "<table class=\"simpletable\">\n",
       "<tr>\n",
       "    <th>urate_bin = 1</th>    <th>Coef.</th>  <th>Std.Err.</th>     <th>t</th>     <th>P>|t|</th> <th>[0.025</th>  <th>0.975]</th> \n",
       "</tr>\n",
       "<tr>\n",
       "        <td>const</td>       <td>-2.8091</td>  <td>0.1601</td>  <td>-17.5494</td> <td>0.0000</td> <td>-3.1228</td> <td>-2.4953</td>\n",
       "</tr>\n",
       "<tr>\n",
       "     <td>pct_d_rgdp</td>     <td>0.0024</td>   <td>0.0018</td>   <td>1.3195</td>  <td>0.1870</td> <td>-0.0012</td> <td>0.0060</td> \n",
       "</tr>\n",
       "<tr>\n",
       "    <td>pos_net_jobs</td>    <td>0.0556</td>   <td>0.0325</td>   <td>1.7114</td>  <td>0.0870</td> <td>-0.0081</td> <td>0.1193</td> \n",
       "</tr>\n",
       "<tr>\n",
       "     <td>emp_estabs</td>     <td>0.0345</td>   <td>0.0034</td>   <td>10.1377</td> <td>0.0000</td> <td>0.0278</td>  <td>0.0412</td> \n",
       "</tr>\n",
       "<tr>\n",
       "  <td>estabs_entry_rate</td> <td>-0.0403</td>  <td>0.0062</td>   <td>-6.5391</td> <td>0.0000</td> <td>-0.0523</td> <td>-0.0282</td>\n",
       "</tr>\n",
       "<tr>\n",
       "  <td>estabs_exit_rate</td>  <td>-0.0638</td>  <td>0.0072</td>   <td>-8.8031</td> <td>0.0000</td> <td>-0.0780</td> <td>-0.0496</td>\n",
       "</tr>\n",
       "<tr>\n",
       "         <td>pop</td>        <td>0.0000</td>   <td>0.0000</td>   <td>3.8480</td>  <td>0.0001</td> <td>0.0000</td>  <td>0.0000</td> \n",
       "</tr>\n",
       "<tr>\n",
       "    <td>pop_pct_black</td>   <td>-0.0095</td>  <td>0.0012</td>   <td>-8.1216</td> <td>0.0000</td> <td>-0.0117</td> <td>-0.0072</td>\n",
       "</tr>\n",
       "<tr>\n",
       "    <td>pop_pct_hisp</td>    <td>0.0017</td>   <td>0.0013</td>   <td>1.3866</td>  <td>0.1656</td> <td>-0.0007</td> <td>0.0042</td> \n",
       "</tr>\n",
       "<tr>\n",
       "        <td>lfpr</td>        <td>0.0333</td>   <td>0.0018</td>   <td>18.5938</td> <td>0.0000</td> <td>0.0298</td>  <td>0.0368</td> \n",
       "</tr>\n",
       "<tr>\n",
       "       <td>density</td>      <td>0.0000</td>   <td>0.0000</td>   <td>1.8199</td>  <td>0.0688</td> <td>-0.0000</td> <td>0.0000</td> \n",
       "</tr>\n",
       "</table>"
      ],
      "text/plain": [
       "<class 'statsmodels.iolib.summary2.Summary'>\n",
       "\"\"\"\n",
       "                         Results: MNLogit\n",
       "==================================================================\n",
       "Model:               MNLogit          Pseudo R-squared: 0.130     \n",
       "Dependent Variable:  urate_bin        AIC:              61373.1393\n",
       "Date:                2021-03-02 14:28 BIC:              61558.6179\n",
       "No. Observations:    33889            Log-Likelihood:   -30665.   \n",
       "Df Model:            20               LL-Null:          -35259.   \n",
       "Df Residuals:        33867            LLR p-value:      0.0000    \n",
       "Converged:           1.0000           Scale:            1.0000    \n",
       "No. Iterations:      6.0000                                       \n",
       "------------------------------------------------------------------\n",
       "  urate_bin = 0    Coef.  Std.Err.    t     P>|t|   [0.025  0.975]\n",
       "------------------------------------------------------------------\n",
       "            const -8.2408   0.1638 -50.3167 0.0000 -8.5618 -7.9198\n",
       "       pct_d_rgdp  0.0083   0.0015   5.4073 0.0000  0.0053  0.0114\n",
       "     pos_net_jobs  0.1383   0.0292   4.7272 0.0000  0.0809  0.1956\n",
       "       emp_estabs  0.0155   0.0033   4.7576 0.0000  0.0091  0.0219\n",
       "estabs_entry_rate -0.0321   0.0053  -6.0469 0.0000 -0.0425 -0.0217\n",
       " estabs_exit_rate -0.0957   0.0064 -14.8573 0.0000 -0.1083 -0.0830\n",
       "              pop  0.0000   0.0000   2.0269 0.0427  0.0000  0.0000\n",
       "    pop_pct_black -0.0153   0.0013 -11.5958 0.0000 -0.0179 -0.0127\n",
       "     pop_pct_hisp  0.0122   0.0011  11.5112 0.0000  0.0101  0.0143\n",
       "             lfpr  0.1160   0.0018  64.9181 0.0000  0.1125  0.1195\n",
       "          density  0.0000   0.0000   1.5776 0.1147 -0.0000  0.0000\n",
       "------------------------------------------------------------------\n",
       "  urate_bin = 1    Coef.  Std.Err.    t     P>|t|   [0.025  0.975]\n",
       "------------------------------------------------------------------\n",
       "            const -2.8091   0.1601 -17.5494 0.0000 -3.1228 -2.4953\n",
       "       pct_d_rgdp  0.0024   0.0018   1.3195 0.1870 -0.0012  0.0060\n",
       "     pos_net_jobs  0.0556   0.0325   1.7114 0.0870 -0.0081  0.1193\n",
       "       emp_estabs  0.0345   0.0034  10.1377 0.0000  0.0278  0.0412\n",
       "estabs_entry_rate -0.0403   0.0062  -6.5391 0.0000 -0.0523 -0.0282\n",
       " estabs_exit_rate -0.0638   0.0072  -8.8031 0.0000 -0.0780 -0.0496\n",
       "              pop  0.0000   0.0000   3.8480 0.0001  0.0000  0.0000\n",
       "    pop_pct_black -0.0095   0.0012  -8.1216 0.0000 -0.0117 -0.0072\n",
       "     pop_pct_hisp  0.0017   0.0013   1.3866 0.1656 -0.0007  0.0042\n",
       "             lfpr  0.0333   0.0018  18.5938 0.0000  0.0298  0.0368\n",
       "          density  0.0000   0.0000   1.8199 0.0688 -0.0000  0.0000\n",
       "==================================================================\n",
       "\n",
       "\"\"\""
      ]
     },
     "execution_count": 33,
     "metadata": {},
     "output_type": "execute_result"
    }
   ],
   "source": [
    "fit_mnlogit.summary2()"
   ]
  },
  {
   "cell_type": "code",
   "execution_count": 34,
   "metadata": {},
   "outputs": [
    {
     "data": {
      "text/plain": [
       "Index(['higher', 'lower', 'similar'], dtype='object')"
      ]
     },
     "execution_count": 34,
     "metadata": {},
     "output_type": "execute_result"
    }
   ],
   "source": [
    "y_train.cat.categories"
   ]
  },
  {
   "cell_type": "markdown",
   "metadata": {},
   "source": [
    "We can see that the baseline class is 2, which is `similar`.\n",
    "\n",
    "We can change the category levels if we wish:"
   ]
  },
  {
   "cell_type": "code",
   "execution_count": 35,
   "metadata": {},
   "outputs": [
    {
     "name": "stdout",
     "output_type": "stream",
     "text": [
      "Optimization terminated successfully.\n",
      "         Current function value: 0.904853\n",
      "         Iterations 6\n"
     ]
    },
    {
     "data": {
      "text/html": [
       "<table class=\"simpletable\">\n",
       "<tr>\n",
       "        <td>Model:</td>             <td>MNLogit</td>     <td>Pseudo R-squared:</td>    <td>0.130</td>  \n",
       "</tr>\n",
       "<tr>\n",
       "  <td>Dependent Variable:</td>     <td>urate_bin</td>          <td>AIC:</td>        <td>61373.1393</td>\n",
       "</tr>\n",
       "<tr>\n",
       "         <td>Date:</td>        <td>2021-03-02 14:28</td>       <td>BIC:</td>        <td>61558.6179</td>\n",
       "</tr>\n",
       "<tr>\n",
       "   <td>No. Observations:</td>        <td>33889</td>       <td>Log-Likelihood:</td>    <td>-30665.</td> \n",
       "</tr>\n",
       "<tr>\n",
       "       <td>Df Model:</td>             <td>20</td>            <td>LL-Null:</td>        <td>-35259.</td> \n",
       "</tr>\n",
       "<tr>\n",
       "     <td>Df Residuals:</td>          <td>33867</td>        <td>LLR p-value:</td>      <td>0.0000</td>  \n",
       "</tr>\n",
       "<tr>\n",
       "      <td>Converged:</td>           <td>1.0000</td>           <td>Scale:</td>         <td>1.0000</td>  \n",
       "</tr>\n",
       "<tr>\n",
       "    <td>No. Iterations:</td>        <td>6.0000</td>              <td></td>               <td></td>     \n",
       "</tr>\n",
       "</table>\n",
       "<table class=\"simpletable\">\n",
       "<tr>\n",
       "    <th>urate_bin = 0</th>    <th>Coef.</th>  <th>Std.Err.</th>     <th>t</th>     <th>P>|t|</th> <th>[0.025</th>  <th>0.975]</th> \n",
       "</tr>\n",
       "<tr>\n",
       "        <td>const</td>       <td>5.4318</td>   <td>0.1866</td>   <td>29.1109</td> <td>0.0000</td> <td>5.0661</td>  <td>5.7975</td> \n",
       "</tr>\n",
       "<tr>\n",
       "     <td>pct_d_rgdp</td>     <td>-0.0059</td>  <td>0.0019</td>   <td>-3.1928</td> <td>0.0014</td> <td>-0.0096</td> <td>-0.0023</td>\n",
       "</tr>\n",
       "<tr>\n",
       "    <td>pos_net_jobs</td>    <td>-0.0826</td>  <td>0.0343</td>   <td>-2.4087</td> <td>0.0160</td> <td>-0.1499</td> <td>-0.0154</td>\n",
       "</tr>\n",
       "<tr>\n",
       "     <td>emp_estabs</td>     <td>0.0190</td>   <td>0.0035</td>   <td>5.3569</td>  <td>0.0000</td> <td>0.0121</td>  <td>0.0260</td> \n",
       "</tr>\n",
       "<tr>\n",
       "  <td>estabs_entry_rate</td> <td>-0.0081</td>  <td>0.0065</td>   <td>-1.2467</td> <td>0.2125</td> <td>-0.0209</td> <td>0.0047</td> \n",
       "</tr>\n",
       "<tr>\n",
       "  <td>estabs_exit_rate</td>  <td>0.0319</td>   <td>0.0078</td>   <td>4.0665</td>  <td>0.0000</td> <td>0.0165</td>  <td>0.0472</td> \n",
       "</tr>\n",
       "<tr>\n",
       "         <td>pop</td>        <td>0.0000</td>   <td>0.0000</td>   <td>2.0204</td>  <td>0.0433</td> <td>0.0000</td>  <td>0.0000</td> \n",
       "</tr>\n",
       "<tr>\n",
       "    <td>pop_pct_black</td>   <td>0.0059</td>   <td>0.0015</td>   <td>3.8319</td>  <td>0.0001</td> <td>0.0029</td>  <td>0.0089</td> \n",
       "</tr>\n",
       "<tr>\n",
       "    <td>pop_pct_hisp</td>    <td>-0.0105</td>  <td>0.0013</td>   <td>-8.1890</td> <td>0.0000</td> <td>-0.0130</td> <td>-0.0080</td>\n",
       "</tr>\n",
       "<tr>\n",
       "        <td>lfpr</td>        <td>-0.0827</td>  <td>0.0020</td>  <td>-41.4428</td> <td>0.0000</td> <td>-0.0866</td> <td>-0.0788</td>\n",
       "</tr>\n",
       "<tr>\n",
       "       <td>density</td>      <td>0.0000</td>   <td>0.0000</td>   <td>0.2440</td>  <td>0.8072</td> <td>-0.0000</td> <td>0.0000</td> \n",
       "</tr>\n",
       "</table>\n",
       "<table class=\"simpletable\">\n",
       "<tr>\n",
       "    <th>urate_bin = 1</th>    <th>Coef.</th>  <th>Std.Err.</th>     <th>t</th>     <th>P>|t|</th> <th>[0.025</th>  <th>0.975]</th> \n",
       "</tr>\n",
       "<tr>\n",
       "        <td>const</td>       <td>8.2408</td>   <td>0.1638</td>   <td>50.3167</td> <td>0.0000</td> <td>7.9198</td>  <td>8.5618</td> \n",
       "</tr>\n",
       "<tr>\n",
       "     <td>pct_d_rgdp</td>     <td>-0.0083</td>  <td>0.0015</td>   <td>-5.4073</td> <td>0.0000</td> <td>-0.0114</td> <td>-0.0053</td>\n",
       "</tr>\n",
       "<tr>\n",
       "    <td>pos_net_jobs</td>    <td>-0.1383</td>  <td>0.0292</td>   <td>-4.7272</td> <td>0.0000</td> <td>-0.1956</td> <td>-0.0809</td>\n",
       "</tr>\n",
       "<tr>\n",
       "     <td>emp_estabs</td>     <td>-0.0155</td>  <td>0.0033</td>   <td>-4.7576</td> <td>0.0000</td> <td>-0.0219</td> <td>-0.0091</td>\n",
       "</tr>\n",
       "<tr>\n",
       "  <td>estabs_entry_rate</td> <td>0.0321</td>   <td>0.0053</td>   <td>6.0469</td>  <td>0.0000</td> <td>0.0217</td>  <td>0.0425</td> \n",
       "</tr>\n",
       "<tr>\n",
       "  <td>estabs_exit_rate</td>  <td>0.0957</td>   <td>0.0064</td>   <td>14.8573</td> <td>0.0000</td> <td>0.0830</td>  <td>0.1083</td> \n",
       "</tr>\n",
       "<tr>\n",
       "         <td>pop</td>        <td>-0.0000</td>  <td>0.0000</td>   <td>-2.0269</td> <td>0.0427</td> <td>-0.0000</td> <td>-0.0000</td>\n",
       "</tr>\n",
       "<tr>\n",
       "    <td>pop_pct_black</td>   <td>0.0153</td>   <td>0.0013</td>   <td>11.5958</td> <td>0.0000</td> <td>0.0127</td>  <td>0.0179</td> \n",
       "</tr>\n",
       "<tr>\n",
       "    <td>pop_pct_hisp</td>    <td>-0.0122</td>  <td>0.0011</td>  <td>-11.5112</td> <td>0.0000</td> <td>-0.0143</td> <td>-0.0101</td>\n",
       "</tr>\n",
       "<tr>\n",
       "        <td>lfpr</td>        <td>-0.1160</td>  <td>0.0018</td>  <td>-64.9181</td> <td>0.0000</td> <td>-0.1195</td> <td>-0.1125</td>\n",
       "</tr>\n",
       "<tr>\n",
       "       <td>density</td>      <td>-0.0000</td>  <td>0.0000</td>   <td>-1.5776</td> <td>0.1147</td> <td>-0.0000</td> <td>0.0000</td> \n",
       "</tr>\n",
       "</table>"
      ],
      "text/plain": [
       "<class 'statsmodels.iolib.summary2.Summary'>\n",
       "\"\"\"\n",
       "                         Results: MNLogit\n",
       "==================================================================\n",
       "Model:               MNLogit          Pseudo R-squared: 0.130     \n",
       "Dependent Variable:  urate_bin        AIC:              61373.1393\n",
       "Date:                2021-03-02 14:28 BIC:              61558.6179\n",
       "No. Observations:    33889            Log-Likelihood:   -30665.   \n",
       "Df Model:            20               LL-Null:          -35259.   \n",
       "Df Residuals:        33867            LLR p-value:      0.0000    \n",
       "Converged:           1.0000           Scale:            1.0000    \n",
       "No. Iterations:      6.0000                                       \n",
       "------------------------------------------------------------------\n",
       "  urate_bin = 0    Coef.  Std.Err.    t     P>|t|   [0.025  0.975]\n",
       "------------------------------------------------------------------\n",
       "            const  5.4318   0.1866  29.1109 0.0000  5.0661  5.7975\n",
       "       pct_d_rgdp -0.0059   0.0019  -3.1928 0.0014 -0.0096 -0.0023\n",
       "     pos_net_jobs -0.0826   0.0343  -2.4087 0.0160 -0.1499 -0.0154\n",
       "       emp_estabs  0.0190   0.0035   5.3569 0.0000  0.0121  0.0260\n",
       "estabs_entry_rate -0.0081   0.0065  -1.2467 0.2125 -0.0209  0.0047\n",
       " estabs_exit_rate  0.0319   0.0078   4.0665 0.0000  0.0165  0.0472\n",
       "              pop  0.0000   0.0000   2.0204 0.0433  0.0000  0.0000\n",
       "    pop_pct_black  0.0059   0.0015   3.8319 0.0001  0.0029  0.0089\n",
       "     pop_pct_hisp -0.0105   0.0013  -8.1890 0.0000 -0.0130 -0.0080\n",
       "             lfpr -0.0827   0.0020 -41.4428 0.0000 -0.0866 -0.0788\n",
       "          density  0.0000   0.0000   0.2440 0.8072 -0.0000  0.0000\n",
       "------------------------------------------------------------------\n",
       "  urate_bin = 1    Coef.  Std.Err.    t     P>|t|   [0.025  0.975]\n",
       "------------------------------------------------------------------\n",
       "            const  8.2408   0.1638  50.3167 0.0000  7.9198  8.5618\n",
       "       pct_d_rgdp -0.0083   0.0015  -5.4073 0.0000 -0.0114 -0.0053\n",
       "     pos_net_jobs -0.1383   0.0292  -4.7272 0.0000 -0.1956 -0.0809\n",
       "       emp_estabs -0.0155   0.0033  -4.7576 0.0000 -0.0219 -0.0091\n",
       "estabs_entry_rate  0.0321   0.0053   6.0469 0.0000  0.0217  0.0425\n",
       " estabs_exit_rate  0.0957   0.0064  14.8573 0.0000  0.0830  0.1083\n",
       "              pop -0.0000   0.0000  -2.0269 0.0427 -0.0000 -0.0000\n",
       "    pop_pct_black  0.0153   0.0013  11.5958 0.0000  0.0127  0.0179\n",
       "     pop_pct_hisp -0.0122   0.0011 -11.5112 0.0000 -0.0143 -0.0101\n",
       "             lfpr -0.1160   0.0018 -64.9181 0.0000 -0.1195 -0.1125\n",
       "          density -0.0000   0.0000  -1.5776 0.1147 -0.0000  0.0000\n",
       "==================================================================\n",
       "\n",
       "\"\"\""
      ]
     },
     "execution_count": 35,
     "metadata": {},
     "output_type": "execute_result"
    }
   ],
   "source": [
    "fit_mnlogit = sm.MNLogit(y_train.cat.set_categories(new_categories = ['lower', 'similar', 'higher']),\n",
    "                                                    x_train).fit(maxiter = 150)\n",
    "fit_mnlogit.summary2()"
   ]
  },
  {
   "cell_type": "markdown",
   "metadata": {},
   "source": [
    "***********\n",
    "### MN Logit Marginal Effects\n",
    "[TOP](#Regression-Based-Classification)"
   ]
  },
  {
   "cell_type": "code",
   "execution_count": 36,
   "metadata": {},
   "outputs": [
    {
     "data": {
      "text/html": [
       "<table class=\"simpletable\">\n",
       "<caption>MNLogit Marginal Effects</caption>\n",
       "<tr>\n",
       "  <th>Dep. Variable:</th> <td>urate_bin</td>\n",
       "</tr>\n",
       "<tr>\n",
       "  <th>Method:</th>          <td>dydx</td>   \n",
       "</tr>\n",
       "<tr>\n",
       "  <th>At:</th>             <td>overall</td> \n",
       "</tr>\n",
       "</table>\n",
       "<table class=\"simpletable\">\n",
       "<tr>\n",
       "   <th>urate_bin=lower</th>     <th>dy/dx</th>    <th>std err</th>      <th>z</th>      <th>P>|z|</th>  <th>[0.025</th>    <th>0.975]</th>  \n",
       "</tr>\n",
       "<tr>\n",
       "  <th>pct_d_rgdp</th>        <td>    0.0014</td> <td>    0.000</td> <td>    5.321</td> <td> 0.000</td> <td>    0.001</td> <td>    0.002</td>\n",
       "</tr>\n",
       "<tr>\n",
       "  <th>pos_net_jobs</th>      <td>    0.0218</td> <td>    0.005</td> <td>    4.410</td> <td> 0.000</td> <td>    0.012</td> <td>    0.032</td>\n",
       "</tr>\n",
       "<tr>\n",
       "  <th>emp_estabs</th>        <td>    0.0006</td> <td>    0.001</td> <td>    1.178</td> <td> 0.239</td> <td>   -0.000</td> <td>    0.002</td>\n",
       "</tr>\n",
       "<tr>\n",
       "  <th>estabs_entry_rate</th> <td>   -0.0033</td> <td>    0.001</td> <td>   -3.646</td> <td> 0.000</td> <td>   -0.005</td> <td>   -0.002</td>\n",
       "</tr>\n",
       "<tr>\n",
       "  <th>estabs_exit_rate</th>  <td>   -0.0135</td> <td>    0.001</td> <td>  -12.259</td> <td> 0.000</td> <td>   -0.016</td> <td>   -0.011</td>\n",
       "</tr>\n",
       "<tr>\n",
       "  <th>pop</th>               <td> 6.069e-09</td> <td> 7.85e-09</td> <td>    0.773</td> <td> 0.439</td> <td>-9.31e-09</td> <td> 2.15e-08</td>\n",
       "</tr>\n",
       "<tr>\n",
       "  <th>pop_pct_black</th>     <td>   -0.0022</td> <td>    0.000</td> <td>   -9.417</td> <td> 0.000</td> <td>   -0.003</td> <td>   -0.002</td>\n",
       "</tr>\n",
       "<tr>\n",
       "  <th>pop_pct_hisp</th>      <td>    0.0021</td> <td>    0.000</td> <td>   12.016</td> <td> 0.000</td> <td>    0.002</td> <td>    0.002</td>\n",
       "</tr>\n",
       "<tr>\n",
       "  <th>lfpr</th>              <td>    0.0192</td> <td>    0.000</td> <td>   82.527</td> <td> 0.000</td> <td>    0.019</td> <td>    0.020</td>\n",
       "</tr>\n",
       "<tr>\n",
       "  <th>density</th>           <td> 1.589e-06</td> <td> 1.42e-06</td> <td>    1.121</td> <td> 0.262</td> <td>-1.19e-06</td> <td> 4.37e-06</td>\n",
       "</tr>\n",
       "<tr>\n",
       "  <th>urate_bin=similar</th>    <th>dy/dx</th>    <th>std err</th>      <th>z</th>      <th>P>|z|</th>  <th>[0.025</th>    <th>0.975]</th>  \n",
       "</tr>\n",
       "<tr>\n",
       "  <th>pct_d_rgdp</th>        <td>   -0.0002</td> <td>    0.000</td> <td>   -0.729</td> <td> 0.466</td> <td>   -0.001</td> <td>    0.000</td>\n",
       "</tr>\n",
       "<tr>\n",
       "  <th>pos_net_jobs</th>      <td>   -0.0007</td> <td>    0.004</td> <td>   -0.154</td> <td> 0.878</td> <td>   -0.009</td> <td>    0.008</td>\n",
       "</tr>\n",
       "<tr>\n",
       "  <th>emp_estabs</th>        <td>    0.0041</td> <td>    0.000</td> <td>    9.082</td> <td> 0.000</td> <td>    0.003</td> <td>    0.005</td>\n",
       "</tr>\n",
       "<tr>\n",
       "  <th>estabs_entry_rate</th> <td>   -0.0039</td> <td>    0.001</td> <td>   -4.576</td> <td> 0.000</td> <td>   -0.006</td> <td>   -0.002</td>\n",
       "</tr>\n",
       "<tr>\n",
       "  <th>estabs_exit_rate</th>  <td>   -0.0033</td> <td>    0.001</td> <td>   -3.272</td> <td> 0.001</td> <td>   -0.005</td> <td>   -0.001</td>\n",
       "</tr>\n",
       "<tr>\n",
       "  <th>pop</th>               <td>  2.25e-08</td> <td>  6.3e-09</td> <td>    3.573</td> <td> 0.000</td> <td> 1.02e-08</td> <td> 3.48e-08</td>\n",
       "</tr>\n",
       "<tr>\n",
       "  <th>pop_pct_black</th>     <td>   -0.0004</td> <td>    0.000</td> <td>   -2.406</td> <td> 0.016</td> <td>   -0.001</td> <td>-7.59e-05</td>\n",
       "</tr>\n",
       "<tr>\n",
       "  <th>pop_pct_hisp</th>      <td>   -0.0005</td> <td>    0.000</td> <td>   -3.125</td> <td> 0.002</td> <td>   -0.001</td> <td>   -0.000</td>\n",
       "</tr>\n",
       "<tr>\n",
       "  <th>lfpr</th>              <td>   -0.0025</td> <td>    0.000</td> <td>  -12.044</td> <td> 0.000</td> <td>   -0.003</td> <td>   -0.002</td>\n",
       "</tr>\n",
       "<tr>\n",
       "  <th>density</th>           <td> 1.491e-06</td> <td> 1.09e-06</td> <td>    1.362</td> <td> 0.173</td> <td>-6.55e-07</td> <td> 3.64e-06</td>\n",
       "</tr>\n",
       "<tr>\n",
       "  <th>urate_bin=higher</th>     <th>dy/dx</th>    <th>std err</th>      <th>z</th>      <th>P>|z|</th>  <th>[0.025</th>    <th>0.975]</th>  \n",
       "</tr>\n",
       "<tr>\n",
       "  <th>pct_d_rgdp</th>        <td>   -0.0012</td> <td>    0.000</td> <td>   -4.247</td> <td> 0.000</td> <td>   -0.002</td> <td>   -0.001</td>\n",
       "</tr>\n",
       "<tr>\n",
       "  <th>pos_net_jobs</th>      <td>   -0.0211</td> <td>    0.005</td> <td>   -4.090</td> <td> 0.000</td> <td>   -0.031</td> <td>   -0.011</td>\n",
       "</tr>\n",
       "<tr>\n",
       "  <th>emp_estabs</th>        <td>   -0.0047</td> <td>    0.001</td> <td>   -8.287</td> <td> 0.000</td> <td>   -0.006</td> <td>   -0.004</td>\n",
       "</tr>\n",
       "<tr>\n",
       "  <th>estabs_entry_rate</th> <td>    0.0072</td> <td>    0.001</td> <td>    7.606</td> <td> 0.000</td> <td>    0.005</td> <td>    0.009</td>\n",
       "</tr>\n",
       "<tr>\n",
       "  <th>estabs_exit_rate</th>  <td>    0.0167</td> <td>    0.001</td> <td>   14.981</td> <td> 0.000</td> <td>    0.015</td> <td>    0.019</td>\n",
       "</tr>\n",
       "<tr>\n",
       "  <th>pop</th>               <td>-2.857e-08</td> <td> 9.12e-09</td> <td>   -3.132</td> <td> 0.002</td> <td>-4.65e-08</td> <td>-1.07e-08</td>\n",
       "</tr>\n",
       "<tr>\n",
       "  <th>pop_pct_black</th>     <td>    0.0026</td> <td>    0.000</td> <td>   12.893</td> <td> 0.000</td> <td>    0.002</td> <td>    0.003</td>\n",
       "</tr>\n",
       "<tr>\n",
       "  <th>pop_pct_hisp</th>      <td>   -0.0016</td> <td>    0.000</td> <td>   -8.332</td> <td> 0.000</td> <td>   -0.002</td> <td>   -0.001</td>\n",
       "</tr>\n",
       "<tr>\n",
       "  <th>lfpr</th>              <td>   -0.0166</td> <td>    0.000</td> <td>  -68.660</td> <td> 0.000</td> <td>   -0.017</td> <td>   -0.016</td>\n",
       "</tr>\n",
       "<tr>\n",
       "  <th>density</th>           <td>-3.079e-06</td> <td> 1.64e-06</td> <td>   -1.877</td> <td> 0.060</td> <td>-6.29e-06</td> <td> 1.35e-07</td>\n",
       "</tr>\n",
       "</table>"
      ],
      "text/plain": [
       "<class 'statsmodels.iolib.summary.Summary'>\n",
       "\"\"\"\n",
       "       MNLogit Marginal Effects      \n",
       "=====================================\n",
       "Dep. Variable:              urate_bin\n",
       "Method:                          dydx\n",
       "At:                           overall\n",
       "=====================================================================================\n",
       "  urate_bin=lower      dy/dx    std err          z      P>|z|      [0.025      0.975]\n",
       "-------------------------------------------------------------------------------------\n",
       "pct_d_rgdp            0.0014      0.000      5.321      0.000       0.001       0.002\n",
       "pos_net_jobs          0.0218      0.005      4.410      0.000       0.012       0.032\n",
       "emp_estabs            0.0006      0.001      1.178      0.239      -0.000       0.002\n",
       "estabs_entry_rate    -0.0033      0.001     -3.646      0.000      -0.005      -0.002\n",
       "estabs_exit_rate     -0.0135      0.001    -12.259      0.000      -0.016      -0.011\n",
       "pop                6.069e-09   7.85e-09      0.773      0.439   -9.31e-09    2.15e-08\n",
       "pop_pct_black        -0.0022      0.000     -9.417      0.000      -0.003      -0.002\n",
       "pop_pct_hisp          0.0021      0.000     12.016      0.000       0.002       0.002\n",
       "lfpr                  0.0192      0.000     82.527      0.000       0.019       0.020\n",
       "density            1.589e-06   1.42e-06      1.121      0.262   -1.19e-06    4.37e-06\n",
       "-------------------------------------------------------------------------------------\n",
       "urate_bin=similar      dy/dx    std err          z      P>|z|      [0.025      0.975]\n",
       "-------------------------------------------------------------------------------------\n",
       "pct_d_rgdp           -0.0002      0.000     -0.729      0.466      -0.001       0.000\n",
       "pos_net_jobs         -0.0007      0.004     -0.154      0.878      -0.009       0.008\n",
       "emp_estabs            0.0041      0.000      9.082      0.000       0.003       0.005\n",
       "estabs_entry_rate    -0.0039      0.001     -4.576      0.000      -0.006      -0.002\n",
       "estabs_exit_rate     -0.0033      0.001     -3.272      0.001      -0.005      -0.001\n",
       "pop                 2.25e-08    6.3e-09      3.573      0.000    1.02e-08    3.48e-08\n",
       "pop_pct_black        -0.0004      0.000     -2.406      0.016      -0.001   -7.59e-05\n",
       "pop_pct_hisp         -0.0005      0.000     -3.125      0.002      -0.001      -0.000\n",
       "lfpr                 -0.0025      0.000    -12.044      0.000      -0.003      -0.002\n",
       "density            1.491e-06   1.09e-06      1.362      0.173   -6.55e-07    3.64e-06\n",
       "-------------------------------------------------------------------------------------\n",
       " urate_bin=higher      dy/dx    std err          z      P>|z|      [0.025      0.975]\n",
       "-------------------------------------------------------------------------------------\n",
       "pct_d_rgdp           -0.0012      0.000     -4.247      0.000      -0.002      -0.001\n",
       "pos_net_jobs         -0.0211      0.005     -4.090      0.000      -0.031      -0.011\n",
       "emp_estabs           -0.0047      0.001     -8.287      0.000      -0.006      -0.004\n",
       "estabs_entry_rate     0.0072      0.001      7.606      0.000       0.005       0.009\n",
       "estabs_exit_rate      0.0167      0.001     14.981      0.000       0.015       0.019\n",
       "pop               -2.857e-08   9.12e-09     -3.132      0.002   -4.65e-08   -1.07e-08\n",
       "pop_pct_black         0.0026      0.000     12.893      0.000       0.002       0.003\n",
       "pop_pct_hisp         -0.0016      0.000     -8.332      0.000      -0.002      -0.001\n",
       "lfpr                 -0.0166      0.000    -68.660      0.000      -0.017      -0.016\n",
       "density           -3.079e-06   1.64e-06     -1.877      0.060   -6.29e-06    1.35e-07\n",
       "=====================================================================================\n",
       "\"\"\""
      ]
     },
     "execution_count": 36,
     "metadata": {},
     "output_type": "execute_result"
    }
   ],
   "source": [
    "fit_mnlogit.get_margeff().summary()"
   ]
  },
  {
   "cell_type": "markdown",
   "metadata": {},
   "source": [
    "*************\n",
    "### MN Logit Regularization \n",
    "[TOP](#Regression-Based-Classification)"
   ]
  },
  {
   "cell_type": "code",
   "execution_count": 37,
   "metadata": {},
   "outputs": [
    {
     "name": "stdout",
     "output_type": "stream",
     "text": [
      "Wall time: 18 s\n"
     ]
    },
    {
     "data": {
      "text/plain": [
       "{'C': 0.01, 'l1_ratio': 0.5}"
      ]
     },
     "execution_count": 37,
     "metadata": {},
     "output_type": "execute_result"
    }
   ],
   "source": [
    "%%time\n",
    "param_grid = {\n",
    "    'C': 10.0**np.arange(-5, -1, step = 1),\n",
    "    'l1_ratio':  np.arange(0, 1, step = 0.1)\n",
    "}\n",
    "\n",
    "lr_cv = lm.LogisticRegression(penalty = 'elasticnet', solver = 'saga',\n",
    "                              max_iter = 1e3, random_state = 490)\n",
    "grid_search = GridSearchCV(lr_cv, param_grid, \n",
    "                          cv = 5, \n",
    "                          scoring = 'accuracy',\n",
    "                          n_jobs = 10)\n",
    "grid_search.fit(x_train_std, y_train)\n",
    "best = grid_search.best_params_\n",
    "best"
   ]
  },
  {
   "cell_type": "markdown",
   "metadata": {},
   "source": [
    "# $C = \\frac{1}{\\alpha}$"
   ]
  },
  {
   "cell_type": "code",
   "execution_count": 38,
   "metadata": {},
   "outputs": [
    {
     "name": "stdout",
     "output_type": "stream",
     "text": [
      "Optimization terminated successfully    (Exit mode 0)\n",
      "            Current function value: 0.9170222634572774\n",
      "            Iterations: 48\n",
      "            Function evaluations: 48\n",
      "            Gradient evaluations: 48\n"
     ]
    },
    {
     "data": {
      "text/html": [
       "<div>\n",
       "<style scoped>\n",
       "    .dataframe tbody tr th:only-of-type {\n",
       "        vertical-align: middle;\n",
       "    }\n",
       "\n",
       "    .dataframe tbody tr th {\n",
       "        vertical-align: top;\n",
       "    }\n",
       "\n",
       "    .dataframe thead th {\n",
       "        text-align: right;\n",
       "    }\n",
       "</style>\n",
       "<table border=\"1\" class=\"dataframe\">\n",
       "  <thead>\n",
       "    <tr style=\"text-align: right;\">\n",
       "      <th></th>\n",
       "      <th>0</th>\n",
       "      <th>1</th>\n",
       "    </tr>\n",
       "  </thead>\n",
       "  <tbody>\n",
       "    <tr>\n",
       "      <th>const</th>\n",
       "      <td>-0.210202</td>\n",
       "      <td>-0.736071</td>\n",
       "    </tr>\n",
       "    <tr>\n",
       "      <th>pct_d_rgdp</th>\n",
       "      <td>0.053859</td>\n",
       "      <td>0.000000</td>\n",
       "    </tr>\n",
       "    <tr>\n",
       "      <th>pos_net_jobs</th>\n",
       "      <td>0.045208</td>\n",
       "      <td>0.000658</td>\n",
       "    </tr>\n",
       "    <tr>\n",
       "      <th>emp_estabs</th>\n",
       "      <td>0.050222</td>\n",
       "      <td>0.140933</td>\n",
       "    </tr>\n",
       "    <tr>\n",
       "      <th>estabs_entry_rate</th>\n",
       "      <td>-0.063547</td>\n",
       "      <td>-0.078584</td>\n",
       "    </tr>\n",
       "    <tr>\n",
       "      <th>estabs_exit_rate</th>\n",
       "      <td>-0.228397</td>\n",
       "      <td>-0.143882</td>\n",
       "    </tr>\n",
       "    <tr>\n",
       "      <th>pop</th>\n",
       "      <td>0.014490</td>\n",
       "      <td>0.045453</td>\n",
       "    </tr>\n",
       "    <tr>\n",
       "      <th>pop_pct_black</th>\n",
       "      <td>-0.184031</td>\n",
       "      <td>-0.109292</td>\n",
       "    </tr>\n",
       "    <tr>\n",
       "      <th>pop_pct_hisp</th>\n",
       "      <td>0.138715</td>\n",
       "      <td>0.000000</td>\n",
       "    </tr>\n",
       "    <tr>\n",
       "      <th>lfpr</th>\n",
       "      <td>1.256061</td>\n",
       "      <td>0.345394</td>\n",
       "    </tr>\n",
       "    <tr>\n",
       "      <th>density</th>\n",
       "      <td>0.000695</td>\n",
       "      <td>0.004797</td>\n",
       "    </tr>\n",
       "  </tbody>\n",
       "</table>\n",
       "</div>"
      ],
      "text/plain": [
       "                          0         1\n",
       "const             -0.210202 -0.736071\n",
       "pct_d_rgdp         0.053859  0.000000\n",
       "pos_net_jobs       0.045208  0.000658\n",
       "emp_estabs         0.050222  0.140933\n",
       "estabs_entry_rate -0.063547 -0.078584\n",
       "estabs_exit_rate  -0.228397 -0.143882\n",
       "pop                0.014490  0.045453\n",
       "pop_pct_black     -0.184031 -0.109292\n",
       "pop_pct_hisp       0.138715  0.000000\n",
       "lfpr               1.256061  0.345394\n",
       "density            0.000695  0.004797"
      ]
     },
     "execution_count": 38,
     "metadata": {},
     "output_type": "execute_result"
    }
   ],
   "source": [
    "# You will get convergence warnings\n",
    "# They are due to difficulty converging\n",
    "# We can address this by accepting some error\n",
    "# with our qc_tol\n",
    "# See below\n",
    "fit_logit_reg = sm.MNLogit(y_train, x_train_std\n",
    "                          ).fit_regularized(alpha = 1/best['C'],\n",
    "                                            L1_wt = best['l1_ratio'],\n",
    "                                            qc_tol = 1e3)\n",
    "fit_logit_reg.params"
   ]
  },
  {
   "cell_type": "markdown",
   "metadata": {},
   "source": [
    "From here, you can decide whether or not to keep variables if you wish to refit without regularization.\n",
    "As a rule of thumb, drop features that are 50% zero across classes.\n",
    "\n",
    "***\n",
    "## MN Logit Prediction Diagnostics\n",
    "[TOP](#Regression-Based-Classification)\n",
    "\n",
    "We will proceed as we did for the binomial logistic regression.\n",
    "We will first fit the null model and then compare it to another model.\n",
    "\n",
    "********\n",
    "### MN Logit Null Model\n",
    "[TOP](#Regression-Based-Classification)"
   ]
  },
  {
   "cell_type": "code",
   "execution_count": 39,
   "metadata": {},
   "outputs": [
    {
     "data": {
      "text/plain": [
       "higher     14820\n",
       "lower      12856\n",
       "similar     6213\n",
       "Name: urate_bin, dtype: int64"
      ]
     },
     "execution_count": 39,
     "metadata": {},
     "output_type": "execute_result"
    }
   ],
   "source": [
    "y_train.value_counts()"
   ]
  },
  {
   "cell_type": "markdown",
   "metadata": {},
   "source": [
    "We can see that the largest grouping of counties have much higher than national unemployment rates.\n",
    "We will predict that class."
   ]
  },
  {
   "cell_type": "code",
   "execution_count": 40,
   "metadata": {},
   "outputs": [
    {
     "data": {
      "text/plain": [
       "0.43416937149601653"
      ]
     },
     "execution_count": 40,
     "metadata": {},
     "output_type": "execute_result"
    }
   ],
   "source": [
    "acc_mnlogit_null = np.mean(y_test == 'higher')\n",
    "acc_mnlogit_null"
   ]
  },
  {
   "cell_type": "markdown",
   "metadata": {},
   "source": [
    "*******\n",
    "### MN Logit Full Model\n",
    "[TOP](#Regression-Based-Classification)"
   ]
  },
  {
   "cell_type": "code",
   "execution_count": 41,
   "metadata": {},
   "outputs": [],
   "source": [
    "fit_mnlogit_sk = lm.LogisticRegression(solver = 'liblinear').fit(x_train, y_train)"
   ]
  },
  {
   "cell_type": "code",
   "execution_count": 42,
   "metadata": {},
   "outputs": [
    {
     "data": {
      "image/png": "[encoded data removed]",
      "text/plain": [
       "<Figure size 576x324 with 2 Axes>"
      ]
     },
     "metadata": {},
     "output_type": "display_data"
    }
   ],
   "source": [
    "plot_confusion_matrix(fit_mnlogit_sk, x_test, y_test)\n",
    "plt.show()"
   ]
  },
  {
   "cell_type": "markdown",
   "metadata": {},
   "source": [
    "It looks like we are having trouble predicting the county unemployment rate similar to the national.\n",
    "\n",
    "Let's take a look at the overall accuracy."
   ]
  },
  {
   "cell_type": "code",
   "execution_count": 43,
   "metadata": {},
   "outputs": [
    {
     "data": {
      "text/plain": [
       "0.5493065801121275"
      ]
     },
     "execution_count": 43,
     "metadata": {},
     "output_type": "execute_result"
    }
   ],
   "source": [
    "yhat = fit_mnlogit_sk.predict(x_test)\n",
    "acc_mnlogit = np.mean(yhat == y_test)\n",
    "acc_mnlogit"
   ]
  },
  {
   "cell_type": "markdown",
   "metadata": {},
   "source": [
    "Yikes."
   ]
  },
  {
   "cell_type": "code",
   "execution_count": 44,
   "metadata": {},
   "outputs": [
    {
     "data": {
      "text/plain": [
       "26.52"
      ]
     },
     "execution_count": 44,
     "metadata": {},
     "output_type": "execute_result"
    }
   ],
   "source": [
    "round(100*(acc_mnlogit - acc_mnlogit_null)/acc_mnlogit_null, 2)"
   ]
  },
  {
   "cell_type": "markdown",
   "metadata": {},
   "source": [
    "Not a bad improvement, but remember that we are only getting it correct barely more than 50% of the time."
   ]
  }
 ],
 "metadata": {
  "kernelspec": {
   "display_name": "Python 3",
   "language": "python",
   "name": "python3"
  },
  "language_info": {
   "codemirror_mode": {
    "name": "ipython",
    "version": 3
   },
   "file_extension": ".py",
   "mimetype": "text/x-python",
   "name": "python",
   "nbconvert_exporter": "python",
   "pygments_lexer": "ipython3",
   "version": "3.8.5"
  }
 },
 "nbformat": 4,
 "nbformat_minor": 5
}
