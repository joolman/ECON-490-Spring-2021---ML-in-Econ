{
 "cells": [
  {
   "cell_type": "markdown",
   "metadata": {},
   "source": [
    "# Intro to Python\n",
    "\n",
    "#### Table of Contents\n",
    "\n",
    "* [Creating Virtual Environments](#Creating-Virtual-Environments)\n",
    "* [Welcome to Jupyter!](#Welcome-to-Jupyter!)\n",
    "* [Scalar Types](#Scalar-Types)\n",
    "* [Type Casting](#Type-Casting)\n",
    "* [Listing Objects](#Listing-Objects)\n",
    "* [Data Structures](#Data-Structures)\n",
    "* [Loops](#Loops)\n",
    "* [Functions](#Functions)\n",
    "* [Classes](#Classes)\n",
    "* [Exporting Notebook](#Exporting-Notebook)\n",
    "- [NumPy](#NumPy)\n",
    "    * [Matrices](#Matrices)\n",
    "    * [Random](#Random)\n",
    "    * [Math](#Math)\n",
    "- [Pandas](#Pandas)\n",
    "    * [Series, DataFrames, and Indices](#Series,-DataFrames,-and-Indices)\n",
    "    * [Multiple Data Sets](#Multiple-Data-Sets)\n",
    "    * [Real Data](#Real-Data)\n",
    "    * [Pivoting](#Pivoting)\n",
    "- [Matplotlib](#Matplotlib)\n",
    "- [Seaborn](#Seaborn)\n",
    "    - [Other Plots](#Other-Plots)\n",
    "\n",
    "***\n",
    "\n",
    "# Creating Virtual Environments\n",
    "\n",
    "In `Anaconda Prompt`\n",
    "```\n",
    "conda create -n AMLinEcon tensorflow\n",
    "conda activate AMLinEcon\n",
    "```\n",
    "To switch between virtual environments:\n",
    "```\n",
    "conda activate base\n",
    "```\n",
    "To download packages to desired virtual environment:\n",
    "```\n",
    "conda activate AMLinEcon\n",
    "conda install pandas\n",
    "```\n",
    "An alternative way to install packages is through Anaconda Navigator itself. \n",
    "Click on the `Environments` tab, click on the virtual environment you wish to use (`MLinEcon`), and ensure the dropdown menu says not \"Installed\" but \"All\". \n",
    "Search for the package name. \n",
    "If it has a green checkbox, it is already installed. \n",
    "Otherwise click the box and click `Apply` in the bottom right.\n",
    "Anaconda will perfrom a check for packages to modify. \n",
    "Once it is done, click `Apply`.\n",
    "\n",
    "*Note that we can perform all of our* `Git` *operations in Anaconda Prompt*.\n",
    "\n",
    "**********************************************************************************\n",
    "\n",
    "# Welcome to Jupyter!\n",
    "\n",
    "Jupyter is a graphical user interface or GUI for Python.\n",
    "It has a Markdown style text editor to combine code and text. \n",
    "Together, this makes the *notebook* part of Jupyter Notebooks. \n",
    "However, I would encourage you to use Jupyter Lab as the notebooks is older and becoming obsolete.\n",
    "\n",
    "When dealing with text or code cells, there are two modes: \n",
    "\n",
    "    1. command - modify cells\n",
    "    2. edit - modify cell content\n",
    "\n",
    "Here are some keyboard shorcuts:\n",
    "\n",
    "| Mode    | Shortcut | Description |\n",
    "|--------:|:--------:|:------------|\n",
    "| Edit    | `Esc` | Enter command mode |\n",
    "| Command | `A` | Insert cell above highlighted cell |\n",
    "| Command | `B` | Insert cell below highlighted cell |\n",
    "| Command | `Y` | Change cell to Code |\n",
    "| Command | `M` | Change cell to Markdown |\n",
    "| Command | `R` | Change cell to Raw |\n",
    "| Command | `C` | Copy cell |\n",
    "| Command | `X` | Cut cell |\n",
    "| Command | `V` | Paste cell |\n",
    "| Command | `D, D` | Delete cell |\n",
    "| Command | `Enter` | Enter edit mode |\n",
    "| Either | `Ctrl-Enter` | Execute cell |\n",
    "| Either | `Shift-Enter` | Execute cell *and* insert Code cell below |"
   ]
  },
  {
   "cell_type": "code",
   "execution_count": null,
   "metadata": {},
   "outputs": [],
   "source": []
  },
  {
   "cell_type": "code",
   "execution_count": null,
   "metadata": {},
   "outputs": [],
   "source": []
  },
  {
   "cell_type": "code",
   "execution_count": null,
   "metadata": {},
   "outputs": [],
   "source": []
  },
  {
   "cell_type": "markdown",
   "metadata": {},
   "source": [
    "This is how you type in Markdown.\n",
    "In the cell, this is a new line.\n",
    "But it will appear in one line.\n",
    "\n",
    "This is how you type with *italics* or _italics_. \n",
    "This is how you type with **boldface** or __boldface__.\n",
    "This is how you type with **_boldface italics_** or __*boldface italics*__.\n",
    "\n",
    "If you want to, you can make a list, but make sure things line up!\n",
    "\n",
    "* An item\n",
    "- Another item\n",
    "  1. You can alternatively use numbers\n",
    "  * Mix and match!\n",
    "     * You know it is working when it changes colors!\n",
    "\n",
    "We can also [link sections](#Python-Part-1).\n",
    "\n",
    "***********\n",
    "\n",
    "It is possible to write code inline: `print('Hello!)`. \n",
    "\n",
    "If we alternatively have multiple lines of code we want to write but not execute, we can do this:\n",
    "```\n",
    "print('Hello,')\n",
    "print(\"world!\")\n",
    "```\n",
    "\n",
    "***********************************\n",
    "\n",
    "Don't forget about math!\n",
    "We can write math inline: $y_i = \\alpha + x_i \\beta + \\epsilon_i$.\n",
    "\n",
    "But if we have some important math, we can make it stand out:\n",
    "$$\n",
    "\\sum_{t = 0}^\\infty ar^t = \\frac{a}{1 - r}\n",
    "$$\n",
    "\n",
    "But if we have some serious math, we can use some $\\latex$ (if only that worked...)\n",
    "$$\n",
    "\\begin{align*}\n",
    "    2 & = 1 + 1\\\\\n",
    "    & = 2*1 \\tag{factoring}\n",
    "\\end{align*}\n",
    "$$\n",
    "\n",
    "*********\n",
    "Now, let's get to coding!"
   ]
  },
  {
   "cell_type": "code",
   "execution_count": null,
   "metadata": {},
   "outputs": [],
   "source": [
    "# bring Python to life!\n",
    "'Hello, world!'"
   ]
  },
  {
   "cell_type": "code",
   "execution_count": null,
   "metadata": {},
   "outputs": [],
   "source": [
    "# Python is just a calculator\n",
    "1 + 1"
   ]
  },
  {
   "cell_type": "code",
   "execution_count": null,
   "metadata": {},
   "outputs": [],
   "source": [
    "# Jupyter (not Python) only prints out the last line (if applicable)\n",
    "'Hello, world!'\n",
    "1+1"
   ]
  },
  {
   "cell_type": "code",
   "execution_count": null,
   "metadata": {},
   "outputs": [],
   "source": [
    "# Need print()\n",
    "print('Hello, world!') # prints into notebook\n",
    "1+1                    # echo from terminal"
   ]
  },
  {
   "cell_type": "code",
   "execution_count": null,
   "metadata": {},
   "outputs": [],
   "source": [
    "# See?\n",
    "print('hello')"
   ]
  },
  {
   "cell_type": "code",
   "execution_count": null,
   "metadata": {},
   "outputs": [],
   "source": [
    "# A fancy calculator\n",
    "a = 3\n",
    "b = 2\n",
    "c = a ** b\n",
    "print(c)"
   ]
  },
  {
   "cell_type": "markdown",
   "metadata": {},
   "source": [
    "******\n",
    "# Scalar Types\n",
    "[Top](#Intro-to-Python)"
   ]
  },
  {
   "cell_type": "code",
   "execution_count": null,
   "metadata": {},
   "outputs": [],
   "source": [
    "# numbers\n",
    "print(type(3)) # an integer\n",
    "print(type(3.14)) # a float\n",
    "print(type(3.)) # a float"
   ]
  },
  {
   "cell_type": "code",
   "execution_count": null,
   "metadata": {},
   "outputs": [],
   "source": [
    "# Booleans\n",
    "print(type(True))\n",
    "print(not False)  # negation\n",
    "print(3.14 > 490) # weakly greater than\n",
    "print(3. <= 3)    # GREATER THAN or EQUAL TO\n",
    "print(3. == 3)    # EQUAL TO\n",
    "print((3. <= 3) & (3.14 > 490)) # and\n",
    "print((3. <= 3) | (3.14 > 490)) # or\n",
    "print((3. <= 3) ^ (3.14 > 490)) # xor\n",
    "print(True + 3)\n",
    "False * 10"
   ]
  },
  {
   "cell_type": "code",
   "execution_count": null,
   "metadata": {},
   "outputs": [],
   "source": [
    "# Strings, glorious strings\n",
    "hello = 'Hello, world!'\n",
    "print(type(hello))\n",
    "\n",
    "hello2 = \"Hello, world!\"\n",
    "hello == hello2"
   ]
  },
  {
   "cell_type": "code",
   "execution_count": null,
   "metadata": {},
   "outputs": [],
   "source": [
    "# There are methods for some objects such as .replace()\n",
    "s = \"This is a string.\"\n",
    "s2 = s.replace('string', 'longer string')\n",
    "print(s2)"
   ]
  },
  {
   "cell_type": "code",
   "execution_count": null,
   "metadata": {},
   "outputs": [],
   "source": [
    "l = 'left'\n",
    "r = 'right'\n",
    "print(l + r)"
   ]
  },
  {
   "cell_type": "code",
   "execution_count": null,
   "metadata": {},
   "outputs": [],
   "source": [
    "# strings can also have special characters:\n",
    "print('hello\\n\\thi')"
   ]
  },
  {
   "cell_type": "code",
   "execution_count": null,
   "metadata": {},
   "outputs": [],
   "source": [
    "print('hello\\\\hi')"
   ]
  },
  {
   "cell_type": "code",
   "execution_count": null,
   "metadata": {},
   "outputs": [],
   "source": [
    "# r stands for raw\n",
    "print(r'no\\special\\characters')"
   ]
  },
  {
   "cell_type": "code",
   "execution_count": null,
   "metadata": {},
   "outputs": [],
   "source": [
    "# Fancy strings\n",
    "template = '{0:.2f} {1:s} are worth US${2:d}'\n",
    "# {0:.2f} - first argument as float with two decimal places\n",
    "# {1:s} - seconds argument as a string\n",
    "# {2:d} - third argument as an integer\n",
    "template.format(1.368, 'Euros', 1)"
   ]
  },
  {
   "cell_type": "code",
   "execution_count": null,
   "metadata": {},
   "outputs": [],
   "source": [
    "# fancier strings\n",
    "e_float = 1.368\n",
    "e_string = 'Euros'\n",
    "e_int = 1\n",
    "print('%.2f %s are worth US$%d' % (e_float, e_string, e_int)) # a tuple"
   ]
  },
  {
   "cell_type": "markdown",
   "metadata": {},
   "source": [
    "****\n",
    "# Type Casting\n",
    "[Top](#Intro-to-Python)"
   ]
  },
  {
   "cell_type": "code",
   "execution_count": null,
   "metadata": {},
   "outputs": [],
   "source": [
    "p = '3.14'\n",
    "fval = float(p)\n",
    "print(fval)\n",
    "print(type(fval))\n",
    "print(int(fval))\n",
    "print(bool(fval))\n",
    "print(bool(-0.1)) # anything non-zero-numeric is True\n",
    "print(bool(0))\n",
    "print(bool('0'))"
   ]
  },
  {
   "cell_type": "markdown",
   "metadata": {},
   "source": [
    "***\n",
    "# Listing Objects\n",
    "[Top](#Intro-to-Python)"
   ]
  },
  {
   "cell_type": "code",
   "execution_count": null,
   "metadata": {},
   "outputs": [],
   "source": [
    "%who"
   ]
  },
  {
   "cell_type": "code",
   "execution_count": null,
   "metadata": {},
   "outputs": [],
   "source": [
    "%whos \n",
    "# I prefer this"
   ]
  },
  {
   "cell_type": "markdown",
   "metadata": {},
   "source": [
    "****\n",
    "# Data Structures\n",
    "[Top](#Intro-to-Python)"
   ]
  },
  {
   "cell_type": "code",
   "execution_count": null,
   "metadata": {},
   "outputs": [],
   "source": [
    "###########\n",
    "## Tuple ##\n",
    "###########\n",
    "tup = 1, 2, 3\n",
    "print(tup)\n",
    "\n",
    "nested_tup = (1, 2, 3), (4, 5)\n",
    "print(nested_tup)\n",
    "\n",
    "print(tup*2, '\\n')\n",
    "\n",
    "a = 1,2,2,2,3,4\n",
    "print(a.count(2))\n",
    "print(tuple('string'), '\\n')\n",
    "\n",
    "values = 1, 2, 3, 4, 5\n",
    "a, b, *_ = values # Discard\n",
    "print(a, b)\n",
    "\n",
    "a, b, *remainder = values\n",
    "print(remainder)"
   ]
  },
  {
   "cell_type": "code",
   "execution_count": null,
   "metadata": {},
   "outputs": [],
   "source": [
    "###########\n",
    "## Lists ##\n",
    "###########\n",
    "print(type(remainder))\n",
    "\n",
    "rng = range(0, 10)\n",
    "print(rng)\n",
    "print(list(rng))"
   ]
  },
  {
   "cell_type": "markdown",
   "metadata": {},
   "source": [
    "$$ CAUTION $$\n",
    "Python is zero indexed! \n",
    "Also, the final argument is exclusive:\n",
    "\n",
    "`range(0, 10)` $\\equiv [0, 10)$"
   ]
  },
  {
   "cell_type": "code",
   "execution_count": null,
   "metadata": {},
   "outputs": [],
   "source": [
    "num = list(range(3))\n",
    "print(num)\n",
    "num.append(3)\n",
    "print(num, '\\n')\n",
    "\n",
    "num.insert(1, 10)\n",
    "print(num)\n",
    "num.pop(2)\n",
    "print(num)\n",
    "num.remove(10)\n",
    "print(num, '\\n')\n",
    "\n",
    "print(1 in num)\n",
    "print(num + num)\n",
    "num2 = num + num\n",
    "num2.sort()\n",
    "print(num2, '\\n')\n",
    "\n",
    "# Indexing\n",
    "lst = [(1,2), 3, 4, 5]\n",
    "print(lst[0])\n",
    "print(lst[0:3])\n",
    "print(lst[-3:-1])\n",
    "print(lst[:-1])\n",
    "print(lst[::-1]) # reverse!"
   ]
  },
  {
   "cell_type": "markdown",
   "metadata": {},
   "source": [
    "$$CAUTION!!$$\n",
    "Assignment references the same object!"
   ]
  },
  {
   "cell_type": "code",
   "execution_count": null,
   "metadata": {},
   "outputs": [],
   "source": [
    "a = list('minimum wage')\n",
    "b = a\n",
    "b[8] = 'r' # modify\n",
    "print(a)"
   ]
  },
  {
   "cell_type": "code",
   "execution_count": null,
   "metadata": {},
   "outputs": [],
   "source": [
    "a = list('blah')\n",
    "b = a\n",
    "b = 2 # overwrite\n",
    "print(a)"
   ]
  },
  {
   "cell_type": "code",
   "execution_count": null,
   "metadata": {},
   "outputs": [],
   "source": [
    "a = list('minimum wage')\n",
    "b = a.copy()\n",
    "b[8] = 'r'\n",
    "print(a)"
   ]
  },
  {
   "cell_type": "code",
   "execution_count": null,
   "metadata": {},
   "outputs": [],
   "source": [
    "#####################\n",
    "## lists vs tuples ##\n",
    "#####################\n",
    "tup = tuple('minimum wage')\n",
    "tup[8] = 'r'\n",
    "# tuples are immutable\n",
    "# lists are mutable"
   ]
  },
  {
   "cell_type": "code",
   "execution_count": null,
   "metadata": {},
   "outputs": [],
   "source": [
    "##########\n",
    "## Sets ##\n",
    "##########\n",
    "type({'blah'})"
   ]
  },
  {
   "cell_type": "code",
   "execution_count": null,
   "metadata": {},
   "outputs": [],
   "source": [
    "##################\n",
    "## Dictionaries ## key: value\n",
    "##################\n",
    "d = {'a': 'string',\n",
    "    'b': (1, 2, '3'),\n",
    "    1: {'c' : 2}}\n",
    "print(d)\n",
    "print(d['b'])\n",
    "print(d[1]['c'])"
   ]
  },
  {
   "cell_type": "markdown",
   "metadata": {},
   "source": [
    "***\n",
    "# Loops\n",
    "[Top](#Intro-to-Python)"
   ]
  },
  {
   "cell_type": "code",
   "execution_count": null,
   "metadata": {},
   "outputs": [],
   "source": [
    "# never use while loops\n",
    "i = 0\n",
    "while i < 5: # change to i > -5, Kernel > Restart ->\n",
    "    print(i) # comment about no need to rerun anything\n",
    "    i += 1"
   ]
  },
  {
   "cell_type": "code",
   "execution_count": null,
   "metadata": {},
   "outputs": [],
   "source": [
    "for i in range(10):\n",
    "    if i < 5:\n",
    "        print(i)\n",
    "    else:\n",
    "        break"
   ]
  },
  {
   "cell_type": "code",
   "execution_count": null,
   "metadata": {},
   "outputs": [],
   "source": [
    "# Creating a dictionary\n",
    "mapping = {}\n",
    "h = list('hello')\n",
    "for i, value in enumerate(h):\n",
    "    mapping[value] = i\n",
    "print(mapping, '\\n')\n",
    "\n",
    "rng = range(len(h))\n",
    "zipped = zip(rng, h)\n",
    "print(zipped)\n",
    "\n",
    "for i, (a, b) in enumerate(zip(rng, h)):\n",
    "    print('{0}: {1}, {2}'.format(i, a, b))\n",
    "\n",
    "boom = [1, 2]\n",
    "values = [-1, 0 ,1]\n",
    "for v in values:\n",
    "    if v not in boom:\n",
    "        if v > 0:\n",
    "            print('positive')\n",
    "        elif v < 0:\n",
    "            print('negative')\n",
    "        else:\n",
    "            print('zero')\n",
    "    else: \n",
    "        print('BOOM!')"
   ]
  },
  {
   "cell_type": "code",
   "execution_count": null,
   "metadata": {},
   "outputs": [],
   "source": [
    "####################\n",
    "## Comprehensions ##\n",
    "####################\n",
    "strings = ['applied', 'machine', 'learning', 'in', 'economics']\n",
    "\n",
    "# list comprehensions\n",
    "print([something.upper() for something in strings if something.count('a') >= 1])\n",
    "\n",
    "# set comprehensions\n",
    "print({len(x) for x in strings})\n",
    "print(set(map(len, strings))) # more efficient\n",
    "\n",
    "# dict comprehnsions\n",
    "print({val: index for index, val in enumerate(strings)}, '\\n')"
   ]
  },
  {
   "cell_type": "markdown",
   "metadata": {},
   "source": [
    "*** \n",
    "# Functions\n",
    "[Top](#Intro-to-Python)\n",
    "\n",
    "Two primary types:\n",
    "\n",
    "1. Defined functions\n",
    "   * multiple lines\n",
    "   * multiple expressions\n",
    "2. Lambda functions \n",
    "   * oneline \n",
    "   * arguments: expression\n",
    "   * \"anonymous\" function"
   ]
  },
  {
   "cell_type": "code",
   "execution_count": null,
   "metadata": {},
   "outputs": [],
   "source": [
    "def floor_div(x, y):\n",
    "    \"\"\"\n",
    "    this function returns the floor divide value and the remainder\n",
    "    \"\"\"\n",
    "    value = x // y\n",
    "    remainder = x - value*y\n",
    "    return value, remainder\n",
    "v, r = floor_div(6,4)\n",
    "print('Value: ' + str(v) + '\\nRemainder:', r)\n",
    "\n",
    "fl_dv = lambda a, b : a // b\n",
    "fl_dv(6, 4)"
   ]
  },
  {
   "cell_type": "code",
   "execution_count": null,
   "metadata": {},
   "outputs": [],
   "source": [
    "floor_div?"
   ]
  },
  {
   "cell_type": "code",
   "execution_count": null,
   "metadata": {},
   "outputs": [],
   "source": [
    "floor_div??"
   ]
  },
  {
   "cell_type": "markdown",
   "metadata": {},
   "source": [
    "***\n",
    "# Classes\n",
    "[Top](#Intro-to-Python)\n",
    "\n",
    "Much like how defining `a = 2` makes `a` an object, classes are objects with properties and methods."
   ]
  },
  {
   "cell_type": "code",
   "execution_count": null,
   "metadata": {},
   "outputs": [],
   "source": [
    "class course:\n",
    "    def __init__(self, dept, number, name): # __init__ is always executed\n",
    "        self.dept = dept\n",
    "        self.number = number\n",
    "        self.name = name\n",
    "        \n",
    "    def is_econ_topic(self):\n",
    "        if (self.dept == 'ECON') & (self.number == 490):\n",
    "            print('yep')\n",
    "        else:\n",
    "            print('nope')\n",
    "            \n",
    "x = course('ECON', 490, 'Applied Machine Learning in Econoimcs')\n",
    "print(x.number)\n",
    "\n",
    "x.is_econ_topic()"
   ]
  },
  {
   "cell_type": "code",
   "execution_count": null,
   "metadata": {},
   "outputs": [],
   "source": [
    "class course:\n",
    "    def __init__(first, dept, number, name):\n",
    "        first.dept = dept\n",
    "        first.number = number\n",
    "        first.name = name\n",
    "        \n",
    "    def is_econ_topic(somethingelse):\n",
    "        if (somethingelse.dept == 'ECON') & (somethingelse.number == 490):\n",
    "            print('yep')\n",
    "        else:\n",
    "            print('nope')\n",
    "            \n",
    "x = course('ECON', 490, 'Applied Machine Learning in Econoimcs')\n",
    "print(x.number)\n",
    "\n",
    "x.is_econ_topic()"
   ]
  },
  {
   "cell_type": "markdown",
   "metadata": {},
   "source": [
    "***\n",
    "# Exporting Notebook\n",
    "[Top](#Intro-to-Python)\n",
    "`File > Export Notebook As... > Export Notebook to PDF`\n",
    "\n",
    "***\n",
    "# NumPy\n",
    "[Top](#Intro-to-Python)\n",
    "\n",
    "**Num**erical **Py**thon\n",
    "## Matrices\n",
    "[Top](#Intro-to-Python)"
   ]
  },
  {
   "cell_type": "code",
   "execution_count": null,
   "metadata": {},
   "outputs": [],
   "source": [
    "import numpy as np"
   ]
  },
  {
   "cell_type": "code",
   "execution_count": null,
   "metadata": {},
   "outputs": [],
   "source": [
    "arr = np.array([[1,2,3],\n",
    "               [4,5,6]])\n",
    "print(arr, '\\n')\n",
    "\n",
    "print(arr.T, '\\n')\n",
    "\n",
    "print(arr.shape)\n",
    "print(arr.ndim)\n",
    "print(arr.dtype)\n",
    "print(arr.astype(np.float64).dtype)"
   ]
  },
  {
   "cell_type": "code",
   "execution_count": null,
   "metadata": {},
   "outputs": [],
   "source": [
    "# i can row but j cannot\n",
    "print(arr[0])\n",
    "print(arr[0, :])\n",
    "print(arr[0, 1:])\n",
    "print(arr[:, ::-1])"
   ]
  },
  {
   "cell_type": "code",
   "execution_count": null,
   "metadata": {},
   "outputs": [],
   "source": [
    "print(np.arange(6))\n",
    "print(np.arange(6, step = 0.5), '\\n')\n",
    "\n",
    "print(np.arange(6).reshape(2, 3)) # by row\n",
    "print(np.arange(1, 7).reshape(2, 3, order = 'F'), '\\n') # by column\n",
    "\n",
    "print(np.linspace(0, 1, num = 10), '\\n')\n",
    "print(np.linspace(0, 1, num = 4).reshape(2, 2))"
   ]
  },
  {
   "cell_type": "markdown",
   "metadata": {},
   "source": [
    "*****************************\n",
    "## Random\n",
    "[TOP](#Intro-to-Python)\n",
    "\n",
    "`numpy` is a __*package*__. \n",
    "We will use its `random` _**module**_."
   ]
  },
  {
   "cell_type": "code",
   "execution_count": null,
   "metadata": {},
   "outputs": [],
   "source": [
    "# So you can replicate\n",
    "np.random.seed(490) # sets seed for numpy functions"
   ]
  },
  {
   "cell_type": "code",
   "execution_count": null,
   "metadata": {},
   "outputs": [],
   "source": [
    "np.random.random(4)"
   ]
  },
  {
   "cell_type": "code",
   "execution_count": null,
   "metadata": {},
   "outputs": [],
   "source": [
    "# It changes if you run it again\n",
    "np.random.random(4)"
   ]
  },
  {
   "cell_type": "code",
   "execution_count": null,
   "metadata": {},
   "outputs": [],
   "source": [
    "# Keep in same cell to ensure consistency\n",
    "np.random.seed(490)\n",
    "np.random.random(4)"
   ]
  },
  {
   "cell_type": "code",
   "execution_count": null,
   "metadata": {},
   "outputs": [],
   "source": [
    "from numpy import random as npr\n",
    "import numpy.random as npr"
   ]
  },
  {
   "cell_type": "code",
   "execution_count": null,
   "metadata": {},
   "outputs": [],
   "source": [
    "pois = npr.poisson(size = 10)"
   ]
  },
  {
   "cell_type": "code",
   "execution_count": null,
   "metadata": {},
   "outputs": [],
   "source": [
    "print(pois)\n",
    "print(np.unique(pois), '\\n')\n",
    "\n",
    "unique, counts = np.unique(pois, return_counts = True)\n",
    "print(dict(zip(unique, counts)), '\\n')\n",
    "\n",
    "print(list(zip(unique, counts)), '\\n')\n",
    "\n",
    "np.array(np.unique(pois, return_counts = True)).T"
   ]
  },
  {
   "cell_type": "code",
   "execution_count": null,
   "metadata": {},
   "outputs": [],
   "source": [
    "npr.uniform(low = 3, high = 4, size = (2, 3, 2))"
   ]
  },
  {
   "cell_type": "code",
   "execution_count": null,
   "metadata": {},
   "outputs": [],
   "source": [
    "npr.normal(loc = 4, scale = .90, size = (2, 3)) # mean, std"
   ]
  },
  {
   "cell_type": "markdown",
   "metadata": {},
   "source": [
    "******\n",
    "## Math\n",
    "[TOP](#Intro-to-Python)"
   ]
  },
  {
   "cell_type": "code",
   "execution_count": null,
   "metadata": {},
   "outputs": [],
   "source": [
    "arr = np.array([[1, 1, 1],\n",
    "               [1,2,3]])\n",
    "print(arr, '\\n')\n",
    "\n",
    "print(np.mean(arr))\n",
    "print(np.mean(arr, axis = 0)) # down the rows\n",
    "print(np.mean(arr, axis = 1), '\\n') # across the colums\n",
    "\n",
    "print(np.std(arr, axis = 1), '\\n')\n",
    "\n",
    "print(np.log(arr))\n",
    "np.nan"
   ]
  },
  {
   "cell_type": "markdown",
   "metadata": {},
   "source": [
    "*****\n",
    "# Pandas\n",
    "[TOP](#Intro-to-Python)\n",
    "\n",
    "**P**ytho**N** **D**ata **A**nalysi**S** (almost pandas?)\n",
    "\n",
    "## Series, DataFrames, and Indices\n",
    "[TOP](#Intro-to-Python)"
   ]
  },
  {
   "cell_type": "code",
   "execution_count": null,
   "metadata": {},
   "outputs": [],
   "source": [
    "import pandas as pd"
   ]
  },
  {
   "cell_type": "code",
   "execution_count": null,
   "metadata": {},
   "outputs": [],
   "source": [
    "gm_gdpc = pd.read_csv('gapminder GDPc.csv')\n",
    "gm_gdpc.head()"
   ]
  },
  {
   "cell_type": "code",
   "execution_count": null,
   "metadata": {},
   "outputs": [],
   "source": [
    "# Pandas core object is a DataFrame\n",
    "type(gm_gdpc)"
   ]
  },
  {
   "cell_type": "code",
   "execution_count": null,
   "metadata": {},
   "outputs": [],
   "source": [
    "# Each columns is a series\n",
    "type(gm_gdpc.country)"
   ]
  },
  {
   "cell_type": "code",
   "execution_count": null,
   "metadata": {},
   "outputs": [],
   "source": [
    "# DataFrames and series have indices\n",
    "print(gm_gdpc.index, '\\n')\n",
    "\n",
    "s = gm_gdpc.country\n",
    "print(s.head(), '\\n')\n",
    "s.index"
   ]
  },
  {
   "cell_type": "code",
   "execution_count": null,
   "metadata": {},
   "outputs": [],
   "source": [
    "# indices are immutable like tuples\n",
    "gm_gdpc.index[0] = 'zero'"
   ]
  },
  {
   "cell_type": "code",
   "execution_count": null,
   "metadata": {},
   "outputs": [],
   "source": [
    "# you can set indices from columns when loading data\n",
    "gm_life = pd.read_csv('gapminder life expectancy.csv', index_col = 'country')\n",
    "gm_life.head()"
   ]
  },
  {
   "cell_type": "markdown",
   "metadata": {},
   "source": [
    "Checkout `pd.read_csv?` for more options\n",
    "***\n",
    "# Multiple Data Sets\n",
    "[TOP](#Intro-to-Python)\n",
    "\n",
    "There are three ways to combine data:\n",
    "\n",
    "1. `df.join()` - combine multiple data frames on indices\n",
    "2. `df.merge()` or `pd.merge()` - combine two data frames on either indices or columns\n",
    "3. `pd.concat()` - row/column stacking"
   ]
  },
  {
   "cell_type": "code",
   "execution_count": null,
   "metadata": {},
   "outputs": [],
   "source": [
    "gm_gdpc.head(1)"
   ]
  },
  {
   "cell_type": "code",
   "execution_count": null,
   "metadata": {},
   "outputs": [],
   "source": [
    "gm_life.set_index('continent', append = True, inplace = True)"
   ]
  },
  {
   "cell_type": "code",
   "execution_count": null,
   "metadata": {},
   "outputs": [],
   "source": [
    "# Actually, only right has to be on index\n",
    "# gm_gdpc.join(gm_life, on = ['country', 'continent'], how = 'inner')\n",
    "gm = gm_gdpc.join(gm_life, on = ['country', 'continent'], how = 'inner')"
   ]
  },
  {
   "cell_type": "code",
   "execution_count": null,
   "metadata": {},
   "outputs": [],
   "source": [
    "# To do multiple, the left must be on index\n",
    "gm_gdpc.set_index(['country', 'continent'], inplace = True)"
   ]
  },
  {
   "cell_type": "code",
   "execution_count": null,
   "metadata": {},
   "outputs": [],
   "source": [
    "# They need unique column names\n",
    "gm_life2 = gm_life.copy()\n",
    "gm_life2.columns = gm_life2.columns.str.lower()"
   ]
  },
  {
   "cell_type": "code",
   "execution_count": null,
   "metadata": {},
   "outputs": [],
   "source": [
    "# Ta dah!\n",
    "gm_gdpc.join([gm_life, gm_life2]).columns"
   ]
  },
  {
   "cell_type": "code",
   "execution_count": null,
   "metadata": {},
   "outputs": [],
   "source": [
    "print(gm.shape)\n",
    "print(pd.concat([gm, gm, gm]).shape)\n",
    "print(pd.concat([gm, gm, gm], axis = 'columns').shape)\n",
    "print(pd.concat([gm, gm, gm], axis = 1).shape)"
   ]
  },
  {
   "cell_type": "markdown",
   "metadata": {},
   "source": [
    "### Time to Make the Gap Minder Data"
   ]
  },
  {
   "cell_type": "code",
   "execution_count": null,
   "metadata": {},
   "outputs": [],
   "source": [
    "gm_pop = pd.read_csv('gapminder population.csv')\n",
    "gm_pop.head()"
   ]
  },
  {
   "cell_type": "code",
   "execution_count": null,
   "metadata": {},
   "outputs": [],
   "source": [
    "# I don't like holding down shift\n",
    "gm_pop.columns = gm_pop.columns.str.lower()"
   ]
  },
  {
   "cell_type": "code",
   "execution_count": null,
   "metadata": {},
   "outputs": [],
   "source": [
    "# the population data is formatted correctly, but the rest are not\n",
    "# pd.wide_to_long(gm.reset_index(), stubnames = ['gdpPercap', 'lifeExp'], i = ['country', 'continent'], j = 'year', sep = '_')\n",
    "# pd.wide_to_long(gm.reset_index(), stubnames = ['gdpPercap', 'lifeExp'], i = 'country', j = 'year', sep = '_')\n",
    "gm = pd.wide_to_long(gm.reset_index(), stubnames = ['gdpPercap', 'lifeExp'], i = 'country', j = 'year', sep = '_')\n",
    "gm.head(3)"
   ]
  },
  {
   "cell_type": "markdown",
   "metadata": {},
   "source": [
    "A very good resource for understanding pivotting tables: `pivot`, `pivot_table`, `stack`, and `unstack`\n",
    "\n",
    "https://nikgrozev.com/2015/07/01/reshaping-in-pandas-pivot-pivot-table-stack-and-unstack-explained-with-pictures/"
   ]
  },
  {
   "cell_type": "code",
   "execution_count": null,
   "metadata": {},
   "outputs": [],
   "source": [
    "gm.sort_index(inplace = True)"
   ]
  },
  {
   "cell_type": "code",
   "execution_count": null,
   "metadata": {},
   "outputs": [],
   "source": [
    "gm_pop = gm_pop.drop(columns = 'continent').set_index(['country', 'year'])\n",
    "gm_pop.head()"
   ]
  },
  {
   "cell_type": "code",
   "execution_count": null,
   "metadata": {},
   "outputs": [],
   "source": [
    "gm = gm.join(gm_pop)"
   ]
  },
  {
   "cell_type": "code",
   "execution_count": null,
   "metadata": {},
   "outputs": [],
   "source": [
    "# Creating a new column\n",
    "gm['gdp'] = gm['pop'] * gm.gdpPercap\n",
    "# Note df.pop() is a method\n",
    "gm.head(1)"
   ]
  },
  {
   "cell_type": "code",
   "execution_count": null,
   "metadata": {},
   "outputs": [],
   "source": [
    "# Now, let's inspect our data frame\n",
    "gm.describe()\n",
    "gm.info() # shouldn't population be an integer?"
   ]
  },
  {
   "cell_type": "code",
   "execution_count": null,
   "metadata": {},
   "outputs": [],
   "source": [
    "# Locate an instance that is not an integer\n",
    "sum(gm['pop']%1 != 0)\n",
    "np.where(gm['pop']%1 != 0)\n",
    "gm['pop'].iloc[288]"
   ]
  },
  {
   "cell_type": "code",
   "execution_count": null,
   "metadata": {},
   "outputs": [],
   "source": [
    "# note\n",
    "int(0.9)"
   ]
  },
  {
   "cell_type": "code",
   "execution_count": null,
   "metadata": {},
   "outputs": [],
   "source": [
    "# You can force type ocnversion\n",
    "np.round(gm['pop']).astype(int)\n",
    "# to overwrite\n",
    "gm.loc[:, 'pop'] = np.round(gm['pop']).astype(int)"
   ]
  },
  {
   "cell_type": "code",
   "execution_count": null,
   "metadata": {},
   "outputs": [],
   "source": [
    "gm.info()"
   ]
  },
  {
   "cell_type": "markdown",
   "metadata": {},
   "source": [
    "****************\n",
    "# Matplotlib\n",
    "[TOP](#Intro-to-Python)"
   ]
  },
  {
   "cell_type": "code",
   "execution_count": null,
   "metadata": {},
   "outputs": [],
   "source": [
    "import matplotlib.pyplot as plt"
   ]
  },
  {
   "cell_type": "code",
   "execution_count": null,
   "metadata": {},
   "outputs": [],
   "source": [
    "gm.head()"
   ]
  },
  {
   "cell_type": "code",
   "execution_count": null,
   "metadata": {},
   "outputs": [],
   "source": [
    "# gm.loc[:, 2007, :]\n",
    "gm_2007 = gm.loc[:, 2007, :]"
   ]
  },
  {
   "cell_type": "code",
   "execution_count": null,
   "metadata": {},
   "outputs": [],
   "source": [
    "gm_2007.gdpPercap.plot(kind = 'hist')"
   ]
  },
  {
   "cell_type": "code",
   "execution_count": null,
   "metadata": {},
   "outputs": [],
   "source": [
    "plt.scatter(gm_2007.gdpPercap, gm_2007.lifeExp)\n",
    "# plt.show()"
   ]
  },
  {
   "cell_type": "code",
   "execution_count": null,
   "metadata": {},
   "outputs": [],
   "source": [
    "plt.figure(figsize = (8, 4.5))\n",
    "# We could add colors, but we would need to create a dictionary\n",
    "plt.scatter(gm_2007.gdpPercap, gm_2007.lifeExp)\n",
    "\n",
    "plt.title('log GDPc vs Life Expectancy in 2007')\n",
    "plt.ylabel('Life Expectancy (years)')\n",
    "plt.xlabel('$\\\\frac{GDP}{Population}$')\n",
    "\n",
    "plt.semilogx()\n",
    "plt.show()"
   ]
  },
  {
   "cell_type": "markdown",
   "metadata": {},
   "source": [
    "***\n",
    "# Seaborn\n",
    "[TOP](#Intro-to-Python)"
   ]
  },
  {
   "cell_type": "code",
   "execution_count": null,
   "metadata": {},
   "outputs": [],
   "source": [
    "import seaborn as sns\n",
    "\n",
    "# rc = runtime configuration\n",
    "sns.set(rc = {'axes.titlesize': 24,\n",
    "             'axes.labelsize': 20,\n",
    "             'xtick.labelsize': 12,\n",
    "             'ytick.labelsize': 12,\n",
    "             'figure.figsize': (8, 4.5)})"
   ]
  },
  {
   "cell_type": "code",
   "execution_count": null,
   "metadata": {},
   "outputs": [],
   "source": [
    "sns.scatterplot(data = gm_2007, x = 'gdpPercap', y = 'lifeExp',\n",
    "                hue = 'continent', size = 'pop')\n",
    "\n",
    "plt.title('log GDPc vs Life Expectancy in 2007')\n",
    "plt.ylabel('Life Expectancy (years)')\n",
    "plt.xlabel('$\\\\frac{GDP}{Population}$')\n",
    "\n",
    "plt.semilogx()\n",
    "plt.show()"
   ]
  },
  {
   "cell_type": "code",
   "execution_count": null,
   "metadata": {},
   "outputs": [],
   "source": [
    "fig = sns.scatterplot(data = gm_2007, x = 'gdpPercap', y = 'lifeExp',\n",
    "                      hue = 'continent', size = 'pop', sizes = (20, 2000),\n",
    "                     alpha = 0.75)\n",
    "h, l = fig.get_legend_handles_labels()\n",
    "# print(h,'\\n')\n",
    "# print(l)\n",
    "plt.legend(h[1:6], l[1:6], loc = 'lower right', title = 'Continent')\n",
    "\n",
    "plt.title('log GDPc vs Life Expectancy in 2007')\n",
    "plt.ylabel('Life Expectancy (years)')\n",
    "plt.xlabel('$\\\\frac{GDP}{Population}$')\n",
    "\n",
    "plt.semilogx()\n",
    "plt.show()"
   ]
  },
  {
   "cell_type": "markdown",
   "metadata": {},
   "source": [
    "## Other Plots\n",
    "[TOP](#Intro-to-Python)"
   ]
  },
  {
   "cell_type": "code",
   "execution_count": null,
   "metadata": {},
   "outputs": [],
   "source": [
    "sns.pairplot(data = gm_2007)"
   ]
  },
  {
   "cell_type": "code",
   "execution_count": null,
   "metadata": {},
   "outputs": [],
   "source": [
    "sns.pairplot(data = gm_2007, kind = 'hist',\n",
    "             plot_kws = {'bins': 10}, diag_kws = {'bins': 4})\n",
    "plt.show()"
   ]
  },
  {
   "cell_type": "code",
   "execution_count": null,
   "metadata": {},
   "outputs": [],
   "source": [
    "sns.violinplot(data = gm_2007, x = 'continent', y = 'lifeExp')"
   ]
  },
  {
   "cell_type": "code",
   "execution_count": null,
   "metadata": {},
   "outputs": [],
   "source": [
    "# How about creating another discrete variable\n",
    "# gm_2007['65+'] = (gm_2007.lifeExp >= 65)*1\n",
    "gm_2007.loc[:, '65+'] = gm_2007.lifeExp >= 65"
   ]
  },
  {
   "cell_type": "code",
   "execution_count": null,
   "metadata": {},
   "outputs": [],
   "source": [
    "# But it's okay\n",
    "gm_2007"
   ]
  },
  {
   "cell_type": "code",
   "execution_count": null,
   "metadata": {},
   "outputs": [],
   "source": [
    "# Discrete vs discrete\n",
    "gm_2007.groupby('continent')['65+'].apply(lambda x: x.value_counts())\n",
    "df = gm_2007.groupby('continent').apply(lambda x: x['65+'].value_counts()).reset_index().rename(columns = {'level_1':'LifeExp $\\geq$ 65'})\n",
    "sns.barplot(data = df, x = 'continent', y = '65+', hue = 'LifeExp $\\geq$ 65')"
   ]
  },
  {
   "cell_type": "code",
   "execution_count": null,
   "metadata": {},
   "outputs": [],
   "source": [
    "# Binned scatter plot (you should know this as an economist)\n",
    "from scipy.stats import binned_statistic\n",
    "\n",
    "# binned_statistic?\n",
    "n = 50\n",
    "bin_mean, bin_edge, bin_number = binned_statistic(np.log(gm_2007.gdpPercap), gm_2007.lifeExp, bins = n)\n",
    "\n",
    "x = np.average([bin_edge[:-1], bin_edge[1:]], axis = 0)\n",
    "\n",
    "plt.scatter(x, bin_mean, label = '%d bins' % n)\n",
    "plt.legend()"
   ]
  },
  {
   "cell_type": "code",
   "execution_count": null,
   "metadata": {},
   "outputs": [],
   "source": [
    "# Many Plots\n",
    "gm_2007['lgdpc'] = np.log(gm_2007.gdpPercap)\n",
    "\n",
    "plt.figure(figsize = (8, 6), dpi = 160)\n",
    "plt.subplot(2, 2, 1)\n",
    "sns.histplot(data = gm_2007, x = 'gdpPercap')\n",
    "\n",
    "plt.subplot(222)\n",
    "sns.histplot(data = gm_2007, x = 'lifeExp', bins = 3)\n",
    "\n",
    "plt.subplot(2, 1, 2)\n",
    "sns.scatterplot(data = gm_2007, x = 'lgdpc', y = 'lifeExp')\n",
    "plt.title('Gap Minder 2007')\n",
    "\n",
    "plt.tight_layout()\n",
    "plt.savefig('figure')"
   ]
  },
  {
   "cell_type": "markdown",
   "metadata": {},
   "source": [
    "************\n",
    "# Time Series\n",
    "[TOP](#Intro-to-Python)\n",
    "\n",
    "A quick note"
   ]
  },
  {
   "cell_type": "code",
   "execution_count": null,
   "metadata": {},
   "outputs": [],
   "source": [
    "nasdaq = pd.read_csv('nasdaq.csv', index_col = 'Date')\n",
    "nasdaq.index = pd.to_datetime(nasdaq.index)\n",
    "nasdaq.head()"
   ]
  },
  {
   "cell_type": "code",
   "execution_count": null,
   "metadata": {},
   "outputs": [],
   "source": [
    "# Double [[]] to keep data frame\n",
    "ts = nasdaq[['Close']].rename(columns = {'Close': 'y'})\n",
    "ts['ly'] = np.log(ts['y'])\n",
    "ts['dly'] = ts.ly.diff()\n",
    "ts.tail()"
   ]
  },
  {
   "cell_type": "code",
   "execution_count": null,
   "metadata": {},
   "outputs": [],
   "source": [
    "plt.subplot(1, 3, 1)\n",
    "sns.lineplot(data = ts, x = ts.index, y = 'y')\n",
    "\n",
    "plt.subplot(1, 3, 2)\n",
    "sns.lineplot(data = ts, x = 'Date', y = 'ly')\n",
    "\n",
    "plt.subplot(1, 3, 3)\n",
    "sns.lineplot(data = ts, x = 'Date', y = 'dly')\n",
    "\n",
    "plt.tight_layout()"
   ]
  },
  {
   "cell_type": "code",
   "execution_count": null,
   "metadata": {},
   "outputs": [],
   "source": [
    "# We want dly b/c about predicting noise structure\n",
    "\n",
    "# create lags\n",
    "ts['dly_lag1'] = ts.dly.shift(-1)\n",
    "ts.head(3)"
   ]
  },
  {
   "cell_type": "code",
   "execution_count": null,
   "metadata": {},
   "outputs": [],
   "source": [
    "# To convert back suppose predict next observation:\n",
    "yhat = ts.dly[2]\n",
    "ly = ts.ly[1]\n",
    "l_yhat = ly + yhat\n",
    "exp_l_yhat = np.exp(yhat + ts.ly[1])\n",
    "exp_l_yhat"
   ]
  },
  {
   "cell_type": "code",
   "execution_count": null,
   "metadata": {},
   "outputs": [],
   "source": []
  }
 ],
 "metadata": {
  "kernelspec": {
   "display_name": "Python 3",
   "language": "python",
   "name": "python3"
  },
  "language_info": {
   "codemirror_mode": {
    "name": "ipython",
    "version": 3
   },
   "file_extension": ".py",
   "mimetype": "text/x-python",
   "name": "python",
   "nbconvert_exporter": "python",
   "pygments_lexer": "ipython3",
   "version": "3.9.5"
  }
 },
 "nbformat": 4,
 "nbformat_minor": 4
}
