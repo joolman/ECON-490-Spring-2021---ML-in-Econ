{
 "cells": [
  {
   "cell_type": "markdown",
   "id": "lightweight-finish",
   "metadata": {},
   "source": [
    "## RNN"
   ]
  },
  {
   "cell_type": "code",
   "execution_count": 1,
   "id": "general-violin",
   "metadata": {},
   "outputs": [],
   "source": [
    "%run metrics.py"
   ]
  },
  {
   "cell_type": "code",
   "execution_count": 97,
   "id": "capable-nightlife",
   "metadata": {},
   "outputs": [],
   "source": [
    "# utilities\n",
    "import pandas as pd\n",
    "import numpy as np\n",
    "import os \n",
    "from tqdm import tqdm\n",
    "\n",
    "# Processing\n",
    "from sklearn.model_selection import train_test_split\n",
    "\n",
    "# algorithms\n",
    "from tensorflow import keras\n",
    "\n",
    "# plotting\n",
    "import matplotlib.pyplot as plt\n",
    "\n",
    "# Setting the seed\n",
    "import random\n",
    "import tensorflow as tf\n",
    "\n",
    "np.random.seed(490)\n",
    "os.environ['PYTHONHASHSEED'] = '0'\n",
    "random.seed(490)\n",
    "tf.random.set_seed(490)"
   ]
  },
  {
   "cell_type": "code",
   "execution_count": 12,
   "id": "acting-victory",
   "metadata": {},
   "outputs": [],
   "source": [
    "df = pd.read_csv('sp500.csv',\n",
    "                parse_dates = ['Date'],\n",
    "                index_col = 'Date')"
   ]
  },
  {
   "cell_type": "code",
   "execution_count": 12,
   "id": "structural-lyric",
   "metadata": {},
   "outputs": [
    {
     "name": "stdout",
     "output_type": "stream",
     "text": [
      "               Open     High      Low    Close\n",
      "Date                                          \n",
      "2021-03-26  3917.12  3978.19  3917.12  3974.54 \n",
      "\n",
      "             Open   High    Low  Close\n",
      "Date                                  \n",
      "1927-12-30  17.66  17.66  17.66  17.66 \n",
      "\n",
      "(23420, 4)\n"
     ]
    }
   ],
   "source": [
    "print(df.head(1), '\\n')\n",
    "print(df.tail(1), '\\n')\n",
    "print(df.shape)"
   ]
  },
  {
   "cell_type": "code",
   "execution_count": 104,
   "id": "little-thread",
   "metadata": {},
   "outputs": [
    {
     "data": {
      "image/png": "[encoded data removed]",
      "text/plain": [
       "<Figure size 432x288 with 4 Axes>"
      ]
     },
     "metadata": {
      "needs_background": "light"
     },
     "output_type": "display_data"
    }
   ],
   "source": [
    "fig, axes = plt.subplots(nrows = 2, ncols = 2)\n",
    "\n",
    "for i in range(df.shape[1]):\n",
    "    plt.subplot(2, 2, i + 1)\n",
    "    plt.plot(df.iloc[:, i])\n",
    "    plt.title(df.columns[i])\n",
    "    \n",
    "plt.tight_layout()"
   ]
  },
  {
   "cell_type": "code",
   "execution_count": 109,
   "id": "stopped-mapping",
   "metadata": {},
   "outputs": [
    {
     "data": {
      "text/plain": [
       "0.009691999999999368"
      ]
     },
     "execution_count": 109,
     "metadata": {},
     "output_type": "execute_result"
    }
   ],
   "source": [
    "8.273112 - 8.263420\t"
   ]
  },
  {
   "cell_type": "code",
   "execution_count": 113,
   "id": "persistent-aaron",
   "metadata": {},
   "outputs": [
    {
     "data": {
      "text/html": [
       "<div>\n",
       "<style scoped>\n",
       "    .dataframe tbody tr th:only-of-type {\n",
       "        vertical-align: middle;\n",
       "    }\n",
       "\n",
       "    .dataframe tbody tr th {\n",
       "        vertical-align: top;\n",
       "    }\n",
       "\n",
       "    .dataframe thead th {\n",
       "        text-align: right;\n",
       "    }\n",
       "</style>\n",
       "<table border=\"1\" class=\"dataframe\">\n",
       "  <thead>\n",
       "    <tr style=\"text-align: right;\">\n",
       "      <th></th>\n",
       "      <th>Open</th>\n",
       "      <th>High</th>\n",
       "      <th>Low</th>\n",
       "      <th>Close</th>\n",
       "    </tr>\n",
       "    <tr>\n",
       "      <th>Date</th>\n",
       "      <th></th>\n",
       "      <th></th>\n",
       "      <th></th>\n",
       "      <th></th>\n",
       "    </tr>\n",
       "  </thead>\n",
       "  <tbody>\n",
       "    <tr>\n",
       "      <th>1928-01-03</th>\n",
       "      <td>0.005647</td>\n",
       "      <td>0.005647</td>\n",
       "      <td>0.005647</td>\n",
       "      <td>0.005647</td>\n",
       "    </tr>\n",
       "    <tr>\n",
       "      <th>1928-01-04</th>\n",
       "      <td>-0.002255</td>\n",
       "      <td>-0.002255</td>\n",
       "      <td>-0.002255</td>\n",
       "      <td>-0.002255</td>\n",
       "    </tr>\n",
       "    <tr>\n",
       "      <th>1928-01-05</th>\n",
       "      <td>-0.009640</td>\n",
       "      <td>-0.009640</td>\n",
       "      <td>-0.009640</td>\n",
       "      <td>-0.009640</td>\n",
       "    </tr>\n",
       "    <tr>\n",
       "      <th>1928-01-06</th>\n",
       "      <td>0.006248</td>\n",
       "      <td>0.006248</td>\n",
       "      <td>0.006248</td>\n",
       "      <td>0.006248</td>\n",
       "    </tr>\n",
       "    <tr>\n",
       "      <th>1928-01-09</th>\n",
       "      <td>-0.009101</td>\n",
       "      <td>-0.009101</td>\n",
       "      <td>-0.009101</td>\n",
       "      <td>-0.009101</td>\n",
       "    </tr>\n",
       "    <tr>\n",
       "      <th>...</th>\n",
       "      <td>...</td>\n",
       "      <td>...</td>\n",
       "      <td>...</td>\n",
       "      <td>...</td>\n",
       "    </tr>\n",
       "    <tr>\n",
       "      <th>2021-03-22</th>\n",
       "      <td>0.000853</td>\n",
       "      <td>0.006389</td>\n",
       "      <td>0.007027</td>\n",
       "      <td>0.007001</td>\n",
       "    </tr>\n",
       "    <tr>\n",
       "      <th>2021-03-23</th>\n",
       "      <td>0.005378</td>\n",
       "      <td>-0.001564</td>\n",
       "      <td>-0.003222</td>\n",
       "      <td>-0.007660</td>\n",
       "    </tr>\n",
       "    <tr>\n",
       "      <th>2021-03-24</th>\n",
       "      <td>-0.004498</td>\n",
       "      <td>-0.001787</td>\n",
       "      <td>-0.003209</td>\n",
       "      <td>-0.005482</td>\n",
       "    </tr>\n",
       "    <tr>\n",
       "      <th>2021-03-25</th>\n",
       "      <td>-0.010409</td>\n",
       "      <td>-0.005734</td>\n",
       "      <td>-0.009188</td>\n",
       "      <td>0.005227</td>\n",
       "    </tr>\n",
       "    <tr>\n",
       "      <th>2021-03-26</th>\n",
       "      <td>0.009692</td>\n",
       "      <td>0.014853</td>\n",
       "      <td>0.016375</td>\n",
       "      <td>0.016494</td>\n",
       "    </tr>\n",
       "  </tbody>\n",
       "</table>\n",
       "<p>18353 rows × 4 columns</p>\n",
       "</div>"
      ],
      "text/plain": [
       "                Open      High       Low     Close\n",
       "Date                                              \n",
       "1928-01-03  0.005647  0.005647  0.005647  0.005647\n",
       "1928-01-04 -0.002255 -0.002255 -0.002255 -0.002255\n",
       "1928-01-05 -0.009640 -0.009640 -0.009640 -0.009640\n",
       "1928-01-06  0.006248  0.006248  0.006248  0.006248\n",
       "1928-01-09 -0.009101 -0.009101 -0.009101 -0.009101\n",
       "...              ...       ...       ...       ...\n",
       "2021-03-22  0.000853  0.006389  0.007027  0.007001\n",
       "2021-03-23  0.005378 -0.001564 -0.003222 -0.007660\n",
       "2021-03-24 -0.004498 -0.001787 -0.003209 -0.005482\n",
       "2021-03-25 -0.010409 -0.005734 -0.009188  0.005227\n",
       "2021-03-26  0.009692  0.014853  0.016375  0.016494\n",
       "\n",
       "[18353 rows x 4 columns]"
      ]
     },
     "execution_count": 113,
     "metadata": {},
     "output_type": "execute_result"
    }
   ],
   "source": [
    "df2 = df.sort_index().apply(np.log, axis = 0).diff().dropna()\n",
    "df2"
   ]
  },
  {
   "cell_type": "code",
   "execution_count": 114,
   "id": "liked-range",
   "metadata": {},
   "outputs": [
    {
     "data": {
      "image/png": "[encoded data removed]",
      "text/plain": [
       "<Figure size 432x288 with 4 Axes>"
      ]
     },
     "metadata": {
      "needs_background": "light"
     },
     "output_type": "display_data"
    }
   ],
   "source": [
    "fig, axes = plt.subplots(nrows = 2, ncols = 2)\n",
    "\n",
    "for i in range(df2.shape[1]):\n",
    "    plt.subplot(2, 2, i + 1)\n",
    "    plt.plot(df2.iloc[:, i])\n",
    "    plt.title(df2.columns[i])\n",
    "    \n",
    "plt.tight_layout()"
   ]
  },
  {
   "cell_type": "markdown",
   "id": "german-chest",
   "metadata": {},
   "source": []
  },
  {
   "cell_type": "code",
   "execution_count": 115,
   "id": "christian-dairy",
   "metadata": {},
   "outputs": [],
   "source": [
    "n = df2.shape[0]\n",
    "train_length = 20\n",
    "pred_length = 5"
   ]
  },
  {
   "cell_type": "markdown",
   "id": "prescription-october",
   "metadata": {},
   "source": []
  },
  {
   "cell_type": "code",
   "execution_count": 116,
   "id": "numeric-boards",
   "metadata": {},
   "outputs": [
    {
     "data": {
      "text/plain": [
       "(734,)"
      ]
     },
     "execution_count": 116,
     "metadata": {},
     "output_type": "execute_result"
    }
   ],
   "source": [
    "train_end = np.arange(train_length, n - pred_length, train_length + pred_length)\n",
    "train_end.shape"
   ]
  },
  {
   "cell_type": "code",
   "execution_count": 117,
   "id": "animal-subscriber",
   "metadata": {},
   "outputs": [],
   "source": [
    "df2.head(1)\n",
    "y_index = np.where(df2.columns == 'Close')"
   ]
  },
  {
   "cell_type": "code",
   "execution_count": null,
   "id": "excess-network",
   "metadata": {},
   "outputs": [],
   "source": []
  },
  {
   "cell_type": "code",
   "execution_count": 119,
   "id": "better-annex",
   "metadata": {},
   "outputs": [
    {
     "name": "stderr",
     "output_type": "stream",
     "text": [
      "100%|██████████████████████████████████████████████████████████████████████████████| 734/734 [00:00<00:00, 6342.62it/s]\n"
     ]
    }
   ],
   "source": [
    "# Creating the data set\n",
    "x = np.empty(shape = (0, train_length, n_features))\n",
    "y = np.empty(shape = (0, train_length, pred_length))\n",
    "\n",
    "for i in tqdm(range(len(train_end))):\n",
    "    data_stdz = df.iloc[(train_end[i] - train_length):(train_end[i] + pred_length)].to_numpy()\n",
    "    \n",
    "    x_next = data_stdz[:train_length, ]\n",
    "    \n",
    "    y_next = np.empty(shape = (train_length, pred_length))\n",
    "    for step in range(pred_length):\n",
    "        y_next[:, step] = data_stdz[(step + 1):(train_length + step + 1), y_index].reshape(train_length)\n",
    "\n",
    "    x = np.concatenate((x, x_next[np.newaxis, ...]), axis = 0)\n",
    "    y = np.concatenate((y, y_next[np.newaxis, ...]), axis = 0)"
   ]
  },
  {
   "cell_type": "code",
   "execution_count": 120,
   "id": "younger-integer",
   "metadata": {},
   "outputs": [
    {
     "data": {
      "text/plain": [
       "((734, 20, 4), (734, 20, 5))"
      ]
     },
     "execution_count": 120,
     "metadata": {},
     "output_type": "execute_result"
    }
   ],
   "source": [
    "x.shape, y.shape"
   ]
  },
  {
   "cell_type": "markdown",
   "id": "italic-auditor",
   "metadata": {},
   "source": [
    "# Sequence to Sequence"
   ]
  },
  {
   "cell_type": "code",
   "execution_count": 121,
   "id": "compressed-pointer",
   "metadata": {},
   "outputs": [],
   "source": [
    "indx = range(x.shape[0])"
   ]
  },
  {
   "cell_type": "code",
   "execution_count": 122,
   "id": "resistant-local",
   "metadata": {},
   "outputs": [],
   "source": [
    "i_train_full, i_test = train_test_split(indx,\n",
    "                                       train_size = 0.85,\n",
    "                                       random_state = 490)"
   ]
  },
  {
   "cell_type": "code",
   "execution_count": 123,
   "id": "congressional-central",
   "metadata": {},
   "outputs": [
    {
     "data": {
      "text/plain": [
       "(623, 111)"
      ]
     },
     "execution_count": 123,
     "metadata": {},
     "output_type": "execute_result"
    }
   ],
   "source": [
    "len(i_train_full), len(i_test)"
   ]
  },
  {
   "cell_type": "code",
   "execution_count": 124,
   "id": "protecting-cabin",
   "metadata": {},
   "outputs": [],
   "source": [
    "i_train, i_valid = train_test_split(i_train_full,\n",
    "                                   train_size = 0.85,\n",
    "                                   random_state = 490)"
   ]
  },
  {
   "cell_type": "code",
   "execution_count": 125,
   "id": "discrete-stand",
   "metadata": {},
   "outputs": [
    {
     "data": {
      "text/plain": [
       "(529, 94, 111)"
      ]
     },
     "execution_count": 125,
     "metadata": {},
     "output_type": "execute_result"
    }
   ],
   "source": [
    "len(i_train), len(i_valid), len(i_test)"
   ]
  },
  {
   "cell_type": "markdown",
   "id": "adequate-locking",
   "metadata": {},
   "source": [
    "## One Period Ahead\n",
    "\n",
    "### t+1"
   ]
  },
  {
   "cell_type": "code",
   "execution_count": 126,
   "id": "round-publisher",
   "metadata": {},
   "outputs": [],
   "source": [
    "x_train = x[i_train, ...]\n",
    "y_train = y[i_train, :, 0]\n",
    "\n",
    "x_valid = x[i_valid, ...]\n",
    "y_valid = y[i_valid, :, 0]\n",
    "\n",
    "x_test  = x[i_test, ...]\n",
    "y_test  = y[i_test, :, 0]"
   ]
  },
  {
   "cell_type": "markdown",
   "id": "absent-johnston",
   "metadata": {},
   "source": [
    "### t+3"
   ]
  },
  {
   "cell_type": "code",
   "execution_count": 127,
   "id": "happy-shoulder",
   "metadata": {},
   "outputs": [],
   "source": [
    "x_train = x[i_train, ...]\n",
    "y_train = y[i_train, :, 2]\n",
    "\n",
    "x_valid = x[i_valid, ...]\n",
    "y_valid = y[i_valid, :, 2]\n",
    "\n",
    "x_test  = x[i_test, ...]\n",
    "y_test  = y[i_test, :, 2]"
   ]
  },
  {
   "cell_type": "markdown",
   "id": "american-blogger",
   "metadata": {},
   "source": [
    "*************\n",
    "#### Baseline\n",
    "[TOP](#RNN)\n",
    "\n",
    "The baseline is to simply predict the future $y_{t+3}$ taking on the value of $y_t$."
   ]
  },
  {
   "cell_type": "code",
   "execution_count": 128,
   "id": "competent-literature",
   "metadata": {},
   "outputs": [
    {
     "data": {
      "text/plain": [
       "1120.5352067597294"
      ]
     },
     "execution_count": 128,
     "metadata": {},
     "output_type": "execute_result"
    }
   ],
   "source": [
    "yhat = x_test[:, -1, y_index]\n",
    "y_true = y_test[:, -1]\n",
    "\n",
    "rmse_base = rmse(yhat, y_true)\n",
    "rmse_base"
   ]
  },
  {
   "cell_type": "markdown",
   "id": "brutal-computer",
   "metadata": {},
   "source": [
    "*************\n",
    "#### Simple RNN\n",
    "[TOP](#RNN)\n"
   ]
  },
  {
   "cell_type": "code",
   "execution_count": 129,
   "id": "going-dublin",
   "metadata": {},
   "outputs": [
    {
     "name": "stdout",
     "output_type": "stream",
     "text": [
      "Epoch 1/20\n",
      "17/17 [==============================] - 0s 11ms/step - loss: 1064609.1250 - val_loss: 897244.3125\n",
      "Epoch 2/20\n",
      "17/17 [==============================] - 0s 3ms/step - loss: 1064608.8750 - val_loss: 897244.0625\n",
      "Epoch 3/20\n",
      "17/17 [==============================] - 0s 3ms/step - loss: 1064608.6250 - val_loss: 897243.9375\n",
      "Epoch 4/20\n",
      "17/17 [==============================] - 0s 2ms/step - loss: 1064608.5000 - val_loss: 897243.7500\n",
      "Epoch 5/20\n",
      "17/17 [==============================] - 0s 3ms/step - loss: 1064608.2500 - val_loss: 897243.5625\n",
      "Epoch 6/20\n",
      "17/17 [==============================] - 0s 2ms/step - loss: 1064608.0000 - val_loss: 897243.3750\n",
      "Epoch 7/20\n",
      "17/17 [==============================] - ETA: 0s - loss: 1911197.375 - 0s 3ms/step - loss: 1064607.7500 - val_loss: 897243.0625\n",
      "Epoch 8/20\n",
      "17/17 [==============================] - 0s 2ms/step - loss: 1064607.6250 - val_loss: 897242.8750\n",
      "Epoch 9/20\n",
      "17/17 [==============================] - 0s 3ms/step - loss: 1064607.2500 - val_loss: 897242.8125\n",
      "Epoch 10/20\n",
      "17/17 [==============================] - 0s 2ms/step - loss: 1064607.1250 - val_loss: 897242.6250\n",
      "Epoch 11/20\n",
      "17/17 [==============================] - 0s 3ms/step - loss: 1064606.8750 - val_loss: 897242.3750\n",
      "Epoch 12/20\n",
      "17/17 [==============================] - 0s 3ms/step - loss: 1064606.6250 - val_loss: 897242.1875\n",
      "Epoch 13/20\n",
      "17/17 [==============================] - 0s 2ms/step - loss: 1064606.2500 - val_loss: 897242.0625\n",
      "Epoch 14/20\n",
      "17/17 [==============================] - 0s 3ms/step - loss: 1064606.0000 - val_loss: 897241.6875\n",
      "Epoch 15/20\n",
      "17/17 [==============================] - 0s 2ms/step - loss: 1064605.7500 - val_loss: 897241.5625\n",
      "Epoch 16/20\n",
      "17/17 [==============================] - 0s 3ms/step - loss: 1064605.5000 - val_loss: 897241.3750\n",
      "Epoch 17/20\n",
      "17/17 [==============================] - 0s 2ms/step - loss: 1064605.1250 - val_loss: 897241.1250\n",
      "Epoch 18/20\n",
      "17/17 [==============================] - 0s 3ms/step - loss: 1064605.0000 - val_loss: 897240.8750\n",
      "Epoch 19/20\n",
      "17/17 [==============================] - 0s 2ms/step - loss: 1064604.6250 - val_loss: 897240.6875\n",
      "Epoch 20/20\n",
      "17/17 [==============================] - 0s 3ms/step - loss: 1064604.2500 - val_loss: 897240.3125\n"
     ]
    }
   ],
   "source": [
    "model = keras.models.Sequential([\n",
    "#     keras.layers.SimpleRNN(20, \n",
    "#                            input_shape = [train_length, n_features],\n",
    "#                            return_sequences = True)\n",
    "    keras.layers.SimpleRNN(20, \n",
    "                           return_sequences = True,\n",
    "                          input_shape = [None, n_features]),\n",
    "    keras.layers.Dense(1)\n",
    "])\n",
    "\n",
    "model.compile(loss = 'mse', \n",
    "              optimizer = keras.optimizers.SGD(learning_rate = 1e-10))\n",
    "history = model.fit(x_train, y_train,\n",
    "                   epochs = 20,\n",
    "                   validation_data = (x_valid, y_valid))"
   ]
  },
  {
   "cell_type": "code",
   "execution_count": 81,
   "id": "durable-airplane",
   "metadata": {},
   "outputs": [
    {
     "data": {
      "text/plain": [
       "array([[[ 0.18194179,  0.18194179,  0.18194179,  0.18194179],\n",
       "        [ 0.30487543,  0.30487543,  0.30487543,  0.30487543],\n",
       "        [ 0.42780907,  0.42780907,  0.42780907,  0.42780907],\n",
       "        ...,\n",
       "        [-1.04739462, -1.04739462, -1.04739462, -1.04739462],\n",
       "        [-1.04739462, -1.04739462, -1.04739462, -1.04739462],\n",
       "        [-1.41619555, -1.41619555, -1.41619555, -1.41619555]],\n",
       "\n",
       "       [[ 0.94483745,  0.82632474,  1.18150203,  1.03464947],\n",
       "        [ 0.24113397,  0.9581927 ,  0.71912727,  0.94452786],\n",
       "        [ 0.80620918,  0.36837027,  0.52829601,  0.0860361 ],\n",
       "        ...,\n",
       "        [ 0.7798038 ,  0.29813625,  0.24298763, -0.08753145],\n",
       "        [ 0.88608547,  0.41352071,  0.74165162,  0.80700897],\n",
       "        [-0.24538523,  0.69660681,  0.25800386,  0.98658462]],\n",
       "\n",
       "       [[ 1.32581006,  1.84996289,  1.62091908,  2.04012063],\n",
       "        [ 1.23530199,  1.10973206,  1.40319993,  1.13901879],\n",
       "        [ 0.69363183,  1.17069224,  0.97526919,  1.07152924],\n",
       "        ...,\n",
       "        [-0.76184827, -0.39043853, -0.51122709, -0.41836073],\n",
       "        [-0.89692124, -1.05366702, -0.80308337, -0.94803733],\n",
       "        [-0.75449736, -1.06054223, -0.85985927, -1.08255098]],\n",
       "\n",
       "       ...,\n",
       "\n",
       "       [[ 0.53951866,  1.36786802,  0.90236013,  1.47070515],\n",
       "        [-0.30644617, -0.10259386, -0.17865866,  0.27571816],\n",
       "        [ 0.60243981,  0.46252482,  0.42573993, -0.09884097],\n",
       "        ...,\n",
       "        [-0.65016137, -1.23258051, -0.76725487, -1.3746945 ],\n",
       "        [ 0.23767626, -0.43178678,  0.07740788, -0.4452806 ],\n",
       "        [-1.13113873, -0.2289558 , -0.36539862,  0.13420171]],\n",
       "\n",
       "       [[-1.75741958, -1.75741958, -1.75741958, -1.75741958],\n",
       "        [-1.65505059, -1.65505059, -1.65505059, -1.65505059],\n",
       "        [-1.30955526, -1.30955526, -1.30955526, -1.30955526],\n",
       "        ...,\n",
       "        [ 0.98734888,  0.98734888,  0.98734888,  0.98734888],\n",
       "        [ 0.89777601,  0.89777601,  0.89777601,  0.89777601],\n",
       "        [ 0.89137795,  0.89137795,  0.89137795,  0.89137795]],\n",
       "\n",
       "       [[-1.04712858, -1.04712858, -1.04712858, -1.04712858],\n",
       "        [-0.96599775, -0.96599775, -0.96599775, -0.96599775],\n",
       "        [-0.77669248, -0.77669248, -0.77669248, -0.77669248],\n",
       "        ...,\n",
       "        [ 0.49435719,  0.49435719,  0.49435719,  0.49435719],\n",
       "        [-0.07355862, -0.07355862, -0.07355862, -0.07355862],\n",
       "        [-0.80373609, -0.80373609, -0.80373609, -0.80373609]]])"
      ]
     },
     "execution_count": 81,
     "metadata": {},
     "output_type": "execute_result"
    }
   ],
   "source": [
    "\n",
    "x_train"
   ]
  }
 ],
 "metadata": {
  "kernelspec": {
   "display_name": "Python 3",
   "language": "python",
   "name": "python3"
  },
  "language_info": {
   "codemirror_mode": {
    "name": "ipython",
    "version": 3
   },
   "file_extension": ".py",
   "mimetype": "text/x-python",
   "name": "python",
   "nbconvert_exporter": "python",
   "pygments_lexer": "ipython3",
   "version": "3.9.5"
  }
 },
 "nbformat": 4,
 "nbformat_minor": 5
}
