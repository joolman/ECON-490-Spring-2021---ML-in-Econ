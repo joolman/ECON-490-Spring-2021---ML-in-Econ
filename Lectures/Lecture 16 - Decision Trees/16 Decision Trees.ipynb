{
 "cells": [
  {
   "cell_type": "markdown",
   "id": "valued-basement",
   "metadata": {},
   "source": [
    "## Decision Trees\n",
    "\n",
    "#### Table of Contents\n",
    "\n",
    "- [Preliminaries](#Preliminaries)\n",
    "- [Classification](#Classification)\n",
    "- [Pruning](#Pruning)\n",
    "- [Regression](#Regression)\n",
    "\n",
    "We can use decision trees for classification or regression:\n",
    "\n",
    "- `sklearn.tree.DecisionTreeClassifier()`\n",
    "- `sklearn.tree.DecisionTreeRegressor()`\n",
    "\n",
    "They operate in the same manner, but for different problems."
   ]
  },
  {
   "cell_type": "markdown",
   "id": "forbidden-mapping",
   "metadata": {},
   "source": [
    "*******\n",
    "# Preliminaries\n",
    "[TOP](#Decision-Trees)\n",
    "\n",
    "We are going to use the titanic data from lecture to show how to implement classification and regression decision trees."
   ]
  },
  {
   "cell_type": "code",
   "execution_count": null,
   "id": "cleared-talent",
   "metadata": {},
   "outputs": [],
   "source": [
    "# utilities\n",
    "import pandas as pd\n",
    "\n",
    "# processing\n",
    "from sklearn.metrics import plot_confusion_matrix\n",
    "from sklearn.model_selection import train_test_split, GridSearchCV\n",
    "\n",
    "# algorithms\n",
    "from sklearn.tree import DecisionTreeClassifier, DecisionTreeRegressor, plot_tree\n",
    "\n",
    "# plotting\n",
    "import matplotlib.pyplot as plt"
   ]
  },
  {
   "cell_type": "code",
   "execution_count": null,
   "id": "necessary-sense",
   "metadata": {},
   "outputs": [],
   "source": [
    "titanic = pd.read_csv('titanic3.csv')\n",
    "titanic.head()"
   ]
  },
  {
   "cell_type": "markdown",
   "id": "soviet-constant",
   "metadata": {},
   "source": [
    "Select the following variables to match [Varian (2014)](https://www.aeaweb.org/articles?id=10.1257/jep.28.2.3):\n",
    "\n",
    "- `pclass`\n",
    "- `survived`\n",
    "- `sex`\n",
    "- `age`\n",
    "- `sibsp`"
   ]
  },
  {
   "cell_type": "code",
   "execution_count": null,
   "id": "disturbed-channels",
   "metadata": {},
   "outputs": [],
   "source": [
    "df = titanic[['pclass', 'survived', 'sex', 'age', 'sibsp']]"
   ]
  },
  {
   "cell_type": "markdown",
   "id": "naked-windows",
   "metadata": {},
   "source": [
    "Check for any `NAs`. "
   ]
  },
  {
   "cell_type": "code",
   "execution_count": null,
   "id": "retired-system",
   "metadata": {},
   "outputs": [],
   "source": [
    "df.isnull().any()"
   ]
  },
  {
   "cell_type": "markdown",
   "id": "least-scope",
   "metadata": {},
   "source": [
    "If there are any `NAs`, drop them."
   ]
  },
  {
   "cell_type": "code",
   "execution_count": null,
   "id": "returning-apache",
   "metadata": {},
   "outputs": [],
   "source": [
    "df.dropna(inplace = True)"
   ]
  },
  {
   "cell_type": "markdown",
   "id": "objective-raise",
   "metadata": {},
   "source": [
    "Print the head.\n",
    "\n",
    "Notice by printing the head that we have three categorical variables:\n",
    "\n",
    "1. `survived` - our label\n",
    "2. `sex` - string\n",
    "3. `pclass` - an _**ordered**_ numeric categorical variable"
   ]
  },
  {
   "cell_type": "code",
   "execution_count": null,
   "id": "informal-discipline",
   "metadata": {},
   "outputs": [],
   "source": [
    "df.head()"
   ]
  },
  {
   "cell_type": "markdown",
   "id": "exclusive-picnic",
   "metadata": {},
   "source": [
    "Decision trees only need dummies for non-ordered categorical variables.\n",
    "Adjust `sex` to be a dummy variable."
   ]
  },
  {
   "cell_type": "code",
   "execution_count": null,
   "id": "north-korean",
   "metadata": {},
   "outputs": [],
   "source": [
    "df = df.drop(columns = 'sex').join(pd.get_dummies(df['sex'], drop_first = True))\n",
    "df.head()"
   ]
  },
  {
   "cell_type": "markdown",
   "id": "novel-masters",
   "metadata": {},
   "source": [
    "We are going to use the whole data (no train-test split).\n",
    "The reason why is because we are using the data for the entire universe of Titanic passengers.\n",
    "\n",
    "Define `x` and `y`.\n",
    "\n",
    "Convert `y` to a `string` and then a `category`."
   ]
  },
  {
   "cell_type": "code",
   "execution_count": null,
   "id": "unnecessary-agent",
   "metadata": {},
   "outputs": [],
   "source": [
    "y = df['survived'].astype('string').astype('category')\n",
    "x = df.drop(columns = 'survived') "
   ]
  },
  {
   "cell_type": "markdown",
   "id": "nominated-brand",
   "metadata": {},
   "source": [
    "***********\n",
    "# Classification\n",
    "[TOP](#Decision-Trees)\n",
    "    \n",
    "The Varian (2014) paper has 7 terminal nodes.\n",
    "Let's create it!"
   ]
  },
  {
   "cell_type": "code",
   "execution_count": null,
   "id": "western-salon",
   "metadata": {},
   "outputs": [],
   "source": [
    "plt.figure(figsize = (8, 8))\n",
    "fit_5 = DecisionTreeClassifier(random_state = 490,\n",
    "                               max_leaf_nodes = 7)\n",
    "fit_5.fit(x, y)\n",
    "\n",
    "_ = plot_tree(fit_5,\n",
    "              feature_names = x.columns,\n",
    "              class_names = y.cat.categories,\n",
    "              filled = True)"
   ]
  },
  {
   "cell_type": "markdown",
   "id": "powerful-broadway",
   "metadata": {},
   "source": [
    "*********\n",
    "# Pruning\n",
    "[TOP](#Decision-Trees)\n",
    "\n",
    "Pruning is just cross-validating the optimal number of terminal nodes.\n",
    "I hope CV is becoming familiar by now."
   ]
  },
  {
   "cell_type": "code",
   "execution_count": null,
   "id": "cutting-recall",
   "metadata": {},
   "outputs": [],
   "source": [
    "param_grid = {\n",
    "    'max_leaf_nodes': range(1, 11)\n",
    "}\n",
    "\n",
    "tree_cv = DecisionTreeClassifier(random_state = 490)\n",
    "\n",
    "grid_search = GridSearchCV(tree_cv, param_grid,\n",
    "                          cv = 5,\n",
    "                          scoring = 'accuracy',\n",
    "                          n_jobs = 10).fit(x, y)\n",
    "best = grid_search.best_params_\n",
    "best"
   ]
  },
  {
   "cell_type": "markdown",
   "id": "active-clinton",
   "metadata": {},
   "source": [
    "Fit the optimal model and plot the tree."
   ]
  },
  {
   "cell_type": "code",
   "execution_count": null,
   "id": "charitable-alfred",
   "metadata": {},
   "outputs": [],
   "source": [
    "plt.figure(figsize = (8, 8))\n",
    "fit_best = DecisionTreeClassifier(random_state = 490,\n",
    "                                 max_leaf_nodes = best['max_leaf_nodes'])\n",
    "fit_best.fit(x, y)\n",
    "\n",
    "_ = plot_tree(fit_best,\n",
    "              feature_names = x.columns,\n",
    "              class_names = y.cat.categories,\n",
    "              filled = True)"
   ]
  },
  {
   "cell_type": "markdown",
   "id": "elementary-railway",
   "metadata": {},
   "source": [
    "***********\n",
    "# Regression\n",
    "[TOP](#Decision-Trees)\n",
    "\n",
    "Regression works in the same way as classification. \n",
    "Let's do an example!\n",
    "\n",
    "Let's predict the `fare` column."
   ]
  },
  {
   "cell_type": "code",
   "execution_count": null,
   "id": "leading-munich",
   "metadata": {},
   "outputs": [],
   "source": [
    "df2 = df.join(titanic['fare'])"
   ]
  },
  {
   "cell_type": "code",
   "execution_count": null,
   "id": "decreased-brain",
   "metadata": {},
   "outputs": [],
   "source": [
    "df2.isnull().any()"
   ]
  },
  {
   "cell_type": "code",
   "execution_count": null,
   "id": "liable-popularity",
   "metadata": {},
   "outputs": [],
   "source": [
    "df2.dropna(inplace = True)"
   ]
  },
  {
   "cell_type": "code",
   "execution_count": null,
   "id": "joined-korean",
   "metadata": {},
   "outputs": [],
   "source": [
    "y = df2['fare']\n",
    "x = df2.drop(columns = 'fare')"
   ]
  },
  {
   "cell_type": "markdown",
   "id": "color-today",
   "metadata": {},
   "source": [
    "Let's fit a regression decision tree with five terminal nodes."
   ]
  },
  {
   "cell_type": "code",
   "execution_count": null,
   "id": "reverse-objective",
   "metadata": {},
   "outputs": [],
   "source": [
    "plt.figure(figsize = (8, 10))\n",
    "fit_5 = DecisionTreeRegressor(random_state = 490,\n",
    "                               max_leaf_nodes = 5)\n",
    "fit_5.fit(x, y)\n",
    "\n",
    "_ = plot_tree(fit_5,\n",
    "              feature_names = x.columns,\n",
    "              filled = True)"
   ]
  },
  {
   "cell_type": "markdown",
   "id": "dutch-target",
   "metadata": {},
   "source": [
    "We could prune this tree, however, it is identical to the clasification decision tree.\n",
    "\n",
    "So, eh?"
   ]
  }
 ],
 "metadata": {
  "kernelspec": {
   "display_name": "Python 3",
   "language": "python",
   "name": "python3"
  },
  "language_info": {
   "codemirror_mode": {
    "name": "ipython",
    "version": 3
   },
   "file_extension": ".py",
   "mimetype": "text/x-python",
   "name": "python",
   "nbconvert_exporter": "python",
   "pygments_lexer": "ipython3",
   "version": "3.8.5"
  }
 },
 "nbformat": 4,
 "nbformat_minor": 5
}
