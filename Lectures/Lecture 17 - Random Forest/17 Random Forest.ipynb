{
 "cells": [
  {
   "cell_type": "markdown",
   "metadata": {},
   "source": [
    "## Random Forest\n",
    "\n",
    "#### Table of Contents\n",
    "\n",
    "- [Preliminaries](#Preliminaries)\n",
    "- [Null Model](#Null-Model)\n",
    "- [Decision Tree](#Decision-Tree)\n",
    "- [Bagging](#Bagging)\n",
    "- [Random Forest](#Random-Forest)\n",
    "- [Comparison](#Comparison)\n",
    "\n",
    "First, let's create some functions to help us in the future."
   ]
  },
  {
   "cell_type": "markdown",
   "metadata": {},
   "source": [
    "```\n",
    "def acc(yhat, y):\n",
    "    import numpy as np\n",
    "    acc = np.mean(yhat == y)\n",
    "    return acc\n",
    "    \n",
    "def rmse(yhat, y):\n",
    "    import numpy as np\n",
    "    RMSE = np.sqrt(np.mean(  (yhat - y)**2  ))\n",
    "    return RMSE\n",
    "```"
   ]
  },
  {
   "cell_type": "code",
   "execution_count": null,
   "metadata": {},
   "outputs": [],
   "source": [
    "%run metrics.py"
   ]
  },
  {
   "cell_type": "code",
   "execution_count": null,
   "metadata": {},
   "outputs": [],
   "source": [
    "%whos"
   ]
  },
  {
   "cell_type": "markdown",
   "metadata": {},
   "source": [
    "***********\n",
    "# Preliminaries\n",
    "[TOP](#Random-Forest)\n",
    "\n",
    "We will be comparing three models predicting the label `urate_bin`\n",
    "\n",
    "1. decision tree\n",
    "2. bagged decision trees\n",
    "3. random forest\n",
    "\n",
    "Loading the packages and prepping the data."
   ]
  },
  {
   "cell_type": "code",
   "execution_count": null,
   "metadata": {},
   "outputs": [],
   "source": [
    "# utilities\n",
    "import pandas as pd\n",
    "\n",
    "# processing\n",
    "from sklearn.metrics import plot_confusion_matrix\n",
    "from sklearn.model_selection import GridSearchCV, train_test_split\n",
    "\n",
    "# algorithms\n",
    "from sklearn.tree import DecisionTreeClassifier\n",
    "from sklearn.ensemble import RandomForestClassifier, BaggingClassifier\n",
    "\n",
    "# plotting\n",
    "import matplotlib.pyplot as plt\n",
    "import seaborn as sns"
   ]
  },
  {
   "cell_type": "code",
   "execution_count": null,
   "metadata": {},
   "outputs": [],
   "source": [
    "df = pd.read_pickle('C:/Users/johnj/Documents/Data/aml in econ 02 spring 2021/class data/class_data.pkl')\n",
    "# A note about why we are not converting year"
   ]
  },
  {
   "cell_type": "code",
   "execution_count": null,
   "metadata": {},
   "outputs": [],
   "source": [
    "y = df['urate_bin'].astype('category')\n",
    "x = df.drop(columns = 'urate_bin')\n",
    "\n",
    "x_train, x_test, y_train, y_test = train_test_split(x, y,\n",
    "                                                   train_size = 2/3,\n",
    "                                                   random_state = 490)"
   ]
  },
  {
   "cell_type": "markdown",
   "metadata": {},
   "source": [
    "****\n",
    "# Null Model\n",
    "[TOP](#Random-Forest)"
   ]
  },
  {
   "cell_type": "code",
   "execution_count": null,
   "metadata": {},
   "outputs": [],
   "source": [
    "yhat_null = y_train.value_counts().index[0]\n",
    "acc_null = acc(yhat_null, y_test)\n",
    "acc_null"
   ]
  },
  {
   "cell_type": "markdown",
   "metadata": {},
   "source": [
    "****************\n",
    "# Decision Tree\n",
    "[TOP](#Random-Forest)\n",
    "\n",
    "To compare the tree-based models, we are going to start with a single decision tree classifier."
   ]
  },
  {
   "cell_type": "code",
   "execution_count": null,
   "metadata": {},
   "outputs": [],
   "source": [
    "param_grid = {\n",
    "    'max_leaf_nodes': range(1,40)\n",
    "}\n",
    "\n",
    "dtc_cv = DecisionTreeClassifier(random_state = 490)\n",
    "\n",
    "grid_search = GridSearchCV(dtc_cv, param_grid,\n",
    "                          cv = 5, \n",
    "                          scoring = 'accuracy',\n",
    "                          n_jobs = 10, \n",
    "                          verbose = 2)\n",
    "grid_search.fit(x_train, y_train)\n",
    "best_dtc = grid_search.best_params_\n",
    "best_dtc"
   ]
  },
  {
   "cell_type": "code",
   "execution_count": null,
   "metadata": {},
   "outputs": [],
   "source": [
    "fit_dtc = DecisionTreeClassifier(random_state = 490,\n",
    "                                 max_leaf_nodes = best_dtc['max_leaf_nodes'])\n",
    "fit_dtc.fit(x_train, y_train)\n",
    "acc_dtc = fit_dtc.score(x_test, y_test)\n",
    "acc_dtc"
   ]
  },
  {
   "cell_type": "markdown",
   "metadata": {},
   "source": [
    "**********\n",
    "# Bagging\n",
    "[TOP](#Random-Forest)\n",
    "\n",
    "Remember that bagged trees consider ALL features."
   ]
  },
  {
   "cell_type": "code",
   "execution_count": null,
   "metadata": {},
   "outputs": [],
   "source": [
    "fit_bc = BaggingClassifier(n_estimators = 500,\n",
    "                          random_state = 490,\n",
    "                          oob_score = True,\n",
    "                          n_jobs = 10,\n",
    "                          verbose = 1)\n",
    "fit_bc.fit(x_train, y_train)"
   ]
  },
  {
   "cell_type": "code",
   "execution_count": null,
   "metadata": {},
   "outputs": [],
   "source": [
    "fit_bc.oob_score_"
   ]
  },
  {
   "cell_type": "code",
   "execution_count": null,
   "metadata": {},
   "outputs": [],
   "source": [
    "fit_bc.score(x_test, y_test)"
   ]
  },
  {
   "cell_type": "markdown",
   "metadata": {},
   "source": [
    "Alternatively..."
   ]
  },
  {
   "cell_type": "code",
   "execution_count": null,
   "metadata": {},
   "outputs": [],
   "source": [
    "fit_bag_tree = RandomForestClassifier(n_estimators = 500, \n",
    "                                  max_features = None,\n",
    "                                  oob_score = True,\n",
    "                                  n_jobs = 10,\n",
    "                                  random_state = 490,\n",
    "                                  verbose = 1)\n",
    "fit_bag_tree.fit(x_train, y_train)"
   ]
  },
  {
   "cell_type": "code",
   "execution_count": null,
   "metadata": {},
   "outputs": [],
   "source": [
    "fit_bag_tree.oob_score_"
   ]
  },
  {
   "cell_type": "code",
   "execution_count": null,
   "metadata": {},
   "outputs": [],
   "source": [
    "acc_bt = fit_bag_tree.score(x_test, y_test)\n",
    "acc_bt"
   ]
  },
  {
   "cell_type": "markdown",
   "metadata": {},
   "source": [
    "*********\n",
    "# Random Forest\n",
    "[TOP](#Random-Forest)\n",
    "\n",
    "\n",
    "Let's see if we can beat the bagged model!"
   ]
  },
  {
   "cell_type": "code",
   "execution_count": null,
   "metadata": {},
   "outputs": [],
   "source": [
    "fit_rf = RandomForestClassifier(n_estimators = 500, \n",
    "                                  max_features = 'sqrt',\n",
    "                                  oob_score = True,\n",
    "                                  n_jobs = 10,\n",
    "                                  random_state = 490,\n",
    "                                  verbose = 1)\n",
    "fit_rf.fit(x_train, y_train)"
   ]
  },
  {
   "cell_type": "code",
   "execution_count": null,
   "metadata": {},
   "outputs": [],
   "source": [
    "fit_rf.oob_score_"
   ]
  },
  {
   "cell_type": "code",
   "execution_count": null,
   "metadata": {},
   "outputs": [],
   "source": [
    "acc_fit_rf = fit_rf.score(x_test, y_test)\n",
    "acc_fit_rf"
   ]
  },
  {
   "cell_type": "code",
   "execution_count": null,
   "metadata": {},
   "outputs": [],
   "source": [
    "df_plot = pd.DataFrame(fit_rf.feature_importances_,\n",
    "            index = x_train.columns,\n",
    "            columns = ['Feature Importance']).sort_values(by = 'Feature Importance',\n",
    "                                                         ascending = False)"
   ]
  },
  {
   "cell_type": "code",
   "execution_count": null,
   "metadata": {},
   "outputs": [],
   "source": [
    "sns.barplot(data = df_plot,\n",
    "           x = 'Feature Importance',\n",
    "           y = df_plot.index,\n",
    "           color = 'darkorange')\n",
    "plt.show()"
   ]
  },
  {
   "cell_type": "markdown",
   "metadata": {},
   "source": [
    "************\n",
    "# Comparison\n",
    "[TOP](#Random-Forest)"
   ]
  },
  {
   "cell_type": "code",
   "execution_count": null,
   "metadata": {},
   "outputs": [],
   "source": [
    "sk_fig = plot_confusion_matrix(fit_dtc, x_test, y_test)\n",
    "plt.title('Decision Tree')\n",
    "\n",
    "plt.show()"
   ]
  },
  {
   "cell_type": "code",
   "execution_count": null,
   "metadata": {},
   "outputs": [],
   "source": [
    "sk_fig = plot_confusion_matrix(fit_bag_tree, x_test, y_test)\n",
    "plt.title('Bagged Tree')\n",
    "\n",
    "plt.show() \n",
    "# Better at predicting similar when similar\n",
    "# Worse at predicting similar when lower or higher"
   ]
  },
  {
   "cell_type": "code",
   "execution_count": null,
   "metadata": {},
   "outputs": [],
   "source": [
    "(418+401)/(418+401+1008)"
   ]
  },
  {
   "cell_type": "code",
   "execution_count": null,
   "metadata": {},
   "outputs": [],
   "source": [
    "sk_fig = plot_confusion_matrix(fit_rf, x_test, y_test)\n",
    "plt.title('Random Forest')\n",
    "\n",
    "plt.show()\n",
    "# Better at predicting similar when similar\n",
    "# Worse at predicting similar when lower or higher"
   ]
  },
  {
   "cell_type": "code",
   "execution_count": null,
   "metadata": {},
   "outputs": [],
   "source": [
    "(293+292)/(293+292+838)"
   ]
  },
  {
   "cell_type": "markdown",
   "metadata": {},
   "source": [
    "************\n",
    "# `sklearn` is pretty cool \n",
    "So, check this out"
   ]
  },
  {
   "cell_type": "code",
   "execution_count": null,
   "metadata": {},
   "outputs": [],
   "source": [
    "classifiers = [DecisionTreeClassifier(max_leaf_nodes = best_dtc['max_leaf_nodes']),\n",
    "              BaggingClassifier(n_estimators = 500,\n",
    "                          random_state = 490,\n",
    "                          n_jobs = 10),\n",
    "              RandomForestClassifier(n_estimators = 500, \n",
    "                                  max_features = 'sqrt',\n",
    "                                  n_jobs = 10,\n",
    "                                  random_state = 490)]"
   ]
  },
  {
   "cell_type": "code",
   "execution_count": null,
   "metadata": {},
   "outputs": [],
   "source": [
    "%%time\n",
    "for clf in classifiers:\n",
    "    clf.fit(x_train, y_train)"
   ]
  },
  {
   "cell_type": "code",
   "execution_count": null,
   "metadata": {},
   "outputs": [],
   "source": [
    "fig, ax = plt.subplots(nrows = 1, ncols = 3)\n",
    "plt.close() # don't show"
   ]
  },
  {
   "cell_type": "code",
   "execution_count": null,
   "metadata": {},
   "outputs": [],
   "source": [
    "type(ax)\n",
    "type(ax).__name__\n",
    "ax.shape\n",
    "ax[0]\n",
    "ax.flatten() # not necessary in this case\n",
    "ax == ax.flatten()"
   ]
  },
  {
   "cell_type": "code",
   "execution_count": null,
   "metadata": {},
   "outputs": [],
   "source": [
    "fig, ax = plt.subplots(nrows = 1, ncols = 3,\n",
    "                       figsize = (16, 4))\n",
    "\n",
    "for clf, axis in zip(classifiers, ax.flatten()):\n",
    "    plot_confusion_matrix(clf,\n",
    "                         x_test,\n",
    "                         y_test,\n",
    "                         ax = axis)\n",
    "    axis.title.set_text(type(clf).__name__)\n",
    "\n",
    "plt.tight_layout()"
   ]
  }
 ],
 "metadata": {
  "kernelspec": {
   "display_name": "Python 3",
   "language": "python",
   "name": "python3"
  },
  "language_info": {
   "codemirror_mode": {
    "name": "ipython",
    "version": 3
   },
   "file_extension": ".py",
   "mimetype": "text/x-python",
   "name": "python",
   "nbconvert_exporter": "python",
   "pygments_lexer": "ipython3",
   "version": "3.9.5"
  }
 },
 "nbformat": 4,
 "nbformat_minor": 4
}
