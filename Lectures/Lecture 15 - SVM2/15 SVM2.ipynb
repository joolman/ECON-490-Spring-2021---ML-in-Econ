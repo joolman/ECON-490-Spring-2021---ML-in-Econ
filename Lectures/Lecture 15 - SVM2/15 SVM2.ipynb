{
 "cells": [
  {
   "cell_type": "markdown",
   "metadata": {},
   "source": [
    "## Support Vector Machines - Part 2\n",
    "\n",
    "#### Table of Contents\n",
    "\n",
    "* [Preliminaries](#Preliminaries)\n",
    "* [Null Model](#Null-Model)\n",
    "* [Polynomial Kernel](#Polynomial-Kernel)\n",
    "* [Gaussian Radial Basis Function Kernel](#Gaussian-Radial-Basis-Function-Kernel)\n",
    "* [Comparison](#Comparison)\n",
    "\n",
    "Takeaways from this script:\n",
    "\n",
    "1. complex kernels are computationally difficult to omptimize\n",
    "2. a linear kernel is a polynomial kernel\n",
    "\n",
    "****\n",
    "# Preliminaries\n",
    "[TOP](#Support-Vector-Machines---Part-2)\n",
    "\n",
    "Unlike the SVM1 lecture, we will be using the `SVC()` for the more flexible kernels.\n",
    "We will be predicting the multi-class `urate_bin`."
   ]
  },
  {
   "cell_type": "code",
   "execution_count": null,
   "metadata": {},
   "outputs": [],
   "source": [
    "# utilities\n",
    "import numpy as np\n",
    "import pandas as pd\n",
    "\n",
    "# processing\n",
    "from sklearn.metrics import plot_confusion_matrix\n",
    "from sklearn.model_selection import GridSearchCV, train_test_split\n",
    "\n",
    "# algorithms\n",
    "from sklearn.svm import SVC, LinearSVC"
   ]
  },
  {
   "cell_type": "code",
   "execution_count": null,
   "metadata": {},
   "outputs": [],
   "source": [
    "df = pd.read_csv('C:/Users/johnj/Documents/Data/aml in econ 02 spring 2021/class data/class_data.csv')\n",
    "df.head(1)\n",
    "df.set_index(['fips', 'GeoName'])\n",
    "df.head(1)\n",
    "df.set_index(['fips', 'GeoName'], inplace = True)\n",
    "df.head(1)"
   ]
  },
  {
   "cell_type": "code",
   "execution_count": null,
   "metadata": {},
   "outputs": [],
   "source": [
    "df = pd.read_csv('C:/Users/johnj/Documents/Data/aml in econ 02 spring 2021/class data/class_data.csv',\n",
    "           index_col = ['fips', 'GeoName'])"
   ]
  },
  {
   "cell_type": "code",
   "execution_count": null,
   "metadata": {},
   "outputs": [],
   "source": [
    "df.shape"
   ]
  },
  {
   "cell_type": "code",
   "execution_count": null,
   "metadata": {},
   "outputs": [],
   "source": [
    "df.drop(columns = ['year']).join([\n",
    "    pd.get_dummies(df['year'], drop_first = True)\n",
    "]).shape\n",
    "# WTF!?"
   ]
  },
  {
   "cell_type": "code",
   "execution_count": null,
   "metadata": {},
   "outputs": [],
   "source": [
    "left  = df.drop(columns = ['year'])\n",
    "right = pd.get_dummies(df.year, drop_first = True)"
   ]
  },
  {
   "cell_type": "code",
   "execution_count": null,
   "metadata": {},
   "outputs": [],
   "source": [
    "pd.merge(left, right, left_index = True, right_index = True).shape\n",
    "# Whaaa?!?!"
   ]
  },
  {
   "cell_type": "code",
   "execution_count": null,
   "metadata": {},
   "outputs": [],
   "source": [
    "left.index.equals(right.index)\n",
    "# WT double F?!?!!?!"
   ]
  },
  {
   "cell_type": "code",
   "execution_count": null,
   "metadata": {},
   "outputs": [],
   "source": [
    "pd.concat([left, right], axis = 1).shape\n",
    "# FINE!!!!!!!!!!"
   ]
  },
  {
   "cell_type": "code",
   "execution_count": null,
   "metadata": {},
   "outputs": [],
   "source": [
    "df_prepped = pd.concat([left, right], axis = 1)"
   ]
  },
  {
   "cell_type": "code",
   "execution_count": null,
   "metadata": {},
   "outputs": [],
   "source": [
    "y = df_prepped['urate_bin']\n",
    "x = df_prepped.drop(columns = 'urate_bin')\n",
    "\n",
    "x_train, x_test, y_train, y_test = train_test_split(x, y,\n",
    "                                                   train_size = 1e-2,\n",
    "                                                   random_state = 490)\n",
    "\n",
    "x_train = x_train.apply(lambda x: (x - np.mean(x))/np.std(x))\n",
    "x_test  = x_test.apply(lambda x: (x - np.mean(x))/np.std(x))"
   ]
  },
  {
   "cell_type": "markdown",
   "metadata": {},
   "source": [
    "**********\n",
    "# Null Model \n",
    "[TOP](#Support-Vector-Machines---Part-1)"
   ]
  },
  {
   "cell_type": "code",
   "execution_count": null,
   "metadata": {},
   "outputs": [],
   "source": [
    "yhat_null = y_train.value_counts().index[0]\n",
    "acc_null = np.mean(yhat_null == y_test)\n",
    "acc_null"
   ]
  },
  {
   "cell_type": "markdown",
   "metadata": {},
   "source": [
    "*************\n",
    "# Polynomial Kernel \n",
    "[TOP](#Support-Vector-Machines---Part-2)\n",
    "\n",
    "Recall that the polynomial kernel adds two additional hyperparameters:\n",
    "\n",
    "- `d` - the degree of the polynomial kernel\n",
    "- `coef0` - the progressive weight on larger terms\n",
    "\n",
    "Here we are going to perform a grid search to identify the best value of these hyperparameters"
   ]
  },
  {
   "cell_type": "code",
   "execution_count": null,
   "metadata": {},
   "outputs": [],
   "source": [
    "np.linspace(1, 4, num = 4)"
   ]
  },
  {
   "cell_type": "code",
   "execution_count": null,
   "metadata": {},
   "outputs": [],
   "source": [
    "np.arange(1, 4, step = 1)"
   ]
  },
  {
   "cell_type": "code",
   "execution_count": null,
   "metadata": {},
   "outputs": [],
   "source": [
    "%%time\n",
    "param_grid = {\n",
    "    'C': 10.0**np.arange(-1, 4, step = 1),\n",
    "    'degree': [1, 2],\n",
    "    'coef0': 10.0**np.arange(-2, 0, step = 1)\n",
    "}\n",
    "\n",
    "svmc = SVC(kernel = 'poly')\n",
    "\n",
    "grid_search = GridSearchCV(svmc, param_grid,\n",
    "                          cv = 5,\n",
    "                          scoring = 'accuracy')\n",
    "\n",
    "grid_search.fit(x_train, y_train)\n",
    "best = grid_search.best_params_\n",
    "best"
   ]
  },
  {
   "cell_type": "markdown",
   "metadata": {},
   "source": [
    "How many models did we fit?"
   ]
  },
  {
   "cell_type": "code",
   "execution_count": null,
   "metadata": {},
   "outputs": [],
   "source": [
    "len(param_grid['C'])*len(param_grid['degree'])*len(param_grid['coef0'])*5"
   ]
  },
  {
   "cell_type": "markdown",
   "metadata": {},
   "source": [
    "# `coef0` is a corner solution. Why is this okay?"
   ]
  },
  {
   "cell_type": "code",
   "execution_count": null,
   "metadata": {},
   "outputs": [],
   "source": [
    "%%time\n",
    "param_grid = {\n",
    "    'C': 10.0**np.linspace(-5, 2, num = 20)\n",
    "}\n",
    "\n",
    "svc_cv = LinearSVC(dual = False)\n",
    "\n",
    "grid_search = GridSearchCV(svc_cv, param_grid,\n",
    "                          cv = 5,\n",
    "                          scoring = 'accuracy')\n",
    "\n",
    "grid_search.fit(x_train, y_train)\n",
    "best_poly = grid_search.best_params_\n",
    "best_poly"
   ]
  },
  {
   "cell_type": "code",
   "execution_count": null,
   "metadata": {},
   "outputs": [],
   "source": [
    "svmc_poly = LinearSVC(C = best_poly['C'],\n",
    "                        dual = False).fit(x_train, y_train)\n",
    "svmc_poly.score(x_test, y_test)"
   ]
  },
  {
   "cell_type": "markdown",
   "metadata": {},
   "source": [
    "********\n",
    "# Gaussian RBF Kernel\n",
    "[TOP](#Support-Vector-Machines---Part-2)\n",
    "\n",
    "Find the optimal values of `C` and `gamma` to the nearest magnitude ($10^n$)"
   ]
  },
  {
   "cell_type": "code",
   "execution_count": null,
   "metadata": {},
   "outputs": [],
   "source": [
    "%%time\n",
    "param_grid = {\n",
    "    'C': 10.0**np.arange(-1, 4, step = 1),\n",
    "    'gamma': 10.0**np.arange(-7 , -3, step = 1)\n",
    "}\n",
    "\n",
    "svmc = SVC(kernel = 'rbf')\n",
    "\n",
    "grid_search = GridSearchCV(svmc, param_grid,\n",
    "                          cv = 5,\n",
    "                          scoring = 'accuracy')\n",
    "\n",
    "grid_search.fit(x_train, y_train)\n",
    "best = grid_search.best_params_\n",
    "best"
   ]
  },
  {
   "cell_type": "markdown",
   "metadata": {},
   "source": [
    "How many models did we fit?"
   ]
  },
  {
   "cell_type": "code",
   "execution_count": null,
   "metadata": {},
   "outputs": [],
   "source": [
    "len(param_grid['C'])*len(param_grid['gamma'])*5"
   ]
  },
  {
   "cell_type": "markdown",
   "metadata": {},
   "source": [
    "Refit the model on the full training data"
   ]
  },
  {
   "cell_type": "code",
   "execution_count": null,
   "metadata": {},
   "outputs": [],
   "source": [
    "svmc_rbf = SVC(kernel = 'rbf', C = best['C'], gamma = best['gamma'])\n",
    "svmc_rbf.fit(x_train, y_train)"
   ]
  },
  {
   "cell_type": "markdown",
   "metadata": {},
   "source": [
    "Print the model accuracy. "
   ]
  },
  {
   "cell_type": "code",
   "execution_count": null,
   "metadata": {},
   "outputs": [],
   "source": [
    "svmc_rbf.score(x_test, y_test)"
   ]
  },
  {
   "cell_type": "markdown",
   "metadata": {},
   "source": [
    "Is it better than the polynomial kernel?"
   ]
  },
  {
   "cell_type": "raw",
   "metadata": {},
   "source": [
    "Nope"
   ]
  },
  {
   "cell_type": "markdown",
   "metadata": {},
   "source": [
    "Describe the tuned models flexibility and permitted margin violations"
   ]
  },
  {
   "cell_type": "raw",
   "metadata": {},
   "source": [
    "C is high => fewer margin violations \n",
    "gamma is low => relaitvely inflexibile"
   ]
  },
  {
   "cell_type": "markdown",
   "metadata": {},
   "source": [
    "****\n",
    "# Comparison\n",
    "[TOP](#Support-Vector-Machines---Part-2)\n",
    "\n",
    "Let's plot things this time."
   ]
  },
  {
   "cell_type": "code",
   "execution_count": null,
   "metadata": {},
   "outputs": [],
   "source": [
    "plot_confusion_matrix(svmc_poly, x_test, y_test)"
   ]
  },
  {
   "cell_type": "code",
   "execution_count": null,
   "metadata": {},
   "outputs": [],
   "source": [
    "plot_confusion_matrix(svmc_rbf, x_test, y_test)"
   ]
  }
 ],
 "metadata": {
  "kernelspec": {
   "display_name": "Python 3",
   "language": "python",
   "name": "python3"
  },
  "language_info": {
   "codemirror_mode": {
    "name": "ipython",
    "version": 3
   },
   "file_extension": ".py",
   "mimetype": "text/x-python",
   "name": "python",
   "nbconvert_exporter": "python",
   "pygments_lexer": "ipython3",
   "version": "3.8.5"
  }
 },
 "nbformat": 4,
 "nbformat_minor": 5
}
